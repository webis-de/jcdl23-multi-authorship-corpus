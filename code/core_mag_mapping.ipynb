{
 "cells": [
  {
   "cell_type": "markdown",
   "metadata": {},
   "source": [
    "## CORE-MAG Mapping"
   ]
  },
  {
   "cell_type": "markdown",
   "metadata": {},
   "source": [
    "Notebook loads the official MAG-CORE mapping provided by CORE and checks how many of the entries included in our corpus are mapped there"
   ]
  },
  {
   "cell_type": "code",
   "execution_count": 1,
   "metadata": {
    "tags": []
   },
   "outputs": [
    {
     "name": "stderr",
     "output_type": "stream",
     "text": [
      "/opt/conda/lib/python3.7/site-packages/IPython/core/interactiveshell.py:3170: DtypeWarning: Columns (0) have mixed types.Specify dtype option on import or set low_memory=False.\n",
      "  interactivity=interactivity, compiler=compiler, result=result)\n"
     ]
    }
   ],
   "source": [
    "import pandas as pd\n",
    "from pyspark import SparkContext\n",
    "from glob import glob\n",
    "from os.path import basename, exists, isfile, isdir, sep\n",
    "\n",
    "\n",
    "\n",
    "matchtable = pd.read_csv('results/mag_match/2019-04-core-mag.csv.gz', compression='gzip',\n",
    "                   error_bad_lines=False)"
   ]
  },
  {
   "cell_type": "code",
   "execution_count": 2,
   "metadata": {
    "execution": {
     "iopub.execute_input": "2021-05-19T09:45:32.793231Z",
     "iopub.status.busy": "2021-05-19T09:45:32.792611Z",
     "iopub.status.idle": "2021-05-19T09:45:32.836850Z",
     "shell.execute_reply": "2021-05-19T09:45:32.835926Z",
     "shell.execute_reply.started": "2021-05-19T09:45:32.793153Z"
    }
   },
   "outputs": [
    {
     "data": {
      "text/html": [
       "<div>\n",
       "<style scoped>\n",
       "    .dataframe tbody tr th:only-of-type {\n",
       "        vertical-align: middle;\n",
       "    }\n",
       "\n",
       "    .dataframe tbody tr th {\n",
       "        vertical-align: top;\n",
       "    }\n",
       "\n",
       "    .dataframe thead th {\n",
       "        text-align: right;\n",
       "    }\n",
       "</style>\n",
       "<table border=\"1\" class=\"dataframe\">\n",
       "  <thead>\n",
       "    <tr style=\"text-align: right;\">\n",
       "      <th></th>\n",
       "      <th>coreid</th>\n",
       "      <th>magid</th>\n",
       "    </tr>\n",
       "  </thead>\n",
       "  <tbody>\n",
       "    <tr>\n",
       "      <th>0</th>\n",
       "      <td>189822704</td>\n",
       "      <td>2145309562</td>\n",
       "    </tr>\n",
       "    <tr>\n",
       "      <th>1</th>\n",
       "      <td>34481880</td>\n",
       "      <td>2169643236</td>\n",
       "    </tr>\n",
       "    <tr>\n",
       "      <th>2</th>\n",
       "      <td>189822815</td>\n",
       "      <td>2036354709</td>\n",
       "    </tr>\n",
       "    <tr>\n",
       "      <th>3</th>\n",
       "      <td>4524506</td>\n",
       "      <td>2080979785</td>\n",
       "    </tr>\n",
       "    <tr>\n",
       "      <th>4</th>\n",
       "      <td>141621795</td>\n",
       "      <td>1986107543</td>\n",
       "    </tr>\n",
       "    <tr>\n",
       "      <th>...</th>\n",
       "      <td>...</td>\n",
       "      <td>...</td>\n",
       "    </tr>\n",
       "    <tr>\n",
       "      <th>8941766</th>\n",
       "      <td>78385961</td>\n",
       "      <td>2522383157</td>\n",
       "    </tr>\n",
       "    <tr>\n",
       "      <th>8941767</th>\n",
       "      <td>153809810</td>\n",
       "      <td>2324802629</td>\n",
       "    </tr>\n",
       "    <tr>\n",
       "      <th>8941768</th>\n",
       "      <td>150799886</td>\n",
       "      <td>2315671416</td>\n",
       "    </tr>\n",
       "    <tr>\n",
       "      <th>8941769</th>\n",
       "      <td>150672589</td>\n",
       "      <td>2333915414</td>\n",
       "    </tr>\n",
       "    <tr>\n",
       "      <th>8941770</th>\n",
       "      <td>90902556</td>\n",
       "      <td>2586693689</td>\n",
       "    </tr>\n",
       "  </tbody>\n",
       "</table>\n",
       "<p>8941771 rows × 2 columns</p>\n",
       "</div>"
      ],
      "text/plain": [
       "            coreid       magid\n",
       "0        189822704  2145309562\n",
       "1         34481880  2169643236\n",
       "2        189822815  2036354709\n",
       "3          4524506  2080979785\n",
       "4        141621795  1986107543\n",
       "...            ...         ...\n",
       "8941766   78385961  2522383157\n",
       "8941767  153809810  2324802629\n",
       "8941768  150799886  2315671416\n",
       "8941769  150672589  2333915414\n",
       "8941770   90902556  2586693689\n",
       "\n",
       "[8941771 rows x 2 columns]"
      ]
     },
     "execution_count": 2,
     "metadata": {},
     "output_type": "execute_result"
    }
   ],
   "source": [
    "matchtable"
   ]
  },
  {
   "cell_type": "code",
   "execution_count": 4,
   "metadata": {
    "execution": {
     "iopub.execute_input": "2021-05-19T08:57:18.104432Z",
     "iopub.status.busy": "2021-05-19T08:57:18.104051Z",
     "iopub.status.idle": "2021-05-19T08:57:27.069419Z",
     "shell.execute_reply": "2021-05-19T08:57:27.067902Z",
     "shell.execute_reply.started": "2021-05-19T08:57:18.104386Z"
    }
   },
   "outputs": [],
   "source": [
    "\n",
    "sc = SparkContext(master = 'local[8]')\n",
    "path = \"/home/jovyan/mnt/ceph/storage/data-in-progress/data-teaching/theses/wstud-thesis-sauer/thesis-sauer/process_2/core_sets/english_language/2021_04_07_17_27_13/batches\"\n",
    "if isdir(path):\n",
    "    filepaths = sorted(glob(path + sep + \"*\"))"
   ]
  },
  {
   "cell_type": "markdown",
   "metadata": {},
   "source": [
    "All Ids of the english full text CORE entries we identified are loaded."
   ]
  },
  {
   "cell_type": "code",
   "execution_count": null,
   "metadata": {
    "tags": []
   },
   "outputs": [],
   "source": [
    "from datetime import datetime\n",
    "from json import loads\n",
    "\n",
    "print(datetime.now())\n",
    "ids = []\n",
    "for p in filepaths:\n",
    "    print(basename(p))\n",
    "    rdd = sc.textFile(f\"file://{p}\")\n",
    "    data = rdd.map(lambda line: loads(line)['coreId'])\n",
    "    ids = ids + data.collect()\n",
    "    print(datetime.now())"
   ]
  },
  {
   "cell_type": "code",
   "execution_count": 18,
   "metadata": {
    "execution": {
     "iopub.execute_input": "2021-04-19T18:11:19.300757Z",
     "iopub.status.busy": "2021-04-19T18:11:19.300392Z",
     "iopub.status.idle": "2021-04-19T18:11:26.210055Z",
     "shell.execute_reply": "2021-04-19T18:11:26.208772Z",
     "shell.execute_reply.started": "2021-04-19T18:11:19.300716Z"
    }
   },
   "outputs": [],
   "source": [
    "s = set(matchtable.coreid)\n",
    "l = [True if x in s else False for x in ids]"
   ]
  },
  {
   "cell_type": "markdown",
   "metadata": {},
   "source": [
    "Number of english language entries:"
   ]
  },
  {
   "cell_type": "code",
   "execution_count": 10,
   "metadata": {
    "execution": {
     "iopub.execute_input": "2021-04-19T18:06:54.132659Z",
     "iopub.status.busy": "2021-04-19T18:06:54.132313Z",
     "iopub.status.idle": "2021-04-19T18:06:54.139282Z",
     "shell.execute_reply": "2021-04-19T18:06:54.138232Z",
     "shell.execute_reply.started": "2021-04-19T18:06:54.132622Z"
    }
   },
   "outputs": [
    {
     "data": {
      "text/plain": [
       "6531442"
      ]
     },
     "execution_count": 10,
     "metadata": {},
     "output_type": "execute_result"
    }
   ],
   "source": [
    "len(ids)"
   ]
  },
  {
   "cell_type": "markdown",
   "metadata": {},
   "source": [
    "Number of english entry ids included in the mapping:"
   ]
  },
  {
   "cell_type": "code",
   "execution_count": 21,
   "metadata": {
    "execution": {
     "iopub.execute_input": "2021-04-19T18:12:12.479323Z",
     "iopub.status.busy": "2021-04-19T18:12:12.474838Z",
     "iopub.status.idle": "2021-04-19T18:12:12.718132Z",
     "shell.execute_reply": "2021-04-19T18:12:12.717174Z",
     "shell.execute_reply.started": "2021-04-19T18:12:12.479252Z"
    }
   },
   "outputs": [
    {
     "data": {
      "text/plain": [
       "654744"
      ]
     },
     "execution_count": 21,
     "metadata": {},
     "output_type": "execute_result"
    }
   ],
   "source": [
    "sum(l)"
   ]
  },
  {
   "cell_type": "markdown",
   "metadata": {},
   "source": [
    "Load the matches we created with mag_matching.ipynb for the gnlish language entries"
   ]
  },
  {
   "cell_type": "code",
   "execution_count": 2,
   "metadata": {
    "tags": []
   },
   "outputs": [],
   "source": [
    "from json import load\n",
    "matches = load(open('results/mag_match/matches.json'))['matches']"
   ]
  },
  {
   "cell_type": "code",
   "execution_count": 3,
   "metadata": {
    "tags": []
   },
   "outputs": [],
   "source": [
    "matchtable['coreid'] = matchtable['coreid'].astype('str')\n",
    "matchtable['magid'] = matchtable['magid'].astype('str')"
   ]
  },
  {
   "cell_type": "code",
   "execution_count": 4,
   "metadata": {
    "tags": []
   },
   "outputs": [],
   "source": [
    "prematches = set([(a,b) for a,b in zip(matchtable['magid'],matchtable['coreid'])])\n",
    "matches = set([(m[0],m[1]) for m in matches])"
   ]
  },
  {
   "cell_type": "markdown",
   "metadata": {},
   "source": [
    "Check how many of our matches are included in the official mapping"
   ]
  },
  {
   "cell_type": "code",
   "execution_count": 5,
   "metadata": {
    "tags": []
   },
   "outputs": [],
   "source": [
    "inters = matches.intersection(prematches)"
   ]
  },
  {
   "cell_type": "code",
   "execution_count": 6,
   "metadata": {
    "tags": []
   },
   "outputs": [
    {
     "data": {
      "text/plain": [
       "527429"
      ]
     },
     "execution_count": 6,
     "metadata": {},
     "output_type": "execute_result"
    }
   ],
   "source": [
    "len(inters)"
   ]
  },
  {
   "cell_type": "code",
   "execution_count": null,
   "metadata": {},
   "outputs": [],
   "source": []
  }
 ],
 "metadata": {
  "kernelspec": {
   "display_name": "Python 3",
   "language": "python",
   "name": "python3"
  },
  "language_info": {
   "codemirror_mode": {
    "name": "ipython",
    "version": 3
   },
   "file_extension": ".py",
   "mimetype": "text/x-python",
   "name": "python",
   "nbconvert_exporter": "python",
   "pygments_lexer": "ipython3",
   "version": "3.7.10"
  }
 },
 "nbformat": 4,
 "nbformat_minor": 4
}
