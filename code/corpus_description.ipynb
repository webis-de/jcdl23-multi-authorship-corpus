{
 "cells": [
  {
   "cell_type": "markdown",
   "metadata": {},
   "source": [
    "## Describe corpus and create figures"
   ]
  },
  {
   "cell_type": "markdown",
   "metadata": {},
   "source": [
    "This notebook was used to create the plots and figures used in the thesis"
   ]
  },
  {
   "cell_type": "code",
   "execution_count": 1,
   "metadata": {},
   "outputs": [],
   "source": [
    "from pyspark import SparkContext\n",
    "from os.path import basename, exists, isfile, isdir, sep\n",
    "from os import makedirs, listdir, getcwd\n",
    "from json import load, loads, dump\n",
    "from datetime import datetime\n",
    "from glob import glob\n",
    "import pandas as pd"
   ]
  },
  {
   "cell_type": "code",
   "execution_count": 2,
   "metadata": {},
   "outputs": [],
   "source": [
    "sc = SparkContext(master = 'local[8]')\n",
    "path = \"/home/jovyan/mnt/ceph/storage/data-in-progress/data-teaching/theses/wstud-thesis-sauer/thesis-sauer/final_corpus/undupe_authors\"\n",
    "if isdir(path):\n",
    "    filepaths = sorted(glob(path + sep + \"*\"))"
   ]
  },
  {
   "cell_type": "markdown",
   "metadata": {},
   "source": [
    "All authors are extracted from the corpus via Spark"
   ]
  },
  {
   "cell_type": "code",
   "execution_count": 3,
   "metadata": {},
   "outputs": [
    {
     "name": "stdout",
     "output_type": "stream",
     "text": [
      "2021-06-24 18:03:58.361586\n",
      "00\n",
      "2021-06-24 18:05:02.943502\n",
      "01\n",
      "2021-06-24 18:06:16.720614\n",
      "02\n",
      "2021-06-24 18:07:09.703418\n",
      "03\n",
      "2021-06-24 18:08:55.185067\n",
      "04\n",
      "2021-06-24 18:09:48.615422\n",
      "05\n",
      "2021-06-24 18:10:41.105106\n",
      "06\n",
      "2021-06-24 18:10:59.540215\n",
      "07\n",
      "2021-06-24 18:11:17.942044\n",
      "08\n",
      "2021-06-24 18:11:35.694395\n",
      "09\n",
      "2021-06-24 18:11:54.004992\n",
      "10\n",
      "2021-06-24 18:12:11.704797\n",
      "11\n",
      "2021-06-24 18:12:29.319182\n",
      "12\n",
      "2021-06-24 18:12:48.090748\n",
      "13\n",
      "2021-06-24 18:13:06.181430\n",
      "14\n",
      "2021-06-24 18:13:56.712023\n",
      "15\n",
      "2021-06-24 18:14:58.810844\n",
      "16\n",
      "2021-06-24 18:15:59.651437\n",
      "17\n",
      "2021-06-24 18:17:02.203177\n",
      "18\n",
      "2021-06-24 18:18:05.977058\n",
      "19\n",
      "2021-06-24 18:18:51.563355\n",
      "20\n",
      "2021-06-24 18:19:45.505702\n",
      "21\n",
      "2021-06-24 18:20:58.762722\n",
      "22\n",
      "2021-06-24 18:22:04.383957\n",
      "23\n",
      "2021-06-24 18:22:32.295706\n",
      "24\n",
      "2021-06-24 18:23:02.295165\n",
      "25\n",
      "2021-06-24 18:23:33.465149\n",
      "26\n",
      "2021-06-24 18:24:05.963131\n",
      "27\n",
      "2021-06-24 18:24:39.212308\n",
      "28\n",
      "2021-06-24 18:25:13.676307\n",
      "29\n",
      "2021-06-24 18:26:04.678759\n",
      "30\n",
      "2021-06-24 18:27:24.440149\n",
      "31\n",
      "2021-06-24 18:28:16.983589\n",
      "32\n",
      "2021-06-24 18:29:21.965250\n",
      "33\n",
      "2021-06-24 18:30:14.958669\n",
      "34\n",
      "2021-06-24 18:31:21.953036\n"
     ]
    }
   ],
   "source": [
    "print(datetime.now())\n",
    "authors = []\n",
    "for p in filepaths:\n",
    "    print(basename(p))\n",
    "    rdd = sc.textFile(f\"file://{p}\")\n",
    "    data = rdd.map(lambda line: loads(line)['authors'])\n",
    "    authors = authors + data.collect()\n",
    "    print(datetime.now())"
   ]
  },
  {
   "cell_type": "code",
   "execution_count": 4,
   "metadata": {},
   "outputs": [
    {
     "data": {
      "text/plain": [
       "3356745"
      ]
     },
     "execution_count": 4,
     "metadata": {},
     "output_type": "execute_result"
    }
   ],
   "source": [
    "len(authors)"
   ]
  },
  {
   "cell_type": "markdown",
   "metadata": {},
   "source": [
    "Authorlists are divided in monographies and multiauthor documents"
   ]
  },
  {
   "cell_type": "code",
   "execution_count": 5,
   "metadata": {},
   "outputs": [
    {
     "data": {
      "text/plain": [
       "973128"
      ]
     },
     "execution_count": 5,
     "metadata": {},
     "output_type": "execute_result"
    }
   ],
   "source": [
    "monographies = list(filter(lambda entry: len(entry) == 1, authors))\n",
    "len(monographies)"
   ]
  },
  {
   "cell_type": "code",
   "execution_count": 6,
   "metadata": {},
   "outputs": [
    {
     "data": {
      "text/plain": [
       "2376082"
      ]
     },
     "execution_count": 6,
     "metadata": {},
     "output_type": "execute_result"
    }
   ],
   "source": [
    "multiauthors = list(filter(lambda entry: len(entry) > 1, authors))\n",
    "len(multiauthors)"
   ]
  },
  {
   "cell_type": "markdown",
   "metadata": {},
   "source": [
    "A series containing the number of authors for all documents is created"
   ]
  },
  {
   "cell_type": "code",
   "execution_count": 7,
   "metadata": {},
   "outputs": [
    {
     "data": {
      "text/plain": [
       "2       597908\n",
       "3       499820\n",
       "4       363353\n",
       "5       254991\n",
       "6       186358\n",
       "         ...  \n",
       "776          1\n",
       "2820         1\n",
       "2199         1\n",
       "770          1\n",
       "2030         1\n",
       "Length: 1090, dtype: int64"
      ]
     },
     "execution_count": 7,
     "metadata": {},
     "output_type": "execute_result"
    }
   ],
   "source": [
    "number_of_authors = [len(x) for x in multiauthors]\n",
    "pd.Series(number_of_authors).value_counts()"
   ]
  },
  {
   "cell_type": "code",
   "execution_count": 2,
   "metadata": {},
   "outputs": [],
   "source": [
    "import numpy as np\n",
    "import seaborn as sns\n",
    "import matplotlib.pyplot as plt\n",
    "from matplotlib.colors import LogNorm"
   ]
  },
  {
   "cell_type": "markdown",
   "metadata": {},
   "source": [
    "Versions of countplots are created to visualize the counts of the number of authors per document. A version with all numbers and a version with an accumulated bar for all numbers higher than 100 for better readability is created"
   ]
  },
  {
   "cell_type": "code",
   "execution_count": null,
   "metadata": {},
   "outputs": [
    {
     "data": {
      "text/plain": [
       "<AxesSubplot:title={'center':'Counts of authors per multiauthor-document'}, xlabel='Number of authors per multiauthor document', ylabel='Count of documents'>"
      ]
     },
     "execution_count": 9,
     "metadata": {},
     "output_type": "execute_result"
    },
    {
     "data": {
      "image/png": "[encoded data removed]",
      "text/plain": [
       "<Figure size 720x432 with 1 Axes>"
      ]
     },
     "metadata": {
      "needs_background": "light"
     },
     "output_type": "display_data"
    }
   ],
   "source": [
    "plt.figure(figsize=(10, 6))\n",
    "plot = sns.countplot(data=pd.DataFrame(number_of_authors,columns=[\"n_o_a\"]),x='n_o_a')\n",
    "plot.set(yscale='log',xlabel='Number of authors per multiauthor document', ylabel='Count of documents',title='Counts of authors per multiauthor-document')\n",
    "l = len(plot.xaxis.get_ticklabels())\n",
    "for i,label in enumerate(plot.xaxis.get_ticklabels()[:-1]):\n",
    "    if i%150==0 and i<l-5:\n",
    "        continue\n",
    "    else:\n",
    "        label.set_visible(False)\n",
    "plot"
   ]
  },
  {
   "cell_type": "code",
   "execution_count": null,
   "metadata": {},
   "outputs": [
    {
     "data": {
      "text/plain": [
       "<AxesSubplot:title={'center':'Count of documents by number of authors, documents with more than 100 authors grouped'}, xlabel='Number of authors per multiauthor document', ylabel='Count of documents'>"
      ]
     },
     "execution_count": 10,
     "metadata": {},
     "output_type": "execute_result"
    },
    {
     "data": {
      "image/png": "[encoded data removed]",
      "text/plain": [
       "<Figure size 720x432 with 1 Axes>"
      ]
     },
     "metadata": {
      "needs_background": "light"
     },
     "output_type": "display_data"
    }
   ],
   "source": [
    "def noa_classes(x):\n",
    "    if x < 100:\n",
    "        return x\n",
    "    else:\n",
    "        return '>=100'\n",
    "plotdata = pd.DataFrame(map(noa_classes,number_of_authors),columns=[\"n_o_a\"])\n",
    "plt.figure(figsize=(10, 6))\n",
    "plot = sns.countplot(data=plotdata,x='n_o_a',order=list(range(100))[2:]+['>=100'])\n",
    "plot.set(yscale='log',xlabel='Number of authors per multiauthor document', ylabel='Count of documents',title='Count of documents by number of authors, documents with more than 100 authors grouped')\n",
    "l = len(plot.xaxis.get_ticklabels())\n",
    "for i,label in enumerate(plot.xaxis.get_ticklabels()[:-1]):\n",
    "    if i%10==0:\n",
    "        continue\n",
    "    else:\n",
    "        label.set_visible(False)\n",
    "plot"
   ]
  },
  {
   "cell_type": "markdown",
   "metadata": {},
   "source": [
    "Now we start to create a dataframe containing the number of monographies and multiauthor-documents for every author. It will also include a list of the positions the author has in the authorlists of his multiauthor-documents."
   ]
  },
  {
   "cell_type": "code",
   "execution_count": 42,
   "metadata": {},
   "outputs": [],
   "source": [
    "ids = pd.Series([x[0]['id'] for x in monographies])\n",
    "author_idset = set(ids)\n",
    "\n",
    "id_to_author = {}\n",
    "for entry in monographies:\n",
    "    if entry[0]['id'] in id_to_author:\n",
    "        continue\n",
    "    else:\n",
    "        id_to_author[entry[0]['id']] = entry[0]['name']"
   ]
  },
  {
   "cell_type": "code",
   "execution_count": 43,
   "metadata": {},
   "outputs": [],
   "source": [
    "singleauthor_counts = ids.value_counts()"
   ]
  },
  {
   "cell_type": "code",
   "execution_count": 44,
   "metadata": {},
   "outputs": [
    {
     "name": "stdout",
     "output_type": "stream",
     "text": [
      "Number of monography-authors in corpus: 795975\n"
     ]
    }
   ],
   "source": [
    "print(f'Number of monography-authors in corpus: {len(singleauthor_counts)}')"
   ]
  },
  {
   "cell_type": "code",
   "execution_count": 45,
   "metadata": {},
   "outputs": [],
   "source": [
    "author_table = {}\n",
    "for i in singleauthor_counts.index:\n",
    "    author_table[i] = (id_to_author[i],int(singleauthor_counts[i]))"
   ]
  },
  {
   "cell_type": "code",
   "execution_count": 46,
   "metadata": {},
   "outputs": [
    {
     "name": "stdout",
     "output_type": "stream",
     "text": [
      "Documents with no matching monograph: 1481108\n",
      "Authors with monographs only: 670577\n"
     ]
    }
   ],
   "source": [
    "no_single = 0\n",
    "no_multi = 0\n",
    "multis_output = {}\n",
    "for entry in multiauthors:\n",
    "    omit = []\n",
    "    hit = False\n",
    "    for i,author in enumerate(entry):\n",
    "        if author['id'] in author_idset and not author['id'] in omit:\n",
    "            hit = True\n",
    "            if author['id'] in multis_output:\n",
    "                multis_output[author['id']] = (id_to_author[author['id']], multis_output[author['id']][1] + 1, multis_output[author['id']][2]+[i+1])\n",
    "            else:\n",
    "                multis_output[author['id']] = (id_to_author[author['id']], 1, [i+1])\n",
    "            omit.append(author['id'])\n",
    "    if not hit:\n",
    "        no_single += 1\n",
    "        \n",
    "for i in author_table:\n",
    "    if i in multis_output:\n",
    "        author_table[i] = (author_table[i][0],author_table[i][1],multis_output[i][1],multis_output[i][2])\n",
    "    else:\n",
    "        author_table[i] = (author_table[i][0],author_table[i][1],0,[])\n",
    "        no_multi += 1\n",
    "\n",
    "print(f\"Documents with no matching monograph: {no_single}\")\n",
    "print(f\"Authors with monographs only: {no_multi}\")"
   ]
  },
  {
   "cell_type": "code",
   "execution_count": 48,
   "metadata": {},
   "outputs": [],
   "source": [
    "df = pd.DataFrame.from_dict(author_table,orient='index',columns=['name','mono_docs','multi_docs','positions'])\n",
    "df['avg_position'] = [round((sum(lst) / len(lst)),1) if lst else 0 for lst in df['positions']]\n",
    "df.to_json(\"results/merge/single_multiauthors_dict.json\")"
   ]
  },
  {
   "cell_type": "code",
   "execution_count": 9,
   "metadata": {},
   "outputs": [],
   "source": [
    "df = pd.read_json(\"results/merge/single_multiauthors_dict.json\")"
   ]
  },
  {
   "cell_type": "code",
   "execution_count": 50,
   "metadata": {},
   "outputs": [
    {
     "data": {
      "text/html": [
       "<div>\n",
       "<style scoped>\n",
       "    .dataframe tbody tr th:only-of-type {\n",
       "        vertical-align: middle;\n",
       "    }\n",
       "\n",
       "    .dataframe tbody tr th {\n",
       "        vertical-align: top;\n",
       "    }\n",
       "\n",
       "    .dataframe thead th {\n",
       "        text-align: right;\n",
       "    }\n",
       "</style>\n",
       "<table border=\"1\" class=\"dataframe\">\n",
       "  <thead>\n",
       "    <tr style=\"text-align: right;\">\n",
       "      <th></th>\n",
       "      <th>name</th>\n",
       "      <th>mono_docs</th>\n",
       "      <th>multi_docs</th>\n",
       "      <th>positions</th>\n",
       "      <th>avg_position</th>\n",
       "    </tr>\n",
       "  </thead>\n",
       "  <tbody>\n",
       "    <tr>\n",
       "      <th>2648023147</th>\n",
       "      <td>Charlie Beckett</td>\n",
       "      <td>602</td>\n",
       "      <td>7</td>\n",
       "      <td>[1, 1, 1, 2, 5, 1, 2]</td>\n",
       "      <td>1.9</td>\n",
       "    </tr>\n",
       "    <tr>\n",
       "      <th>217383518</th>\n",
       "      <td>Csusb</td>\n",
       "      <td>577</td>\n",
       "      <td>0</td>\n",
       "      <td>[]</td>\n",
       "      <td>0.0</td>\n",
       "    </tr>\n",
       "    <tr>\n",
       "      <th>2561382056</th>\n",
       "      <td>Nigel Williams</td>\n",
       "      <td>391</td>\n",
       "      <td>0</td>\n",
       "      <td>[]</td>\n",
       "      <td>0.0</td>\n",
       "    </tr>\n",
       "    <tr>\n",
       "      <th>2137451758</th>\n",
       "      <td>Steven Alan Samson</td>\n",
       "      <td>281</td>\n",
       "      <td>0</td>\n",
       "      <td>[]</td>\n",
       "      <td>0.0</td>\n",
       "    </tr>\n",
       "    <tr>\n",
       "      <th>2098661866</th>\n",
       "      <td>Daily Egyptian Staff</td>\n",
       "      <td>246</td>\n",
       "      <td>0</td>\n",
       "      <td>[]</td>\n",
       "      <td>0.0</td>\n",
       "    </tr>\n",
       "    <tr>\n",
       "      <th>...</th>\n",
       "      <td>...</td>\n",
       "      <td>...</td>\n",
       "      <td>...</td>\n",
       "      <td>...</td>\n",
       "      <td>...</td>\n",
       "    </tr>\n",
       "    <tr>\n",
       "      <th>2318434287</th>\n",
       "      <td>Afaf M. Abd El-Hameed</td>\n",
       "      <td>1</td>\n",
       "      <td>2</td>\n",
       "      <td>[2, 3]</td>\n",
       "      <td>2.5</td>\n",
       "    </tr>\n",
       "    <tr>\n",
       "      <th>2155931765</th>\n",
       "      <td>C. A. Gagliardi</td>\n",
       "      <td>1</td>\n",
       "      <td>86</td>\n",
       "      <td>[86, 92, 73, 88, 84, 72, 88, 309, 79, 99, 68, ...</td>\n",
       "      <td>87.2</td>\n",
       "    </tr>\n",
       "    <tr>\n",
       "      <th>2168795134</th>\n",
       "      <td>Andreas Heinemann</td>\n",
       "      <td>1</td>\n",
       "      <td>0</td>\n",
       "      <td>[]</td>\n",
       "      <td>0.0</td>\n",
       "    </tr>\n",
       "    <tr>\n",
       "      <th>2327366664</th>\n",
       "      <td>Tanja Veikkola</td>\n",
       "      <td>1</td>\n",
       "      <td>0</td>\n",
       "      <td>[]</td>\n",
       "      <td>0.0</td>\n",
       "    </tr>\n",
       "    <tr>\n",
       "      <th>752693518</th>\n",
       "      <td>Jeanine Michelle Soterwood</td>\n",
       "      <td>1</td>\n",
       "      <td>0</td>\n",
       "      <td>[]</td>\n",
       "      <td>0.0</td>\n",
       "    </tr>\n",
       "  </tbody>\n",
       "</table>\n",
       "<p>795975 rows × 5 columns</p>\n",
       "</div>"
      ],
      "text/plain": [
       "                                  name  mono_docs  multi_docs  \\\n",
       "2648023147             Charlie Beckett        602           7   \n",
       "217383518                        Csusb        577           0   \n",
       "2561382056              Nigel Williams        391           0   \n",
       "2137451758          Steven Alan Samson        281           0   \n",
       "2098661866        Daily Egyptian Staff        246           0   \n",
       "...                                ...        ...         ...   \n",
       "2318434287       Afaf M. Abd El-Hameed          1           2   \n",
       "2155931765             C. A. Gagliardi          1          86   \n",
       "2168795134           Andreas Heinemann          1           0   \n",
       "2327366664              Tanja Veikkola          1           0   \n",
       "752693518   Jeanine Michelle Soterwood          1           0   \n",
       "\n",
       "                                                    positions  avg_position  \n",
       "2648023147                              [1, 1, 1, 2, 5, 1, 2]           1.9  \n",
       "217383518                                                  []           0.0  \n",
       "2561382056                                                 []           0.0  \n",
       "2137451758                                                 []           0.0  \n",
       "2098661866                                                 []           0.0  \n",
       "...                                                       ...           ...  \n",
       "2318434287                                             [2, 3]           2.5  \n",
       "2155931765  [86, 92, 73, 88, 84, 72, 88, 309, 79, 99, 68, ...          87.2  \n",
       "2168795134                                                 []           0.0  \n",
       "2327366664                                                 []           0.0  \n",
       "752693518                                                  []           0.0  \n",
       "\n",
       "[795975 rows x 5 columns]"
      ]
     },
     "execution_count": 50,
     "metadata": {},
     "output_type": "execute_result"
    }
   ],
   "source": [
    "df"
   ]
  },
  {
   "cell_type": "markdown",
   "metadata": {},
   "source": [
    "Now we look at the positions in more detail"
   ]
  },
  {
   "cell_type": "code",
   "execution_count": 37,
   "metadata": {},
   "outputs": [],
   "source": [
    "positions = df['positions'].explode()\n"
   ]
  },
  {
   "cell_type": "code",
   "execution_count": 38,
   "metadata": {},
   "outputs": [
    {
     "data": {
      "text/plain": [
       "2       328879\n",
       "1       311487\n",
       "3       191761\n",
       "4       111614\n",
       "5        72567\n",
       "         ...  \n",
       "3447         1\n",
       "3481         1\n",
       "3485         1\n",
       "3486         1\n",
       "5083         1\n",
       "Name: positions, Length: 3196, dtype: int64"
      ]
     },
     "execution_count": 38,
     "metadata": {},
     "output_type": "execute_result"
    }
   ],
   "source": [
    "positions = positions.dropna()\n",
    "positions.value_counts()"
   ]
  },
  {
   "cell_type": "code",
   "execution_count": 39,
   "metadata": {},
   "outputs": [
    {
     "name": "stdout",
     "output_type": "stream",
     "text": [
      "Authorpositions highest of 5: 1016308, highest of 10: 1170511, of more than 10: 272494\n"
     ]
    }
   ],
   "source": [
    "p = positions.value_counts()\n",
    "print(f'Authorpositions highest of 5: {sum(p[p.index <= 5])}, highest of 10: {sum(p[p.index <= 10])}, of more than 10: {sum(p[p.index > 10])}')"
   ]
  },
  {
   "cell_type": "markdown",
   "metadata": {},
   "source": [
    "We group positions and create a number of countplots"
   ]
  },
  {
   "cell_type": "code",
   "execution_count": 40,
   "metadata": {},
   "outputs": [],
   "source": [
    "def group_positions(pos):\n",
    "    if pos <= 10:\n",
    "        return str(pos)\n",
    "    elif pos <= 100:\n",
    "        return \"11-100\"\n",
    "    elif pos <= 1000:\n",
    "        return \"101-1000\"\n",
    "    else:\n",
    "        return \">1000\""
   ]
  },
  {
   "cell_type": "code",
   "execution_count": 41,
   "metadata": {},
   "outputs": [],
   "source": [
    "positions = pd.DataFrame(positions)\n"
   ]
  },
  {
   "cell_type": "code",
   "execution_count": 42,
   "metadata": {},
   "outputs": [
    {
     "data": {
      "text/plain": [
       "<AxesSubplot:title={'center':'Counts of positions of monograph-authors in multiauthor-lists (positions higher than 10 grouped)'}, xlabel='Position of monograph-author in authorlist', ylabel='Count of occurrence'>"
      ]
     },
     "execution_count": 42,
     "metadata": {},
     "output_type": "execute_result"
    },
    {
     "data": {
      "image/png": "[encoded data removed]",
      "text/plain": [
       "<Figure size 720x432 with 1 Axes>"
      ]
     },
     "metadata": {
      "needs_background": "light"
     },
     "output_type": "display_data"
    }
   ],
   "source": [
    "positions['group'] = [group_positions(x) for x in positions['positions']]\n",
    "\n",
    "plt.figure(figsize=(10, 6))\n",
    "plot = sns.countplot(data=positions,x='group',order=['1','2','3','4','5','6','7','8','9','10','11-100','101-1000','>1000'])\n",
    "plot.set(xlabel='Position of monograph-author in authorlist', ylabel='Count of occurrence',title='Counts of positions of monograph-authors in multiauthor-lists (positions higher than 10 grouped)')\n",
    "plot"
   ]
  },
  {
   "cell_type": "code",
   "execution_count": 43,
   "metadata": {},
   "outputs": [
    {
     "data": {
      "text/html": [
       "<div>\n",
       "<style scoped>\n",
       "    .dataframe tbody tr th:only-of-type {\n",
       "        vertical-align: middle;\n",
       "    }\n",
       "\n",
       "    .dataframe tbody tr th {\n",
       "        vertical-align: top;\n",
       "    }\n",
       "\n",
       "    .dataframe thead th {\n",
       "        text-align: right;\n",
       "    }\n",
       "</style>\n",
       "<table border=\"1\" class=\"dataframe\">\n",
       "  <thead>\n",
       "    <tr style=\"text-align: right;\">\n",
       "      <th></th>\n",
       "      <th>positions</th>\n",
       "      <th>group</th>\n",
       "    </tr>\n",
       "  </thead>\n",
       "  <tbody>\n",
       "    <tr>\n",
       "      <th>2648023147</th>\n",
       "      <td>1</td>\n",
       "      <td>1</td>\n",
       "    </tr>\n",
       "    <tr>\n",
       "      <th>2648023147</th>\n",
       "      <td>1</td>\n",
       "      <td>1</td>\n",
       "    </tr>\n",
       "    <tr>\n",
       "      <th>2648023147</th>\n",
       "      <td>1</td>\n",
       "      <td>1</td>\n",
       "    </tr>\n",
       "    <tr>\n",
       "      <th>2648023147</th>\n",
       "      <td>2</td>\n",
       "      <td>2</td>\n",
       "    </tr>\n",
       "    <tr>\n",
       "      <th>2648023147</th>\n",
       "      <td>5</td>\n",
       "      <td>5</td>\n",
       "    </tr>\n",
       "    <tr>\n",
       "      <th>...</th>\n",
       "      <td>...</td>\n",
       "      <td>...</td>\n",
       "    </tr>\n",
       "    <tr>\n",
       "      <th>2155931765</th>\n",
       "      <td>93</td>\n",
       "      <td>11-100</td>\n",
       "    </tr>\n",
       "    <tr>\n",
       "      <th>2155931765</th>\n",
       "      <td>7</td>\n",
       "      <td>7</td>\n",
       "    </tr>\n",
       "    <tr>\n",
       "      <th>2155931765</th>\n",
       "      <td>93</td>\n",
       "      <td>11-100</td>\n",
       "    </tr>\n",
       "    <tr>\n",
       "      <th>2155931765</th>\n",
       "      <td>91</td>\n",
       "      <td>11-100</td>\n",
       "    </tr>\n",
       "    <tr>\n",
       "      <th>2155931765</th>\n",
       "      <td>97</td>\n",
       "      <td>11-100</td>\n",
       "    </tr>\n",
       "  </tbody>\n",
       "</table>\n",
       "<p>1443005 rows × 2 columns</p>\n",
       "</div>"
      ],
      "text/plain": [
       "           positions   group\n",
       "2648023147         1       1\n",
       "2648023147         1       1\n",
       "2648023147         1       1\n",
       "2648023147         2       2\n",
       "2648023147         5       5\n",
       "...              ...     ...\n",
       "2155931765        93  11-100\n",
       "2155931765         7       7\n",
       "2155931765        93  11-100\n",
       "2155931765        91  11-100\n",
       "2155931765        97  11-100\n",
       "\n",
       "[1443005 rows x 2 columns]"
      ]
     },
     "execution_count": 43,
     "metadata": {},
     "output_type": "execute_result"
    }
   ],
   "source": [
    "positions"
   ]
  },
  {
   "cell_type": "code",
   "execution_count": 57,
   "metadata": {},
   "outputs": [
    {
     "data": {
      "text/plain": [
       "<AxesSubplot:title={'center':'Frequency of positions of monograph-authors in multiauthor-lists'}, xlabel='Position of monograph-author in authorlist', ylabel='Frequency of occurrence'>"
      ]
     },
     "execution_count": 57,
     "metadata": {},
     "output_type": "execute_result"
    },
    {
     "data": {
      "image/png": "[encoded data removed]",
      "text/plain": [
       "<Figure size 1800x720 with 1 Axes>"
      ]
     },
     "metadata": {
      "needs_background": "light"
     },
     "output_type": "display_data"
    }
   ],
   "source": [
    "plt.figure(figsize=(25, 10))\n",
    "plt.xticks(rotation=-45)\n",
    "plot = sns.countplot(data=positions,x='positions')\n",
    "plot.set(yscale='log',xlabel='Position of monograph-author in authorlist', ylabel='Frequency of occurrence',title='Frequency of positions of monograph-authors in multiauthor-lists')\n",
    "l = len(plot.xaxis.get_ticklabels())\n",
    "for i,label in enumerate(plot.xaxis.get_ticklabels()[:-1]):\n",
    "    if i%150==0 and i<l-5:\n",
    "        continue\n",
    "    else:\n",
    "        label.set_visible(False)\n",
    "plot"
   ]
  },
  {
   "cell_type": "code",
   "execution_count": 48,
   "metadata": {},
   "outputs": [],
   "source": [
    "pos_freq = positions['positions'].value_counts()\n",
    "ser = pd.Series(data=[0 for i in range(max(pos_freq.index)+1)[1:]], index=range(max(pos_freq.index)+1)[1:])\n",
    "pos_freq = pos_freq.combine(ser, max, fill_value=0).sort_index()"
   ]
  },
  {
   "cell_type": "code",
   "execution_count": 50,
   "metadata": {},
   "outputs": [
    {
     "data": {
      "text/plain": [
       "<AxesSubplot:title={'center':'Count of positions of monograph authors in authorlists of multiauthor documents'}, xlabel='Position in authorlist of multiauthor documents', ylabel='Count of positions'>"
      ]
     },
     "execution_count": 50,
     "metadata": {},
     "output_type": "execute_result"
    },
    {
     "data": {
      "image/png": "[encoded data removed]",
      "text/plain": [
       "<Figure size 1152x576 with 1 Axes>"
      ]
     },
     "metadata": {
      "needs_background": "light"
     },
     "output_type": "display_data"
    }
   ],
   "source": [
    "plt.figure(figsize=(16, 8))\n",
    "plt.xticks(rotation=-45)\n",
    "plot = sns.barplot(x=pos_freq.index, y=pos_freq)\n",
    "plot.set(yscale='log',xlabel='Position in authorlist of multiauthor documents', ylabel='Count of positions',title='Count of positions of monograph authors in authorlists of multiauthor documents')\n",
    "for i,label in enumerate(plot.xaxis.get_ticklabels()[:-1]):\n",
    "    if i%250==0:\n",
    "        continue\n",
    "    else:\n",
    "        label.set_visible(False)\n",
    "plot"
   ]
  },
  {
   "cell_type": "markdown",
   "metadata": {},
   "source": [
    "Next, we plot the number of monographies and multiauthor-documents over the corpus, and the number of documents which have monography- and multiauthors."
   ]
  },
  {
   "cell_type": "code",
   "execution_count": 58,
   "metadata": {},
   "outputs": [
    {
     "name": "stdout",
     "output_type": "stream",
     "text": [
      "Number of monographs with matching multiauthor-documents: 261642\n"
     ]
    }
   ],
   "source": [
    "print(f'Number of monographs with matching multiauthor-documents: {df[df.multi_docs != 0].mono_docs.sum()}')"
   ]
  },
  {
   "cell_type": "code",
   "execution_count": 59,
   "metadata": {},
   "outputs": [
    {
     "name": "stdout",
     "output_type": "stream",
     "text": [
      "Number of monographies: 973128\n",
      "Number of documents without matching multiauthor-documents: 711486\n"
     ]
    }
   ],
   "source": [
    "print(f'Number of monographies: {df.mono_docs.sum()}')\n",
    "print(f'Number of documents without matching multiauthor-documents: {df[df.multi_docs == 0].mono_docs.sum()}')"
   ]
  },
  {
   "cell_type": "code",
   "execution_count": null,
   "metadata": {},
   "outputs": [],
   "source": [
    "print(f\"Documents with no matching monograph: {no_single}\") #Calculated earlier"
   ]
  },
  {
   "cell_type": "code",
   "execution_count": null,
   "metadata": {},
   "outputs": [],
   "source": [
    "print(f'Number of multiauthor-documents in total: {len(list(filter(lambda entry: len(entry) > 1, authors)))}')"
   ]
  },
  {
   "cell_type": "code",
   "execution_count": 78,
   "metadata": {},
   "outputs": [
    {
     "data": {
      "text/plain": [
       "7535"
      ]
     },
     "execution_count": 78,
     "metadata": {},
     "output_type": "execute_result"
    }
   ],
   "source": [
    "print(f'Number of documents with no authors: {len(list(filter(lambda entry: len(entry) == 0, authors)))}')"
   ]
  },
  {
   "cell_type": "markdown",
   "metadata": {},
   "source": [
    "We put these numbers in a list (numbers for process_1 are taken from scripts in process_1/notebooks, but not used for the thesis anyways)"
   ]
  },
  {
   "cell_type": "code",
   "execution_count": 3,
   "metadata": {
    "tags": []
   },
   "outputs": [],
   "source": [
    "process_2 = [711486,261642,894974,1481108,7535]\n",
    "process_1 = [759935,281774,713420,560395,0]\n",
    "plotdata = pd.DataFrame({'Corpus':process_2,'First Extraction':process_1},index=['Mono_only','Mono_plus','Multi_plus','Multi_only','No_info'])\n",
    "plotdata = plotdata.transpose()"
   ]
  },
  {
   "cell_type": "code",
   "execution_count": 5,
   "metadata": {},
   "outputs": [
    {
     "data": {
      "text/plain": [
       "Text(0, 0.5, 'Extraction run')"
      ]
     },
     "execution_count": 5,
     "metadata": {},
     "output_type": "execute_result"
    },
    {
     "data": {
      "image/png": "[encoded data removed]",
      "text/plain": [
       "<Figure size 432x288 with 1 Axes>"
      ]
     },
     "metadata": {
      "needs_background": "light"
     },
     "output_type": "display_data"
    }
   ],
   "source": [
    "plotdata.plot(kind=\"barh\",stacked=True,color=['tomato','darksalmon','firebrick','maroon','red'])\n",
    "plt.title(\"Corpus by availability of monographies and multiauthor documents from the same author\")\n",
    "plt.xlabel(\"Number of documents (in millions)\")\n",
    "plt.ylabel(\"Extraction run\")"
   ]
  },
  {
   "cell_type": "code",
   "execution_count": 4,
   "metadata": {},
   "outputs": [
    {
     "data": {
      "text/plain": [
       "3356745"
      ]
     },
     "execution_count": 4,
     "metadata": {},
     "output_type": "execute_result"
    }
   ],
   "source": [
    "sum(process_2)"
   ]
  },
  {
   "cell_type": "code",
   "execution_count": 6,
   "metadata": {},
   "outputs": [],
   "source": [
    "plotdata = plotdata.loc[['Corpus']]"
   ]
  },
  {
   "cell_type": "code",
   "execution_count": 8,
   "metadata": {},
   "outputs": [
    {
     "data": {
      "image/png": "[encoded data removed]",
      "text/plain": [
       "<Figure size 1728x432 with 1 Axes>"
      ]
     },
     "metadata": {
      "needs_background": "light"
     },
     "output_type": "display_data"
    }
   ],
   "source": [
    "fields = ['Mono_only','Mono_plus','Multi_plus','Multi_only','No_info']\n",
    "colors = ['plum','deeppink', 'mediumvioletred','thistle','lightslategray']\n",
    "labels = ['Monographs: no multiauthor-documents from author','Monographs: monographs and multiauthor-documents from author','Multiauthor: monographs and multiauthor-documents from at least one author','Multiauthor: no monographs from any authors','No information on number of authors']\n",
    "\n",
    "fig, ax = plt.subplots(1, figsize=(24, 6))\n",
    "\n",
    "left = len(plotdata) * [0]\n",
    "for idx, name in enumerate(fields):\n",
    "    plt.barh(plotdata.index, plotdata[name], left = left, color=colors[idx], height=0.7)\n",
    "    left = left + plotdata[name]\n",
    "# title, legend, labels\n",
    "\n",
    "for rect in ax.patches:\n",
    "    height = rect.get_height()\n",
    "    width = rect.get_width()\n",
    "    x = rect.get_x()\n",
    "    y = rect.get_y()\n",
    "    \n",
    "    label_text = f'{width:,}'\n",
    "    \n",
    "    label_x = x + width / 2\n",
    "    label_y = y + height / 2\n",
    "    ax.text(label_x, label_y, label_text, ha='center', va='center',fontsize=16)\n",
    "\n",
    "box = ax.get_position()\n",
    "ax.set_position([box.x0, box.y0 + box.height * 0.2,\n",
    "                 box.width, box.height * 0.8])\n",
    "ax.legend(labels,loc='upper center', bbox_to_anchor=(0.5, -0.15),\n",
    "          ncol=2,fontsize=16)\n",
    "plt.title('Corpus by availability of monographies and multiauthor documents from the same author\\n', loc='left',fontsize=24)\n",
    "plt.xlabel('Number of documents (millions)',fontsize=16)\n",
    "plt.xticks(fontsize=16)\n",
    "plt.yticks(fontsize=16)\n",
    "\n",
    "\n",
    "# remove spines\n",
    "ax.spines['right'].set_visible(False)\n",
    "ax.spines['left'].set_visible(False)\n",
    "ax.spines['top'].set_visible(False)\n",
    "ax.spines['bottom'].set_visible(False)\n",
    "# adjust limits and draw grid lines\n",
    "plt.ylim(-0.5, ax.get_yticks()[-1] + 0.5)\n",
    "ax.set_axisbelow(True)\n",
    "ax.xaxis.grid(color='gray', linestyle='dashed')\n",
    "plt.show()"
   ]
  },
  {
   "cell_type": "markdown",
   "metadata": {},
   "source": [
    "We calculate the most common combinations of monographies and multiauthor documents"
   ]
  },
  {
   "cell_type": "code",
   "execution_count": 10,
   "metadata": {},
   "outputs": [
    {
     "data": {
      "text/plain": [
       "(1, 1)     20631\n",
       "(1, 2)     11222\n",
       "(1, 3)      7711\n",
       "(1, 4)      5740\n",
       "(1, 5)      4372\n",
       "(2, 1)      3989\n",
       "(1, 6)      3599\n",
       "(1, 7)      2865\n",
       "(2, 2)      2491\n",
       "(1, 8)      2427\n",
       "(1, 9)      2078\n",
       "(2, 3)      1863\n",
       "(1, 10)     1817\n",
       "(1, 11)     1524\n",
       "(2, 4)      1420\n",
       "(3, 1)      1400\n",
       "(1, 12)     1329\n",
       "(1, 13)     1210\n",
       "(2, 5)      1165\n",
       "(1, 14)     1049\n",
       "Name: comb, dtype: int64"
      ]
     },
     "execution_count": 10,
     "metadata": {},
     "output_type": "execute_result"
    }
   ],
   "source": [
    "df['comb'] = [(a,b) for a,b in zip(df['mono_docs'],df['multi_docs'])]\n",
    "combo_frequencies = df['comb'][df['multi_docs'] > 0].value_counts()\n",
    "combo_frequencies.nlargest(20)"
   ]
  },
  {
   "cell_type": "markdown",
   "metadata": {},
   "source": [
    "We add a column to our dataframe containing the total of documents per author"
   ]
  },
  {
   "cell_type": "code",
   "execution_count": 11,
   "metadata": {},
   "outputs": [],
   "source": [
    "df['sum'] = [a+b for a,b in zip(df['mono_docs'],df['multi_docs'])]"
   ]
  },
  {
   "cell_type": "code",
   "execution_count": 12,
   "metadata": {},
   "outputs": [
    {
     "data": {
      "text/html": [
       "<div>\n",
       "<style scoped>\n",
       "    .dataframe tbody tr th:only-of-type {\n",
       "        vertical-align: middle;\n",
       "    }\n",
       "\n",
       "    .dataframe tbody tr th {\n",
       "        vertical-align: top;\n",
       "    }\n",
       "\n",
       "    .dataframe thead th {\n",
       "        text-align: right;\n",
       "    }\n",
       "</style>\n",
       "<table border=\"1\" class=\"dataframe\">\n",
       "  <thead>\n",
       "    <tr style=\"text-align: right;\">\n",
       "      <th></th>\n",
       "      <th>name</th>\n",
       "      <th>mono_docs</th>\n",
       "      <th>multi_docs</th>\n",
       "      <th>positions</th>\n",
       "      <th>avg_position</th>\n",
       "      <th>comb</th>\n",
       "      <th>sum</th>\n",
       "    </tr>\n",
       "  </thead>\n",
       "  <tbody>\n",
       "    <tr>\n",
       "      <th>2648023147</th>\n",
       "      <td>Charlie Beckett</td>\n",
       "      <td>602</td>\n",
       "      <td>7</td>\n",
       "      <td>[1, 1, 1, 2, 5, 1, 2]</td>\n",
       "      <td>1.9</td>\n",
       "      <td>(602, 7)</td>\n",
       "      <td>609</td>\n",
       "    </tr>\n",
       "    <tr>\n",
       "      <th>217383518</th>\n",
       "      <td>Csusb</td>\n",
       "      <td>577</td>\n",
       "      <td>0</td>\n",
       "      <td>[]</td>\n",
       "      <td>0.0</td>\n",
       "      <td>(577, 0)</td>\n",
       "      <td>577</td>\n",
       "    </tr>\n",
       "    <tr>\n",
       "      <th>2561382056</th>\n",
       "      <td>Nigel Williams</td>\n",
       "      <td>391</td>\n",
       "      <td>0</td>\n",
       "      <td>[]</td>\n",
       "      <td>0.0</td>\n",
       "      <td>(391, 0)</td>\n",
       "      <td>391</td>\n",
       "    </tr>\n",
       "    <tr>\n",
       "      <th>2137451758</th>\n",
       "      <td>Steven Alan Samson</td>\n",
       "      <td>281</td>\n",
       "      <td>0</td>\n",
       "      <td>[]</td>\n",
       "      <td>0.0</td>\n",
       "      <td>(281, 0)</td>\n",
       "      <td>281</td>\n",
       "    </tr>\n",
       "    <tr>\n",
       "      <th>2098661866</th>\n",
       "      <td>Daily Egyptian Staff</td>\n",
       "      <td>246</td>\n",
       "      <td>0</td>\n",
       "      <td>[]</td>\n",
       "      <td>0.0</td>\n",
       "      <td>(246, 0)</td>\n",
       "      <td>246</td>\n",
       "    </tr>\n",
       "    <tr>\n",
       "      <th>...</th>\n",
       "      <td>...</td>\n",
       "      <td>...</td>\n",
       "      <td>...</td>\n",
       "      <td>...</td>\n",
       "      <td>...</td>\n",
       "      <td>...</td>\n",
       "      <td>...</td>\n",
       "    </tr>\n",
       "    <tr>\n",
       "      <th>2318434287</th>\n",
       "      <td>Afaf M. Abd El-Hameed</td>\n",
       "      <td>1</td>\n",
       "      <td>2</td>\n",
       "      <td>[2, 3]</td>\n",
       "      <td>2.5</td>\n",
       "      <td>(1, 2)</td>\n",
       "      <td>3</td>\n",
       "    </tr>\n",
       "    <tr>\n",
       "      <th>2155931765</th>\n",
       "      <td>C. A. Gagliardi</td>\n",
       "      <td>1</td>\n",
       "      <td>86</td>\n",
       "      <td>[86, 92, 73, 88, 84, 72, 88, 309, 79, 99, 68, ...</td>\n",
       "      <td>87.2</td>\n",
       "      <td>(1, 86)</td>\n",
       "      <td>87</td>\n",
       "    </tr>\n",
       "    <tr>\n",
       "      <th>2168795134</th>\n",
       "      <td>Andreas Heinemann</td>\n",
       "      <td>1</td>\n",
       "      <td>0</td>\n",
       "      <td>[]</td>\n",
       "      <td>0.0</td>\n",
       "      <td>(1, 0)</td>\n",
       "      <td>1</td>\n",
       "    </tr>\n",
       "    <tr>\n",
       "      <th>2327366664</th>\n",
       "      <td>Tanja Veikkola</td>\n",
       "      <td>1</td>\n",
       "      <td>0</td>\n",
       "      <td>[]</td>\n",
       "      <td>0.0</td>\n",
       "      <td>(1, 0)</td>\n",
       "      <td>1</td>\n",
       "    </tr>\n",
       "    <tr>\n",
       "      <th>752693518</th>\n",
       "      <td>Jeanine Michelle Soterwood</td>\n",
       "      <td>1</td>\n",
       "      <td>0</td>\n",
       "      <td>[]</td>\n",
       "      <td>0.0</td>\n",
       "      <td>(1, 0)</td>\n",
       "      <td>1</td>\n",
       "    </tr>\n",
       "  </tbody>\n",
       "</table>\n",
       "<p>795975 rows × 7 columns</p>\n",
       "</div>"
      ],
      "text/plain": [
       "                                  name  mono_docs  multi_docs  \\\n",
       "2648023147             Charlie Beckett        602           7   \n",
       "217383518                        Csusb        577           0   \n",
       "2561382056              Nigel Williams        391           0   \n",
       "2137451758          Steven Alan Samson        281           0   \n",
       "2098661866        Daily Egyptian Staff        246           0   \n",
       "...                                ...        ...         ...   \n",
       "2318434287       Afaf M. Abd El-Hameed          1           2   \n",
       "2155931765             C. A. Gagliardi          1          86   \n",
       "2168795134           Andreas Heinemann          1           0   \n",
       "2327366664              Tanja Veikkola          1           0   \n",
       "752693518   Jeanine Michelle Soterwood          1           0   \n",
       "\n",
       "                                                    positions  avg_position  \\\n",
       "2648023147                              [1, 1, 1, 2, 5, 1, 2]           1.9   \n",
       "217383518                                                  []           0.0   \n",
       "2561382056                                                 []           0.0   \n",
       "2137451758                                                 []           0.0   \n",
       "2098661866                                                 []           0.0   \n",
       "...                                                       ...           ...   \n",
       "2318434287                                             [2, 3]           2.5   \n",
       "2155931765  [86, 92, 73, 88, 84, 72, 88, 309, 79, 99, 68, ...          87.2   \n",
       "2168795134                                                 []           0.0   \n",
       "2327366664                                                 []           0.0   \n",
       "752693518                                                  []           0.0   \n",
       "\n",
       "                comb  sum  \n",
       "2648023147  (602, 7)  609  \n",
       "217383518   (577, 0)  577  \n",
       "2561382056  (391, 0)  391  \n",
       "2137451758  (281, 0)  281  \n",
       "2098661866  (246, 0)  246  \n",
       "...              ...  ...  \n",
       "2318434287    (1, 2)    3  \n",
       "2155931765   (1, 86)   87  \n",
       "2168795134    (1, 0)    1  \n",
       "2327366664    (1, 0)    1  \n",
       "752693518     (1, 0)    1  \n",
       "\n",
       "[795975 rows x 7 columns]"
      ]
     },
     "execution_count": 12,
     "metadata": {},
     "output_type": "execute_result"
    }
   ],
   "source": [
    "df"
   ]
  },
  {
   "cell_type": "code",
   "execution_count": 63,
   "metadata": {},
   "outputs": [
    {
     "data": {
      "text/plain": [
       "70073"
      ]
     },
     "execution_count": 63,
     "metadata": {},
     "output_type": "execute_result"
    }
   ],
   "source": [
    "len(df[df['sum'] > 5])"
   ]
  },
  {
   "cell_type": "code",
   "execution_count": 64,
   "metadata": {},
   "outputs": [
    {
     "data": {
      "text/plain": [
       "42065"
      ]
     },
     "execution_count": 64,
     "metadata": {},
     "output_type": "execute_result"
    }
   ],
   "source": [
    "len(df[df['sum'] > 10])"
   ]
  },
  {
   "cell_type": "code",
   "execution_count": 65,
   "metadata": {},
   "outputs": [
    {
     "data": {
      "text/plain": [
       "731566"
      ]
     },
     "execution_count": 65,
     "metadata": {},
     "output_type": "execute_result"
    }
   ],
   "source": [
    "len(df[df['mono_docs'] == 1])"
   ]
  },
  {
   "cell_type": "code",
   "execution_count": 66,
   "metadata": {},
   "outputs": [
    {
     "data": {
      "text/plain": [
       "8601"
      ]
     },
     "execution_count": 66,
     "metadata": {},
     "output_type": "execute_result"
    }
   ],
   "source": [
    "len(df[df['mono_docs'] > 5])"
   ]
  },
  {
   "cell_type": "code",
   "execution_count": 67,
   "metadata": {},
   "outputs": [
    {
     "data": {
      "text/plain": [
       "2523"
      ]
     },
     "execution_count": 67,
     "metadata": {},
     "output_type": "execute_result"
    }
   ],
   "source": [
    "len(df[df['mono_docs'] > 10])"
   ]
  },
  {
   "cell_type": "markdown",
   "metadata": {},
   "source": [
    "We take a closer look at the most frequent authors in the corpus and the positions in multiauthor documents they are listed in."
   ]
  },
  {
   "cell_type": "code",
   "execution_count": 68,
   "metadata": {},
   "outputs": [
    {
     "data": {
      "text/html": [
       "<div>\n",
       "<style scoped>\n",
       "    .dataframe tbody tr th:only-of-type {\n",
       "        vertical-align: middle;\n",
       "    }\n",
       "\n",
       "    .dataframe tbody tr th {\n",
       "        vertical-align: top;\n",
       "    }\n",
       "\n",
       "    .dataframe thead th {\n",
       "        text-align: right;\n",
       "    }\n",
       "</style>\n",
       "<table border=\"1\" class=\"dataframe\">\n",
       "  <thead>\n",
       "    <tr style=\"text-align: right;\">\n",
       "      <th></th>\n",
       "      <th>Name</th>\n",
       "      <th>Monographies</th>\n",
       "      <th>Multiauthor documents</th>\n",
       "      <th>Documents combined</th>\n",
       "      <th>Average position in authorlists</th>\n",
       "    </tr>\n",
       "  </thead>\n",
       "  <tbody>\n",
       "    <tr>\n",
       "      <th>2322125285</th>\n",
       "      <td>Thomas E. Starzl</td>\n",
       "      <td>51</td>\n",
       "      <td>1041</td>\n",
       "      <td>1092</td>\n",
       "      <td>6.2</td>\n",
       "    </tr>\n",
       "    <tr>\n",
       "      <th>2114964236</th>\n",
       "      <td>Ray L. Frost</td>\n",
       "      <td>14</td>\n",
       "      <td>717</td>\n",
       "      <td>731</td>\n",
       "      <td>2.2</td>\n",
       "    </tr>\n",
       "    <tr>\n",
       "      <th>2779698592</th>\n",
       "      <td>B. Abbott</td>\n",
       "      <td>1</td>\n",
       "      <td>633</td>\n",
       "      <td>634</td>\n",
       "      <td>289.9</td>\n",
       "    </tr>\n",
       "    <tr>\n",
       "      <th>2648023147</th>\n",
       "      <td>Charlie Beckett</td>\n",
       "      <td>602</td>\n",
       "      <td>7</td>\n",
       "      <td>609</td>\n",
       "      <td>1.9</td>\n",
       "    </tr>\n",
       "    <tr>\n",
       "      <th>217383518</th>\n",
       "      <td>Csusb</td>\n",
       "      <td>577</td>\n",
       "      <td>0</td>\n",
       "      <td>577</td>\n",
       "      <td>0.0</td>\n",
       "    </tr>\n",
       "    <tr>\n",
       "      <th>2554158301</th>\n",
       "      <td>P. Baringer</td>\n",
       "      <td>1</td>\n",
       "      <td>570</td>\n",
       "      <td>571</td>\n",
       "      <td>769.5</td>\n",
       "    </tr>\n",
       "    <tr>\n",
       "      <th>2585383040</th>\n",
       "      <td>P. C. Bhat</td>\n",
       "      <td>2</td>\n",
       "      <td>568</td>\n",
       "      <td>570</td>\n",
       "      <td>841.7</td>\n",
       "    </tr>\n",
       "    <tr>\n",
       "      <th>2161346604</th>\n",
       "      <td>S. Banerjee</td>\n",
       "      <td>1</td>\n",
       "      <td>568</td>\n",
       "      <td>569</td>\n",
       "      <td>449.2</td>\n",
       "    </tr>\n",
       "    <tr>\n",
       "      <th>2605036012</th>\n",
       "      <td>S. Malik</td>\n",
       "      <td>1</td>\n",
       "      <td>567</td>\n",
       "      <td>568</td>\n",
       "      <td>691.9</td>\n",
       "    </tr>\n",
       "    <tr>\n",
       "      <th>2529492022</th>\n",
       "      <td>N. Varelas</td>\n",
       "      <td>1</td>\n",
       "      <td>563</td>\n",
       "      <td>564</td>\n",
       "      <td>1086.4</td>\n",
       "    </tr>\n",
       "  </tbody>\n",
       "</table>\n",
       "</div>"
      ],
      "text/plain": [
       "                        Name  Monographies  Multiauthor documents  \\\n",
       "2322125285  Thomas E. Starzl            51                   1041   \n",
       "2114964236      Ray L. Frost            14                    717   \n",
       "2779698592         B. Abbott             1                    633   \n",
       "2648023147   Charlie Beckett           602                      7   \n",
       "217383518              Csusb           577                      0   \n",
       "2554158301       P. Baringer             1                    570   \n",
       "2585383040        P. C. Bhat             2                    568   \n",
       "2161346604       S. Banerjee             1                    568   \n",
       "2605036012          S. Malik             1                    567   \n",
       "2529492022        N. Varelas             1                    563   \n",
       "\n",
       "            Documents combined  Average position in authorlists  \n",
       "2322125285                1092                              6.2  \n",
       "2114964236                 731                              2.2  \n",
       "2779698592                 634                            289.9  \n",
       "2648023147                 609                              1.9  \n",
       "217383518                  577                              0.0  \n",
       "2554158301                 571                            769.5  \n",
       "2585383040                 570                            841.7  \n",
       "2161346604                 569                            449.2  \n",
       "2605036012                 568                            691.9  \n",
       "2529492022                 564                           1086.4  "
      ]
     },
     "execution_count": 68,
     "metadata": {},
     "output_type": "execute_result"
    }
   ],
   "source": [
    "df.sort_values(by=['sum'],ascending=False).rename(columns={'name':'Name','mono_docs':'Monographies','multi_docs':\"Multiauthor documents\",'sum':'Documents combined','avg_position':'Average position in authorlists'}).head(10)[['Name','Monographies','Multiauthor documents','Documents combined','Average position in authorlists']]"
   ]
  },
  {
   "cell_type": "code",
   "execution_count": 69,
   "metadata": {},
   "outputs": [
    {
     "name": "stdout",
     "output_type": "stream",
     "text": [
      "For Thomas E. Starzl: Position lower than 5 in 340, lowest position 1\n",
      "For Ray L. Frost: Position lower than 5 in 615, lowest position 1\n",
      "For B. Abbott: Position lower than 5 in 535, lowest position 1\n",
      "For Charlie Beckett: Position lower than 5 in 6, lowest position 1\n",
      "For Csusb: Position lower than 5 in 1, lowest position 0\n",
      "For P. Baringer: Position lower than 5 in 4, lowest position 1\n",
      "For P. C. Bhat: Position lower than 5 in 4, lowest position 1\n",
      "For S. Banerjee: Position lower than 5 in 10, lowest position 1\n",
      "For S. Malik: Position lower than 5 in 4, lowest position 1\n",
      "For N. Varelas: Position lower than 5 in 1, lowest position 3\n"
     ]
    },
    {
     "name": "stderr",
     "output_type": "stream",
     "text": [
      "/opt/conda/lib/python3.7/site-packages/pandas/core/generic.py:5494: SettingWithCopyWarning: \n",
      "A value is trying to be set on a copy of a slice from a DataFrame\n",
      "\n",
      "See the caveats in the documentation: https://pandas.pydata.org/pandas-docs/stable/user_guide/indexing.html#returning-a-view-versus-a-copy\n",
      "  self[name] = value\n"
     ]
    }
   ],
   "source": [
    "tops = df.sort_values(by=['sum'],ascending=False).head(10)\n",
    "def analyze(id):\n",
    "    line = tops.loc[id]\n",
    "    if line.positions == []:\n",
    "        line.positions = [0]\n",
    "    n = line['name']\n",
    "    return f'For {n}: Position lower than 5 in {len([p for p in line.positions if p < 5 ])}, lowest position {min(line.positions)}'\n",
    "\n",
    "for i in tops.index:\n",
    "    print(analyze(i))"
   ]
  },
  {
   "cell_type": "code",
   "execution_count": 70,
   "metadata": {},
   "outputs": [
    {
     "data": {
      "text/plain": [
       "'Thomas E. Starzl'"
      ]
     },
     "execution_count": 70,
     "metadata": {},
     "output_type": "execute_result"
    }
   ],
   "source": [
    "tops.loc[2322125285]['name']"
   ]
  },
  {
   "cell_type": "code",
   "execution_count": 71,
   "metadata": {},
   "outputs": [
    {
     "name": "stdout",
     "output_type": "stream",
     "text": [
      "Total frequency mean: 3.03543829894155\n",
      "Total frequency median: 1.0\n"
     ]
    }
   ],
   "source": [
    "print(f\"Total frequency mean: {df['sum'].mean()}\")\n",
    "print(f\"Total frequency median: {df['sum'].median()}\")"
   ]
  },
  {
   "cell_type": "markdown",
   "metadata": {},
   "source": [
    "We calculate the number of multiauthor documents for which for all authors a monography is available."
   ]
  },
  {
   "cell_type": "code",
   "execution_count": 72,
   "metadata": {},
   "outputs": [],
   "source": [
    "all_known = list(filter(lambda entry: all([x['id'] in author_idset for x in entry]),authors))"
   ]
  },
  {
   "cell_type": "code",
   "execution_count": 73,
   "metadata": {},
   "outputs": [
    {
     "data": {
      "text/plain": [
       "66706"
      ]
     },
     "execution_count": 73,
     "metadata": {},
     "output_type": "execute_result"
    }
   ],
   "source": [
    "all_known_multi = list(filter(lambda entry: len(entry) > 1, all_known))\n",
    "len(all_known_multi)"
   ]
  },
  {
   "cell_type": "code",
   "execution_count": 74,
   "metadata": {},
   "outputs": [
    {
     "data": {
      "text/plain": [
       "2    54149\n",
       "3    10635\n",
       "4     1678\n",
       "5      210\n",
       "6       26\n",
       "7        8\n",
       "dtype: int64"
      ]
     },
     "execution_count": 74,
     "metadata": {},
     "output_type": "execute_result"
    }
   ],
   "source": [
    "len_all_known_multi = list(map(lambda entry: len(entry),all_known_multi))\n",
    "pd.Series(len_all_known_multi).value_counts()"
   ]
  },
  {
   "cell_type": "markdown",
   "metadata": {},
   "source": [
    "Then, we calculate the share of known (=monography available) authors for all documents"
   ]
  },
  {
   "cell_type": "code",
   "execution_count": 75,
   "metadata": {},
   "outputs": [],
   "source": [
    "def share(entry):\n",
    "    return (sum([i['id'] in author_idset for i in entry]),len(entry))\n",
    "\n",
    "known_v_all = list(map(lambda entry: share(entry),authors))\n",
    "shares = pd.DataFrame(known_v_all)\n",
    "shares = shares.rename(columns={0:\"known\",1:\"total\"})"
   ]
  },
  {
   "cell_type": "code",
   "execution_count": 76,
   "metadata": {},
   "outputs": [
    {
     "data": {
      "text/html": [
       "<div>\n",
       "<style scoped>\n",
       "    .dataframe tbody tr th:only-of-type {\n",
       "        vertical-align: middle;\n",
       "    }\n",
       "\n",
       "    .dataframe tbody tr th {\n",
       "        vertical-align: top;\n",
       "    }\n",
       "\n",
       "    .dataframe thead th {\n",
       "        text-align: right;\n",
       "    }\n",
       "</style>\n",
       "<table border=\"1\" class=\"dataframe\">\n",
       "  <thead>\n",
       "    <tr style=\"text-align: right;\">\n",
       "      <th></th>\n",
       "      <th>known</th>\n",
       "      <th>total</th>\n",
       "    </tr>\n",
       "  </thead>\n",
       "  <tbody>\n",
       "    <tr>\n",
       "      <th>0</th>\n",
       "      <td>0</td>\n",
       "      <td>2</td>\n",
       "    </tr>\n",
       "    <tr>\n",
       "      <th>1</th>\n",
       "      <td>0</td>\n",
       "      <td>2</td>\n",
       "    </tr>\n",
       "    <tr>\n",
       "      <th>2</th>\n",
       "      <td>1</td>\n",
       "      <td>3</td>\n",
       "    </tr>\n",
       "    <tr>\n",
       "      <th>3</th>\n",
       "      <td>1</td>\n",
       "      <td>1</td>\n",
       "    </tr>\n",
       "    <tr>\n",
       "      <th>4</th>\n",
       "      <td>0</td>\n",
       "      <td>2</td>\n",
       "    </tr>\n",
       "    <tr>\n",
       "      <th>...</th>\n",
       "      <td>...</td>\n",
       "      <td>...</td>\n",
       "    </tr>\n",
       "    <tr>\n",
       "      <th>3356740</th>\n",
       "      <td>1</td>\n",
       "      <td>1</td>\n",
       "    </tr>\n",
       "    <tr>\n",
       "      <th>3356741</th>\n",
       "      <td>1</td>\n",
       "      <td>1</td>\n",
       "    </tr>\n",
       "    <tr>\n",
       "      <th>3356742</th>\n",
       "      <td>0</td>\n",
       "      <td>3</td>\n",
       "    </tr>\n",
       "    <tr>\n",
       "      <th>3356743</th>\n",
       "      <td>1</td>\n",
       "      <td>1</td>\n",
       "    </tr>\n",
       "    <tr>\n",
       "      <th>3356744</th>\n",
       "      <td>1</td>\n",
       "      <td>1</td>\n",
       "    </tr>\n",
       "  </tbody>\n",
       "</table>\n",
       "<p>3356745 rows × 2 columns</p>\n",
       "</div>"
      ],
      "text/plain": [
       "         known  total\n",
       "0            0      2\n",
       "1            0      2\n",
       "2            1      3\n",
       "3            1      1\n",
       "4            0      2\n",
       "...        ...    ...\n",
       "3356740      1      1\n",
       "3356741      1      1\n",
       "3356742      0      3\n",
       "3356743      1      1\n",
       "3356744      1      1\n",
       "\n",
       "[3356745 rows x 2 columns]"
      ]
     },
     "execution_count": 76,
     "metadata": {},
     "output_type": "execute_result"
    }
   ],
   "source": [
    "shares"
   ]
  },
  {
   "cell_type": "code",
   "execution_count": 77,
   "metadata": {},
   "outputs": [
    {
     "name": "stdout",
     "output_type": "stream",
     "text": [
      "Dcouments with at least 50% known authors: 1327805\n"
     ]
    }
   ],
   "source": [
    "l = [a/b >= 0.5 if b != 0 else False for a,b in zip(shares['known'],shares['total']) ]\n",
    "print(f'Dcouments with at least 50% known authors: {sum(l)}')"
   ]
  },
  {
   "cell_type": "markdown",
   "metadata": {},
   "source": [
    "For documents with upto 10 authors, we create a heatmap with the number of authors in total and the number of authors which also have a monography"
   ]
  },
  {
   "cell_type": "code",
   "execution_count": null,
   "metadata": {},
   "outputs": [
    {
     "data": {
      "image/png": "[encoded data removed]",
      "text/plain": [
       "<Figure size 1152x360 with 2 Axes>"
      ]
     },
     "metadata": {
      "needs_background": "light"
     },
     "output_type": "display_data"
    }
   ],
   "source": [
    "ind= range(11)[2:]\n",
    "col = range(11)[1:]\n",
    "hmdf = pd.DataFrame([[len(shares[(shares['total']==j) & (shares['known']==i)]) for i in col] for j in ind], index=ind, columns=col).astype(float)\n",
    "mask = np.ma.masked_where(hmdf == 0.0, hmdf)\n",
    "\n",
    "plt.figure(figsize = (16,5))\n",
    "sns.heatmap(hmdf, linewidth=0.5, annot=True, mask=mask.mask, fmt='.0f',norm=LogNorm(),cbar_kws={'label': 'Number of documents'})\n",
    "plt.ylabel(\"Number of authors (total)\")\n",
    "plt.xlabel(\"Number of authors with monographies in corpus\")\n",
    "plt.show()"
   ]
  },
  {
   "cell_type": "markdown",
   "metadata": {},
   "source": [
    "Then, we create a heatmap with the combination of monographies and multiauthor documents per author"
   ]
  },
  {
   "cell_type": "code",
   "execution_count": 80,
   "metadata": {},
   "outputs": [
    {
     "data": {
      "image/png": "[encoded data removed]",
      "text/plain": [
       "<Figure size 1152x360 with 2 Axes>"
      ]
     },
     "metadata": {
      "needs_background": "light"
     },
     "output_type": "display_data"
    }
   ],
   "source": [
    "\n",
    "\n",
    "ind= range(11)[1:]\n",
    "col = range(11)[0:]\n",
    "hmdf = pd.DataFrame([[len(df[(df['mono_docs']==i) & (df['multi_docs']==j)]) for i in ind] for j in col], index=col, columns=ind)\n",
    "\n",
    "plt.figure(figsize = (16,5))\n",
    "sns.heatmap(hmdf, linewidth=0.5, annot=True, fmt='d',norm=LogNorm(),cbar_kws={'label': 'Number of authors'})\n",
    "plt.xlabel(\"Monographs per author\")\n",
    "plt.ylabel(\"Multiauthor documents per author\")\n",
    "plt.show()"
   ]
  },
  {
   "cell_type": "code",
   "execution_count": 81,
   "metadata": {},
   "outputs": [
    {
     "data": {
      "image/png": "[encoded data removed]",
      "text/plain": [
       "<Figure size 1152x360 with 2 Axes>"
      ]
     },
     "metadata": {
      "needs_background": "light"
     },
     "output_type": "display_data"
    }
   ],
   "source": [
    "ind= range(11)[1:]\n",
    "col = range(11)[0:]\n",
    "hmdf = pd.DataFrame([[len(df[(df['mono_docs']==i) & (df['multi_docs']==j)]) for i in ind] for j in col], index=col, columns=ind)\n",
    "\n",
    "plt.figure(figsize = (16,5))\n",
    "sns.heatmap(hmdf, linewidth=0.5, annot=True, fmt='d',norm=LogNorm(),cmap=sns.color_palette(\"Accent_r\"))\n",
    "plt.xlabel(\"Monographs per author\")\n",
    "plt.ylabel(\"Multiauthor documents per author\")\n",
    "plt.show()"
   ]
  },
  {
   "cell_type": "markdown",
   "metadata": {},
   "source": [
    "Next, we create countplot showing the counts of available monographies per author. We create different versions with grouped and ungrouped bars for high numbers"
   ]
  },
  {
   "cell_type": "code",
   "execution_count": 84,
   "metadata": {},
   "outputs": [],
   "source": [
    "mono_freq = df['mono_docs'].value_counts()\n",
    "ser = pd.Series(data=[0 for i in range(max(mono_freq.index)+1)[1:]], index=range(max(mono_freq.index)+1)[1:])\n",
    "mono_freq = mono_freq.combine(ser, max, fill_value=0).sort_index()"
   ]
  },
  {
   "cell_type": "code",
   "execution_count": 85,
   "metadata": {},
   "outputs": [
    {
     "data": {
      "text/plain": [
       "1      731566\n",
       "2       33624\n",
       "3       12453\n",
       "4        6189\n",
       "5        3542\n",
       "        ...  \n",
       "598         0\n",
       "599         0\n",
       "600         0\n",
       "601         0\n",
       "602         1\n",
       "Length: 602, dtype: int64"
      ]
     },
     "execution_count": 85,
     "metadata": {},
     "output_type": "execute_result"
    }
   ],
   "source": [
    "mono_freq"
   ]
  },
  {
   "cell_type": "code",
   "execution_count": 27,
   "metadata": {},
   "outputs": [],
   "source": [
    "mono_freq = df['mono_docs'].value_counts()\n",
    "ser = pd.Series(data=[0 for i in range(102)[1:]], index=range(102)[1:])\n",
    "mono_freq = mono_freq.combine(ser, max, fill_value=0).sort_index()\n",
    "app = pd.Series(data=[sum(mono_freq[mono_freq.index > 100])], index=['>100'])\n",
    "mono_freq = mono_freq[mono_freq.index <= 100].append(app)"
   ]
  },
  {
   "cell_type": "code",
   "execution_count": 28,
   "metadata": {},
   "outputs": [
    {
     "data": {
      "text/plain": [
       "<AxesSubplot:title={'center':'Authorcount by number of available monographs (authors with more than 100 monographs grouped)'}, xlabel='Number of monographs per author', ylabel='Count of authors'>"
      ]
     },
     "execution_count": 28,
     "metadata": {},
     "output_type": "execute_result"
    },
    {
     "data": {
      "image/png": "[encoded data removed]",
      "text/plain": [
       "<Figure size 864x432 with 1 Axes>"
      ]
     },
     "metadata": {
      "needs_background": "light"
     },
     "output_type": "display_data"
    }
   ],
   "source": [
    "plt.figure(figsize=(12, 6))\n",
    "plot = sns.barplot(x=mono_freq.index, y=mono_freq)\n",
    "plot.set(yscale='log',xlabel='Number of monographs per author', ylabel='Count of authors',title='Authorcount by number of available monographs (authors with more than 100 monographs grouped)')\n",
    "for i,label in enumerate(plot.xaxis.get_ticklabels()):\n",
    "    if i < 100:\n",
    "        if i%10==0:\n",
    "            continue\n",
    "        else:\n",
    "            label.set_visible(False)\n",
    "    else:\n",
    "        if i%100==0:\n",
    "            continue\n",
    "        else:\n",
    "            label.set_visible(False)\n",
    "plot"
   ]
  },
  {
   "cell_type": "code",
   "execution_count": 46,
   "metadata": {},
   "outputs": [],
   "source": [
    "mono_freq = df['mono_docs'].value_counts()\n",
    "ser = pd.Series(data=[0 for i in range(max(mono_freq.index)+1)[1:]], index=range(max(mono_freq.index)+1)[1:])\n",
    "mono_freq = mono_freq.combine(ser, max, fill_value=0).sort_index()"
   ]
  },
  {
   "cell_type": "code",
   "execution_count": 47,
   "metadata": {},
   "outputs": [
    {
     "data": {
      "text/plain": [
       "<AxesSubplot:title={'center':'Authorcount by number of available monographs'}, xlabel='Number of monographs per author', ylabel='Count of authors'>"
      ]
     },
     "execution_count": 47,
     "metadata": {},
     "output_type": "execute_result"
    },
    {
     "data": {
      "image/png": "[encoded data removed]",
      "text/plain": [
       "<Figure size 1152x576 with 1 Axes>"
      ]
     },
     "metadata": {
      "needs_background": "light"
     },
     "output_type": "display_data"
    }
   ],
   "source": [
    "plt.figure(figsize=(16, 8))\n",
    "plot = sns.barplot(x=mono_freq.index, y=mono_freq)\n",
    "plot.set(yscale='log',xlabel='Number of monographs per author', ylabel='Count of authors',title='Authorcount by number of available monographs')\n",
    "for i,label in enumerate(plot.xaxis.get_ticklabels()[:-1]):\n",
    "    if i < 100:\n",
    "        if i%25==0:\n",
    "            continue\n",
    "        else:\n",
    "            label.set_visible(False)\n",
    "    else:\n",
    "        if i%100==0 and i != 600:\n",
    "            continue\n",
    "        else:\n",
    "            label.set_visible(False)\n",
    "plot"
   ]
  },
  {
   "cell_type": "markdown",
   "metadata": {},
   "source": [
    "We do the same again for the total number of documents"
   ]
  },
  {
   "cell_type": "code",
   "execution_count": 88,
   "metadata": {},
   "outputs": [],
   "source": [
    "comb_freq = df['sum'].value_counts()\n",
    "ser = pd.Series(data=[0 for i in range(102)[1:]], index=range(102)[1:])\n",
    "comb_freq = comb_freq.combine(ser, max, fill_value=0).sort_index()\n",
    "app = pd.Series(data=[sum(comb_freq[comb_freq.index > 100])], index=['>100'])\n",
    "comb_freq = comb_freq[comb_freq.index <= 100].append(app)"
   ]
  },
  {
   "cell_type": "code",
   "execution_count": 138,
   "metadata": {
    "tags": []
   },
   "outputs": [
    {
     "data": {
      "text/plain": [
       "<AxesSubplot:title={'center':'Authorcount by number of available documents (monographies + multiauthor documents). Authors with more than 100 documents grouped, only authors with at least 1 monography counted'}, xlabel='Number of documents per author', ylabel='Count of authors'>"
      ]
     },
     "execution_count": 138,
     "metadata": {},
     "output_type": "execute_result"
    },
    {
     "data": {
      "image/png": "[encoded data removed]",
      "text/plain": [
       "<Figure size 1152x576 with 1 Axes>"
      ]
     },
     "metadata": {
      "needs_background": "light"
     },
     "output_type": "display_data"
    }
   ],
   "source": [
    "plt.figure(figsize=(16, 8))\n",
    "plot = sns.barplot(x=comb_freq.index, y=comb_freq)\n",
    "plot.set(yscale='log',xlabel='Number of documents per author', ylabel='Count of authors',title='Authorcount by number of available documents (monographies + multiauthor documents). Authors with more than 100 documents grouped, only authors with at least 1 monography counted')\n",
    "for i,label in enumerate(plot.xaxis.get_ticklabels()):\n",
    "    if i <= 100:\n",
    "        if i%10==0:\n",
    "            continue\n",
    "        else:\n",
    "            label.set_visible(False)\n",
    "    else:\n",
    "        continue\n",
    "plot"
   ]
  },
  {
   "cell_type": "code",
   "execution_count": 33,
   "metadata": {},
   "outputs": [],
   "source": [
    "comb_freq = df['sum'].value_counts()\n",
    "ser = pd.Series(data=[0 for i in range(max(comb_freq.index)+1)[1:]], index=range(max(comb_freq.index)+1)[1:])\n",
    "comb_freq = comb_freq.combine(ser, max, fill_value=0).sort_index()"
   ]
  },
  {
   "cell_type": "code",
   "execution_count": 45,
   "metadata": {},
   "outputs": [
    {
     "data": {
      "text/plain": [
       "<AxesSubplot:title={'center':'Authorcount by number of available documents (monographies + multiauthor documents). Only authors with at least 1 monography counted'}, xlabel='Number of documents per author', ylabel='Count of authors'>"
      ]
     },
     "execution_count": 45,
     "metadata": {},
     "output_type": "execute_result"
    },
    {
     "data": {
      "image/png": "[encoded data removed]",
      "text/plain": [
       "<Figure size 1152x576 with 1 Axes>"
      ]
     },
     "metadata": {
      "needs_background": "light"
     },
     "output_type": "display_data"
    }
   ],
   "source": [
    "plt.figure(figsize=(16, 8))\n",
    "plot = sns.barplot(x=comb_freq.index, y=comb_freq)\n",
    "plot.set(yscale='log',xlabel='Number of documents per author', ylabel='Count of authors',title='Authorcount by number of available documents (monographies + multiauthor documents). Only authors with at least 1 monography counted')\n",
    "for i,label in enumerate(plot.xaxis.get_ticklabels()[:-1]):\n",
    "    if i <= 100:\n",
    "        if i%25==0:\n",
    "            continue\n",
    "        else:\n",
    "            label.set_visible(False)\n",
    "    else:\n",
    "        if i%100==0:\n",
    "            continue\n",
    "        else:\n",
    "            label.set_visible(False)\n",
    "plot"
   ]
  },
  {
   "cell_type": "code",
   "execution_count": 90,
   "metadata": {},
   "outputs": [
    {
     "data": {
      "text/plain": [
       "<AxesSubplot:title={'center':'Authorcount by number of available monographies (bars with height 0 left out)'}, xlabel='Number of monographies per author', ylabel='Count of authors'>"
      ]
     },
     "execution_count": 90,
     "metadata": {},
     "output_type": "execute_result"
    },
    {
     "data": {
      "image/png": "[encoded data removed]",
      "text/plain": [
       "<Figure size 720x432 with 1 Axes>"
      ]
     },
     "metadata": {
      "needs_background": "light"
     },
     "output_type": "display_data"
    }
   ],
   "source": [
    "plt.figure(figsize=(10, 6))\n",
    "plot = sns.countplot(data=df,x='mono_docs')\n",
    "plot.set(yscale='log',xlabel='Number of monographies per author', ylabel='Count of authors',title='Authorcount by number of available monographies (bars with height 0 left out)')\n",
    "l = len(plot.xaxis.get_ticklabels())\n",
    "for i,label in enumerate(plot.xaxis.get_ticklabels()[:-1]):\n",
    "    if i%5==0 and i<l-5:\n",
    "        continue\n",
    "    else:\n",
    "        label.set_visible(False)\n",
    "plot"
   ]
  },
  {
   "cell_type": "code",
   "execution_count": 91,
   "metadata": {},
   "outputs": [
    {
     "data": {
      "text/plain": [
       "<AxesSubplot:title={'center':'Authorcount by number of available monographs (bars with height 0 left out)'}, xlabel='Number of monographs per author', ylabel='Number of authors'>"
      ]
     },
     "execution_count": 91,
     "metadata": {},
     "output_type": "execute_result"
    },
    {
     "data": {
      "image/png": "[encoded data removed]",
      "text/plain": [
       "<Figure size 720x432 with 1 Axes>"
      ]
     },
     "metadata": {
      "needs_background": "light"
     },
     "output_type": "display_data"
    }
   ],
   "source": [
    "plt.figure(figsize=(10, 6))\n",
    "plot = sns.countplot(data=df,x='mono_docs',color='blue')\n",
    "plot.set(yscale='log',xlabel='Number of monographs per author', ylabel='Number of authors',title='Authorcount by number of available monographs (bars with height 0 left out)')\n",
    "l = len(plot.xaxis.get_ticklabels())\n",
    "for i,label in enumerate(plot.xaxis.get_ticklabels()[:-1]):\n",
    "    if i%5==0 and i<l-5:\n",
    "        continue\n",
    "    else:\n",
    "        label.set_visible(False)\n",
    "plot"
   ]
  },
  {
   "cell_type": "code",
   "execution_count": 92,
   "metadata": {},
   "outputs": [
    {
     "data": {
      "text/plain": [
       "<AxesSubplot:title={'center':'Authorcount by number of available documents, only authors with at least one monography considered (bars with height 0 left out)'}, xlabel='Number of documents per author', ylabel='Count of authors'>"
      ]
     },
     "execution_count": 92,
     "metadata": {},
     "output_type": "execute_result"
    },
    {
     "data": {
      "image/png": "[encoded data removed]",
      "text/plain": [
       "<Figure size 1800x720 with 1 Axes>"
      ]
     },
     "metadata": {
      "needs_background": "light"
     },
     "output_type": "display_data"
    }
   ],
   "source": [
    "plt.figure(figsize=(25, 10))\n",
    "plt.xticks(rotation=-45)\n",
    "plot = sns.countplot(data=df,x='sum')\n",
    "plot.set(yscale='log',xlabel='Number of documents per author', ylabel='Count of authors',title='Authorcount by number of available documents, only authors with at least one monography considered (bars with height 0 left out)')\n",
    "l = len(plot.xaxis.get_ticklabels())\n",
    "for i,label in enumerate(plot.xaxis.get_ticklabels()[:-1]):\n",
    "    if i%10==0 and i<100:\n",
    "        continue\n",
    "    elif i%20==0 and i>=100 and i<l-20:\n",
    "        continue\n",
    "    else:\n",
    "        label.set_visible(False)\n",
    "plot"
   ]
  },
  {
   "cell_type": "code",
   "execution_count": 93,
   "metadata": {},
   "outputs": [
    {
     "data": {
      "text/plain": [
       "<AxesSubplot:title={'center':'Authorcount by number of available documents, only authors with at least one monography considered (bars with height 0 left out)'}, xlabel='Number of documents per author', ylabel='Count of authors'>"
      ]
     },
     "execution_count": 93,
     "metadata": {},
     "output_type": "execute_result"
    },
    {
     "data": {
      "image/png": "[encoded data removed]",
      "text/plain": [
       "<Figure size 720x432 with 1 Axes>"
      ]
     },
     "metadata": {
      "needs_background": "light"
     },
     "output_type": "display_data"
    }
   ],
   "source": [
    "plt.figure(figsize=(10, 6))\n",
    "plt.xticks(rotation=-45)\n",
    "plot = sns.countplot(data=df,x='sum')\n",
    "plot.set(yscale='log',xlabel='Number of documents per author', ylabel='Count of authors',title='Authorcount by number of available documents, only authors with at least one monography considered (bars with height 0 left out)')\n",
    "l = len(plot.xaxis.get_ticklabels())\n",
    "for i,label in enumerate(plot.xaxis.get_ticklabels()[:-1]):\n",
    "    if i%10==0 and i<100:\n",
    "        continue\n",
    "    elif i%20==0 and i>=100 and i<l-20:\n",
    "        continue\n",
    "    else:\n",
    "        label.set_visible(False)\n",
    "plot"
   ]
  },
  {
   "cell_type": "code",
   "execution_count": 94,
   "metadata": {},
   "outputs": [
    {
     "data": {
      "text/plain": [
       "1     651192\n",
       "2      33234\n",
       "3      18585\n",
       "4      12962\n",
       "5       9929\n",
       "6       7776\n",
       "7       6357\n",
       "8       5353\n",
       "9       4576\n",
       "10      3946\n",
       "11      3410\n",
       "12      2953\n",
       "13      2638\n",
       "14      2375\n",
       "15      2096\n",
       "16      1941\n",
       "17      1649\n",
       "18      1570\n",
       "19      1423\n",
       "20      1253\n",
       "Name: sum, dtype: int64"
      ]
     },
     "execution_count": 94,
     "metadata": {},
     "output_type": "execute_result"
    }
   ],
   "source": [
    "df['sum'].value_counts().sort_index().head(20)"
   ]
  },
  {
   "cell_type": "code",
   "execution_count": 95,
   "metadata": {},
   "outputs": [
    {
     "data": {
      "text/plain": [
       "1     731566\n",
       "2      33624\n",
       "3      12453\n",
       "4       6189\n",
       "5       3542\n",
       "6       2271\n",
       "7       1463\n",
       "8       1037\n",
       "9        746\n",
       "10       561\n",
       "11       434\n",
       "12       306\n",
       "13       306\n",
       "14       201\n",
       "15       156\n",
       "16       160\n",
       "17       103\n",
       "18       100\n",
       "19        90\n",
       "20        73\n",
       "Name: mono_docs, dtype: int64"
      ]
     },
     "execution_count": 95,
     "metadata": {},
     "output_type": "execute_result"
    }
   ],
   "source": [
    "df['mono_docs'].value_counts().sort_index().head(20)"
   ]
  },
  {
   "cell_type": "markdown",
   "metadata": {},
   "source": [
    "Next, we take a look at the length of the documents and extract the data for this from the corpus files"
   ]
  },
  {
   "cell_type": "code",
   "execution_count": 96,
   "metadata": {},
   "outputs": [
    {
     "name": "stdout",
     "output_type": "stream",
     "text": [
      "2021-06-24 19:43:12.296667\n",
      "00\n",
      "2021-06-24 19:45:03.878136\n",
      "01\n",
      "2021-06-24 19:47:30.242410\n",
      "02\n",
      "2021-06-24 19:49:09.799101\n",
      "03\n",
      "2021-06-24 19:52:33.866831\n",
      "04\n",
      "2021-06-24 19:54:05.408282\n",
      "05\n",
      "2021-06-24 19:55:44.326465\n",
      "06\n",
      "2021-06-24 19:56:43.733334\n",
      "08\n",
      "2021-06-24 19:57:12.729803\n",
      "09\n",
      "2021-06-24 19:57:41.504818\n",
      "10\n",
      "2021-06-24 19:58:09.524947\n",
      "11\n",
      "2021-06-24 19:58:37.445397\n",
      "12\n",
      "2021-06-24 19:59:06.343981\n",
      "13\n",
      "2021-06-24 19:59:35.196367\n",
      "14\n",
      "2021-06-24 20:01:08.437380\n",
      "15\n",
      "2021-06-24 20:03:05.709788\n",
      "16\n",
      "2021-06-24 20:05:05.660844\n",
      "17\n",
      "2021-06-24 20:06:58.340178\n",
      "18\n",
      "2021-06-24 20:08:55.251598\n",
      "19\n",
      "2021-06-24 20:10:10.898750\n",
      "20\n",
      "2021-06-24 20:11:45.936362\n",
      "21\n",
      "2021-06-24 20:13:59.555741\n",
      "22\n",
      "2021-06-24 20:16:00.448595\n",
      "23\n",
      "2021-06-24 20:16:46.517398\n",
      "24\n",
      "2021-06-24 20:17:32.984956\n",
      "25\n",
      "2021-06-24 20:18:26.249818\n",
      "26\n",
      "2021-06-24 20:19:20.925381\n",
      "27\n",
      "2021-06-24 20:20:16.410544\n",
      "28\n",
      "2021-06-24 20:21:11.204092\n",
      "29\n",
      "2021-06-24 20:22:38.009721\n",
      "30\n",
      "2021-06-24 20:25:08.468669\n",
      "31\n",
      "2021-06-24 20:26:31.089732\n",
      "32\n",
      "2021-06-24 20:28:27.323111\n",
      "33\n",
      "2021-06-24 20:30:07.571912\n",
      "34\n",
      "2021-06-24 20:32:04.961006\n",
      "35\n",
      "2021-06-24 20:32:16.292471\n"
     ]
    }
   ],
   "source": [
    "def length(line):\n",
    "    j = loads(line)\n",
    "    return(len(j['fullText']),len(j['fullText'].split()),len(j['authors']))\n",
    "\n",
    "print(datetime.now())\n",
    "lengths = []\n",
    "for p in filepaths:\n",
    "    print(basename(p))\n",
    "    rdd = sc.textFile(f\"file://{p}\")\n",
    "    data = rdd.map(lambda line: length(line))\n",
    "    lengths = lengths + data.collect()\n",
    "    print(datetime.now())\n",
    "textlength = pd.DataFrame(lengths,columns=[\"characters\",\"words\",\"authors\"])"
   ]
  },
  {
   "cell_type": "markdown",
   "metadata": {},
   "source": [
    "We define a method that returns the number of documents fallin in specified windows of textlength"
   ]
  },
  {
   "cell_type": "code",
   "execution_count": 97,
   "metadata": {},
   "outputs": [],
   "source": [
    "def total_for_classes(label,series,classes):\n",
    "    print(label)\n",
    "    for lower,upper in classes:\n",
    "        if not upper:\n",
    "            upper = float('inf')\n",
    "        print(f'From {lower} to {upper}: {len(series[(series >= lower) & (series <= upper)])}')\n",
    "    print('\\n\\n')"
   ]
  },
  {
   "cell_type": "markdown",
   "metadata": {},
   "source": [
    "Then we use this method, on the number of characters and the number of words"
   ]
  },
  {
   "cell_type": "code",
   "execution_count": 98,
   "metadata": {},
   "outputs": [
    {
     "name": "stdout",
     "output_type": "stream",
     "text": [
      "Length by characters\n",
      "From 0 to 3000: 39354\n",
      "From 3001 to 5000: 96069\n",
      "From 5001 to 50000: 2273249\n",
      "From 50001 to 250000: 771756\n",
      "From 250001 to inf: 176317\n",
      "\n",
      "\n",
      "\n",
      "Length by words\n",
      "From 0 to 500: 57650\n",
      "From 501 to 1000: 148305\n",
      "From 1001 to 10000: 2463795\n",
      "From 10001 to 40000: 513298\n",
      "From 40001 to inf: 173697\n",
      "\n",
      "\n",
      "\n",
      "Length by characters for monographies\n",
      "From 0 to 3000: 13704\n",
      "From 3001 to 5000: 32060\n",
      "From 5001 to 50000: 467847\n",
      "From 50001 to 250000: 301975\n",
      "From 250001 to inf: 157542\n",
      "\n",
      "\n",
      "\n",
      "Length by characters for multiauthor\n",
      "From 0 to 3000: 25597\n",
      "From 3001 to 5000: 63833\n",
      "From 5001 to 50000: 1799435\n",
      "From 50001 to 250000: 468473\n",
      "From 250001 to inf: 18744\n",
      "\n",
      "\n",
      "\n"
     ]
    }
   ],
   "source": [
    "total_for_classes('Length by characters',textlength['characters'],[(0,3000),(3001,5000),(5001,50000),(50001,250000),(250001,None)])\n",
    "total_for_classes('Length by words',textlength['words'],[(0,500),(501,1000),(1001,10000),(10001,40000),(40001,None)])\n",
    "total_for_classes('Length by characters for monographies',textlength[textlength['authors'] == 1]['characters'],[(0,3000),(3001,5000),(5001,50000),(50001,250000),(250001,None)])\n",
    "total_for_classes('Length by characters for multiauthor',textlength[textlength['authors'] > 1]['characters'],[(0,3000),(3001,5000),(5001,50000),(50001,250000),(250001,None)])\n",
    "\n"
   ]
  },
  {
   "cell_type": "code",
   "execution_count": 99,
   "metadata": {},
   "outputs": [
    {
     "name": "stdout",
     "output_type": "stream",
     "text": [
      "Text_char_mean:  62853.0570281627\n",
      "Text_char_median:  31234.0\n",
      "Text_words_mean:  10026.509679764176\n",
      "Text_words_median:  5008.0\n",
      "Text_char_mono__mean:  122083.44053094763\n",
      "Text_char_mono_median:  44862.0\n",
      "Text_char_multi_mean:  38685.91932433308\n",
      "Text_char_multi_median:  29071.0\n"
     ]
    }
   ],
   "source": [
    "print(\"Text_char_mean: \",textlength['characters'].mean())\n",
    "print(\"Text_char_median: \",textlength['characters'].median())\n",
    "print(\"Text_words_mean: \",textlength['words'].mean())\n",
    "print(\"Text_words_median: \",textlength['words'].median())\n",
    "print(\"Text_char_mono__mean: \",textlength[textlength['authors'] == 1]['characters'].mean())\n",
    "print(\"Text_char_mono_median: \",textlength[textlength['authors'] == 1]['characters'].median())\n",
    "print(\"Text_char_multi_mean: \",textlength[textlength['authors'] > 1]['characters'].mean())\n",
    "print(\"Text_char_multi_median: \",textlength[textlength['authors'] > 1]['characters'].median())"
   ]
  },
  {
   "cell_type": "code",
   "execution_count": 100,
   "metadata": {},
   "outputs": [
    {
     "name": "stdout",
     "output_type": "stream",
     "text": [
      "Shorter than 3000:  39354\n",
      "3001-5000:  96069\n",
      "5001-50000:  2273249\n",
      "50001-250000:  771756\n",
      "Longer than 250000:  176317\n"
     ]
    }
   ],
   "source": [
    "print(\"Shorter than 3000: \",len(textlength[textlength['characters'] <= 3000]))\n",
    "print(\"3001-5000: \",len(textlength[(textlength['characters'] > 3000) & (textlength['characters'] <= 5000)]))\n",
    "print(\"5001-50000: \",len(textlength[(textlength['characters'] > 5000) & (textlength['characters'] <= 50000)]))\n",
    "print(\"50001-250000: \",len(textlength[(textlength['characters'] > 50000) & (textlength['characters'] <= 250000)]))\n",
    "print(\"Longer than 250000: \",len(textlength[textlength['characters'] > 250000]))"
   ]
  },
  {
   "cell_type": "code",
   "execution_count": 101,
   "metadata": {},
   "outputs": [
    {
     "name": "stdout",
     "output_type": "stream",
     "text": [
      "Shorter than 500:  57650\n",
      "500-1000:  148305\n",
      "1001-10000:  2463795\n",
      "10001-40000:  513298\n",
      "Longer than 40000:  173697\n"
     ]
    }
   ],
   "source": [
    "print(\"Shorter than 500: \",len(textlength[textlength['words'] <= 500]))\n",
    "print(\"500-1000: \",len(textlength[(textlength['words'] > 500) & (textlength['words'] <= 1000)]))\n",
    "print(\"1001-10000: \",len(textlength[(textlength['words'] > 1000) & (textlength['words'] <= 10000)]))\n",
    "print(\"10001-40000: \",len(textlength[(textlength['words'] > 10000) & (textlength['words'] <= 40000)]))\n",
    "print(\"Longer than 40000: \",len(textlength[textlength['words'] > 40000]))"
   ]
  },
  {
   "cell_type": "code",
   "execution_count": 102,
   "metadata": {},
   "outputs": [
    {
     "name": "stdout",
     "output_type": "stream",
     "text": [
      "Shorter than 1000:  0\n",
      "Shorter than 100:  0\n",
      "Shorter than 100 words:  2\n",
      "Shorter than 5 words:  0\n"
     ]
    }
   ],
   "source": [
    "print(\"Shorter than 1000: \",len(textlength[textlength['characters'] < 1000]))\n",
    "print(\"Shorter than 100: \",len(textlength[textlength['characters'] < 500]))\n",
    "print(\"Shorter than 100 words: \",len(textlength[textlength['words'] < 100]))\n",
    "print(\"Shorter than 5 words: \",len(textlength[textlength['words'] < 5]))"
   ]
  },
  {
   "cell_type": "markdown",
   "metadata": {},
   "source": [
    "Last, we look at the statistics for seperate fields of study. We extract the FOS data from the corpus files"
   ]
  },
  {
   "cell_type": "code",
   "execution_count": 103,
   "metadata": {},
   "outputs": [
    {
     "name": "stdout",
     "output_type": "stream",
     "text": [
      "2021-06-24 20:32:23.471856\n",
      "00\n",
      "2021-06-24 20:33:20.597284\n",
      "01\n",
      "2021-06-24 20:34:34.689319\n",
      "02\n",
      "2021-06-24 20:35:30.776075\n",
      "03\n",
      "2021-06-24 20:37:12.458276\n",
      "04\n",
      "2021-06-24 20:38:09.760062\n",
      "05\n",
      "2021-06-24 20:39:02.266034\n",
      "06\n",
      "2021-06-24 20:39:20.383090\n",
      "07\n",
      "2021-06-24 20:39:37.024711\n",
      "08\n",
      "2021-06-24 20:39:53.605993\n",
      "09\n",
      "2021-06-24 20:40:10.397130\n",
      "10\n",
      "2021-06-24 20:40:27.298581\n",
      "11\n",
      "2021-06-24 20:40:44.185341\n",
      "12\n",
      "2021-06-24 20:41:00.974309\n",
      "13\n",
      "2021-06-24 20:41:18.371699\n",
      "14\n",
      "2021-06-24 20:42:15.486468\n",
      "15\n",
      "2021-06-24 20:43:18.217718\n",
      "16\n",
      "2021-06-24 20:44:18.913649\n",
      "17\n",
      "2021-06-24 20:45:26.918201\n",
      "18\n",
      "2021-06-24 20:46:30.348457\n",
      "19\n",
      "2021-06-24 20:47:14.416126\n",
      "20\n",
      "2021-06-24 20:48:09.976351\n",
      "21\n",
      "2021-06-24 20:49:23.358685\n",
      "22\n",
      "2021-06-24 20:50:31.059544\n",
      "23\n",
      "2021-06-24 20:50:59.701844\n",
      "24\n",
      "2021-06-24 20:51:26.912087\n",
      "25\n",
      "2021-06-24 20:51:58.109023\n",
      "26\n",
      "2021-06-24 20:52:38.810494\n",
      "27\n",
      "2021-06-24 20:53:12.945759\n",
      "28\n",
      "2021-06-24 20:53:46.378552\n",
      "29\n",
      "2021-06-24 20:54:35.417281\n",
      "30\n",
      "2021-06-24 20:55:55.210311\n",
      "31\n",
      "2021-06-24 20:56:43.218392\n",
      "32\n",
      "2021-06-24 20:57:50.371356\n",
      "33\n",
      "2021-06-24 20:58:46.168234\n",
      "34\n",
      "2021-06-24 20:59:47.399240\n",
      "35\n",
      "2021-06-24 20:59:54.882546\n"
     ]
    }
   ],
   "source": [
    "def get_fields_stats(line):\n",
    "    j = loads(line)\n",
    "    return (j['fieldsOfStudy'],len(j['authors']),len(j['fullText']))\n",
    "\n",
    "print(datetime.now())\n",
    "all_data = []\n",
    "for p in filepaths:\n",
    "    print(basename(p))\n",
    "    rdd = sc.textFile(f\"file://{p}\")\n",
    "    data = rdd.map(lambda line: get_fields_stats(line))\n",
    "    all_data = all_data + data.collect()\n",
    "    print(datetime.now())"
   ]
  },
  {
   "cell_type": "code",
   "execution_count": 104,
   "metadata": {},
   "outputs": [
    {
     "data": {
      "text/plain": [
       "field\n",
       "Agriculture, Forestry and Veterinary Medicine                                                    4\n",
       "Analytical Chemistry, Method Development (Chemistry)                                             4\n",
       "Ancient Cultures                                                                                 3\n",
       "Astrophysics and Astronomy                                                                       3\n",
       "Atmospheric Science, Oceanography and Climate Research                                           4\n",
       "Basic Biological and Medical Research                                                            5\n",
       "Biological Chemistry and Food Chemistry                                                          4\n",
       "Computer Science                                                                                 3\n",
       "Condensed Matter Physics                                                                         3\n",
       "Construction Engineering and Architecture                                                        3\n",
       "Economics                                                                                        2\n",
       "Educational Research                                                                             2\n",
       "Electrical Engineering and Information Technology                                                4\n",
       "Fine Arts, Music, Theatre and Media Studies                                                      1\n",
       "Geochemistry, Mineralogy and Crystallography                                                     4\n",
       "Geography                                                                                        3\n",
       "Geology and Palaeontology                                                                        4\n",
       "Geophysics and Geodesy                                                                           4\n",
       "Heat Energy Technology, Thermal Machines, Fluid Mechanics                                        3\n",
       "History                                                                                          1\n",
       "Jurisprudence                                                                                    1\n",
       "Linguistics                                                                                      2\n",
       "Materials Engineering                                                                            4\n",
       "Materials Science                                                                                4\n",
       "Mathematics                                                                                      2\n",
       "Mechanics and Constructive Mechanical Engineering                                                3\n",
       "Medicine                                                                                         5\n",
       "Microbiology, Virology and Immunology                                                            5\n",
       "Molecular Chemistry                                                                              4\n",
       "Neurosciences                                                                                    4\n",
       "Optics, Quantum Optics and Physics of Atoms, Molecules and Plasmas                               4\n",
       "Particles, Nuclei and Fields                                                                     3\n",
       "Philosophy                                                                                       1\n",
       "Physical and Theoretical Chemistry                                                               3\n",
       "Plant Sciences                                                                                   4\n",
       "Polymer Research                                                                                 4\n",
       "Process Engineering, Technical Chemistry                                                         4\n",
       "Production Technology                                                                            3\n",
       "Psychology                                                                                       3\n",
       "Social Sciences                                                                                  2\n",
       "Social and Cultural Anthropology, Non-European Cultures, Jewish Studies and Religious Studies    1\n",
       "Statistical Physics, Soft Matter, Biological Physics, Nonlinear Dynamics                         2\n",
       "Systems Engineering                                                                              3\n",
       "Theology                                                                                         1\n",
       "Water Research                                                                                   4\n",
       "Zoology                                                                                          5\n",
       "Name: num_of_authors, dtype: int64"
      ]
     },
     "execution_count": 104,
     "metadata": {},
     "output_type": "execute_result"
    }
   ],
   "source": [
    "fosstats = pd.DataFrame(all_data,columns=['field','num_of_authors','textlength'])\n",
    "fosstats = fosstats.explode('field')\n",
    "groups = fosstats.groupby(['field'])\n",
    "groups['num_of_authors'].median()"
   ]
  },
  {
   "cell_type": "code",
   "execution_count": 105,
   "metadata": {},
   "outputs": [
    {
     "data": {
      "text/plain": [
       "field\n",
       "Agriculture, Forestry and Veterinary Medicine                                                    37895.0\n",
       "Analytical Chemistry, Method Development (Chemistry)                                             27034.0\n",
       "Ancient Cultures                                                                                 42384.5\n",
       "Astrophysics and Astronomy                                                                       31597.0\n",
       "Atmospheric Science, Oceanography and Climate Research                                           43997.0\n",
       "Basic Biological and Medical Research                                                            33658.0\n",
       "Biological Chemistry and Food Chemistry                                                          35167.0\n",
       "Computer Science                                                                                 32190.0\n",
       "Condensed Matter Physics                                                                         24734.0\n",
       "Construction Engineering and Architecture                                                        28268.0\n",
       "Economics                                                                                        35368.0\n",
       "Educational Research                                                                             25929.0\n",
       "Electrical Engineering and Information Technology                                                19735.0\n",
       "Fine Arts, Music, Theatre and Media Studies                                                      30295.5\n",
       "Geochemistry, Mineralogy and Crystallography                                                     27723.0\n",
       "Geography                                                                                        32591.0\n",
       "Geology and Palaeontology                                                                        43445.5\n",
       "Geophysics and Geodesy                                                                           40634.5\n",
       "Heat Energy Technology, Thermal Machines, Fluid Mechanics                                        22710.5\n",
       "History                                                                                          37578.0\n",
       "Jurisprudence                                                                                    43574.0\n",
       "Linguistics                                                                                      36451.0\n",
       "Materials Engineering                                                                            25983.0\n",
       "Materials Science                                                                                24612.0\n",
       "Mathematics                                                                                      25573.5\n",
       "Mechanics and Constructive Mechanical Engineering                                                25465.5\n",
       "Medicine                                                                                         32117.0\n",
       "Microbiology, Virology and Immunology                                                            32218.0\n",
       "Molecular Chemistry                                                                              27949.0\n",
       "Neurosciences                                                                                    44121.0\n",
       "Optics, Quantum Optics and Physics of Atoms, Molecules and Plasmas                               25661.5\n",
       "Particles, Nuclei and Fields                                                                     23545.0\n",
       "Philosophy                                                                                       45138.0\n",
       "Physical and Theoretical Chemistry                                                               27678.0\n",
       "Plant Sciences                                                                                   37378.0\n",
       "Polymer Research                                                                                 28088.5\n",
       "Process Engineering, Technical Chemistry                                                         28292.5\n",
       "Production Technology                                                                            25953.0\n",
       "Psychology                                                                                       39654.0\n",
       "Social Sciences                                                                                  41285.0\n",
       "Social and Cultural Anthropology, Non-European Cultures, Jewish Studies and Religious Studies    44196.0\n",
       "Statistical Physics, Soft Matter, Biological Physics, Nonlinear Dynamics                         23023.5\n",
       "Systems Engineering                                                                              26998.5\n",
       "Theology                                                                                         41113.0\n",
       "Water Research                                                                                   42214.0\n",
       "Zoology                                                                                          39395.0\n",
       "Name: textlength, dtype: float64"
      ]
     },
     "execution_count": 105,
     "metadata": {},
     "output_type": "execute_result"
    }
   ],
   "source": [
    "groups['textlength'].median()"
   ]
  },
  {
   "cell_type": "code",
   "execution_count": 106,
   "metadata": {},
   "outputs": [
    {
     "data": {
      "text/plain": [
       "Basic Biological and Medical Research                                                            560611\n",
       "Condensed Matter Physics                                                                         356246\n",
       "Mathematics                                                                                      289774\n",
       "Particles, Nuclei and Fields                                                                     274894\n",
       "Microbiology, Virology and Immunology                                                            258438\n",
       "Computer Science                                                                                 202645\n",
       "Medicine                                                                                         147460\n",
       "Molecular Chemistry                                                                              140295\n",
       "Economics                                                                                        125583\n",
       "Psychology                                                                                       117445\n",
       "Materials Science                                                                                 95137\n",
       "Agriculture, Forestry and Veterinary Medicine                                                     91573\n",
       "Mechanics and Constructive Mechanical Engineering                                                 81898\n",
       "Analytical Chemistry, Method Development (Chemistry)                                              70153\n",
       "Construction Engineering and Architecture                                                         59794\n",
       "Plant Sciences                                                                                    54935\n",
       "Neurosciences                                                                                     47446\n",
       "Social Sciences                                                                                   46671\n",
       "Geochemistry, Mineralogy and Crystallography                                                      41813\n",
       "Atmospheric Science, Oceanography and Climate Research                                            39647\n",
       "Astrophysics and Astronomy                                                                        33843\n",
       "Geophysics and Geodesy                                                                            32692\n",
       "Geology and Palaeontology                                                                         31906\n",
       "Materials Engineering                                                                             28641\n",
       "Jurisprudence                                                                                     23985\n",
       "Statistical Physics, Soft Matter, Biological Physics, Nonlinear Dynamics                          23522\n",
       "Production Technology                                                                             21874\n",
       "Electrical Engineering and Information Technology                                                 19540\n",
       "Educational Research                                                                              19001\n",
       "Zoology                                                                                           18978\n",
       "Water Research                                                                                    17222\n",
       "Systems Engineering                                                                               16854\n",
       "Process Engineering, Technical Chemistry                                                          13306\n",
       "Geography                                                                                         11569\n",
       "Biological Chemistry and Food Chemistry                                                           10533\n",
       "Physical and Theoretical Chemistry                                                                 8659\n",
       "Philosophy                                                                                         7990\n",
       "Linguistics                                                                                        7745\n",
       "Fine Arts, Music, Theatre and Media Studies                                                        6118\n",
       "Social and Cultural Anthropology, Non-European Cultures, Jewish Studies and Religious Studies      6027\n",
       "Polymer Research                                                                                   5152\n",
       "Ancient Cultures                                                                                   4060\n",
       "History                                                                                            3770\n",
       "Theology                                                                                            766\n",
       "Optics, Quantum Optics and Physics of Atoms, Molecules and Plasmas                                  224\n",
       "Heat Energy Technology, Thermal Machines, Fluid Mechanics                                           120\n",
       "Name: field, dtype: int64"
      ]
     },
     "execution_count": 106,
     "metadata": {},
     "output_type": "execute_result"
    }
   ],
   "source": [
    "fosstats['field'].dropna().value_counts()"
   ]
  },
  {
   "cell_type": "code",
   "execution_count": 108,
   "metadata": {},
   "outputs": [
    {
     "data": {
      "text/plain": [
       "field\n",
       "Agriculture, Forestry and Veterinary Medicine                                                      (6152, 85084)\n",
       "Analytical Chemistry, Method Development (Chemistry)                                               (3501, 66382)\n",
       "Ancient Cultures                                                                                    (1281, 2757)\n",
       "Astrophysics and Astronomy                                                                         (5233, 28491)\n",
       "Atmospheric Science, Oceanography and Climate Research                                             (2095, 37401)\n",
       "Basic Biological and Medical Research                                                            (35502, 523122)\n",
       "Biological Chemistry and Food Chemistry                                                              (577, 9915)\n",
       "Computer Science                                                                                 (28319, 173533)\n",
       "Condensed Matter Physics                                                                         (52175, 302796)\n",
       "Construction Engineering and Architecture                                                          (5242, 54325)\n",
       "Economics                                                                                         (32378, 92697)\n",
       "Educational Research                                                                               (5235, 13667)\n",
       "Electrical Engineering and Information Technology                                                  (1046, 18426)\n",
       "Fine Arts, Music, Theatre and Media Studies                                                         (3356, 2725)\n",
       "Geochemistry, Mineralogy and Crystallography                                                       (2267, 39395)\n",
       "Geography                                                                                           (2236, 9291)\n",
       "Geology and Palaeontology                                                                          (2168, 29613)\n",
       "Geophysics and Geodesy                                                                             (2808, 29765)\n",
       "Heat Energy Technology, Thermal Machines, Fluid Mechanics                                               (23, 95)\n",
       "History                                                                                             (2399, 1344)\n",
       "Jurisprudence                                                                                     (12062, 11797)\n",
       "Linguistics                                                                                         (2426, 5288)\n",
       "Materials Engineering                                                                              (1254, 27298)\n",
       "Materials Science                                                                                  (6161, 88634)\n",
       "Mathematics                                                                                      (88603, 199988)\n",
       "Mechanics and Constructive Mechanical Engineering                                                 (15432, 66116)\n",
       "Medicine                                                                                          (9388, 137529)\n",
       "Microbiology, Virology and Immunology                                                            (11588, 245952)\n",
       "Molecular Chemistry                                                                               (7451, 132324)\n",
       "Neurosciences                                                                                      (3695, 43599)\n",
       "Optics, Quantum Optics and Physics of Atoms, Molecules and Plasmas                                     (22, 202)\n",
       "Particles, Nuclei and Fields                                                                     (48681, 225187)\n",
       "Philosophy                                                                                          (5418, 2521)\n",
       "Physical and Theoretical Chemistry                                                                   (765, 7853)\n",
       "Plant Sciences                                                                                     (2438, 52325)\n",
       "Polymer Research                                                                                     (436, 4697)\n",
       "Process Engineering, Technical Chemistry                                                           (1137, 12120)\n",
       "Production Technology                                                                              (3036, 18749)\n",
       "Psychology                                                                                        (17400, 99575)\n",
       "Social Sciences                                                                                   (20195, 26244)\n",
       "Social and Cultural Anthropology, Non-European Cultures, Jewish Studies and Religious Studies       (3376, 2622)\n",
       "Statistical Physics, Soft Matter, Biological Physics, Nonlinear Dynamics                           (4707, 18728)\n",
       "Systems Engineering                                                                                (1110, 15689)\n",
       "Theology                                                                                              (644, 118)\n",
       "Water Research                                                                                      (993, 16172)\n",
       "Zoology                                                                                            (1548, 17351)\n",
       "Name: num_of_authors, dtype: object"
      ]
     },
     "execution_count": 108,
     "metadata": {},
     "output_type": "execute_result"
    }
   ],
   "source": [
    "groups['num_of_authors'].apply(lambda ser: (len(ser[ser == 1]),len(ser[ser > 1])))"
   ]
  },
  {
   "cell_type": "code",
   "execution_count": 143,
   "metadata": {},
   "outputs": [
    {
     "data": {
      "text/html": [
       "<div>\n",
       "<style scoped>\n",
       "    .dataframe tbody tr th:only-of-type {\n",
       "        vertical-align: middle;\n",
       "    }\n",
       "\n",
       "    .dataframe tbody tr th {\n",
       "        vertical-align: top;\n",
       "    }\n",
       "\n",
       "    .dataframe thead th {\n",
       "        text-align: right;\n",
       "    }\n",
       "</style>\n",
       "<table border=\"1\" class=\"dataframe\">\n",
       "  <thead>\n",
       "    <tr style=\"text-align: right;\">\n",
       "      <th></th>\n",
       "      <th>Monographies</th>\n",
       "      <th>Multiauthor documents</th>\n",
       "    </tr>\n",
       "    <tr>\n",
       "      <th>field</th>\n",
       "      <th></th>\n",
       "      <th></th>\n",
       "    </tr>\n",
       "  </thead>\n",
       "  <tbody>\n",
       "    <tr>\n",
       "      <th>Mathematics</th>\n",
       "      <td>88603</td>\n",
       "      <td>199988</td>\n",
       "    </tr>\n",
       "    <tr>\n",
       "      <th>Condensed Matter Physics</th>\n",
       "      <td>52175</td>\n",
       "      <td>302796</td>\n",
       "    </tr>\n",
       "    <tr>\n",
       "      <th>Particles, Nuclei and Fields</th>\n",
       "      <td>48681</td>\n",
       "      <td>225187</td>\n",
       "    </tr>\n",
       "    <tr>\n",
       "      <th>Basic Biological and Medical Research</th>\n",
       "      <td>35502</td>\n",
       "      <td>523122</td>\n",
       "    </tr>\n",
       "    <tr>\n",
       "      <th>Economics</th>\n",
       "      <td>32378</td>\n",
       "      <td>92697</td>\n",
       "    </tr>\n",
       "    <tr>\n",
       "      <th>Computer Science</th>\n",
       "      <td>28319</td>\n",
       "      <td>173533</td>\n",
       "    </tr>\n",
       "    <tr>\n",
       "      <th>Social Sciences</th>\n",
       "      <td>20195</td>\n",
       "      <td>26244</td>\n",
       "    </tr>\n",
       "    <tr>\n",
       "      <th>Psychology</th>\n",
       "      <td>17400</td>\n",
       "      <td>99575</td>\n",
       "    </tr>\n",
       "    <tr>\n",
       "      <th>Mechanics and Constructive Mechanical Engineering</th>\n",
       "      <td>15432</td>\n",
       "      <td>66116</td>\n",
       "    </tr>\n",
       "    <tr>\n",
       "      <th>Jurisprudence</th>\n",
       "      <td>12062</td>\n",
       "      <td>11797</td>\n",
       "    </tr>\n",
       "    <tr>\n",
       "      <th>Microbiology, Virology and Immunology</th>\n",
       "      <td>11588</td>\n",
       "      <td>245952</td>\n",
       "    </tr>\n",
       "    <tr>\n",
       "      <th>Medicine</th>\n",
       "      <td>9388</td>\n",
       "      <td>137529</td>\n",
       "    </tr>\n",
       "    <tr>\n",
       "      <th>Molecular Chemistry</th>\n",
       "      <td>7451</td>\n",
       "      <td>132324</td>\n",
       "    </tr>\n",
       "    <tr>\n",
       "      <th>Materials Science</th>\n",
       "      <td>6161</td>\n",
       "      <td>88634</td>\n",
       "    </tr>\n",
       "    <tr>\n",
       "      <th>Agriculture, Forestry and Veterinary Medicine</th>\n",
       "      <td>6152</td>\n",
       "      <td>85084</td>\n",
       "    </tr>\n",
       "    <tr>\n",
       "      <th>Philosophy</th>\n",
       "      <td>5418</td>\n",
       "      <td>2521</td>\n",
       "    </tr>\n",
       "    <tr>\n",
       "      <th>Construction Engineering and Architecture</th>\n",
       "      <td>5242</td>\n",
       "      <td>54325</td>\n",
       "    </tr>\n",
       "    <tr>\n",
       "      <th>Educational Research</th>\n",
       "      <td>5235</td>\n",
       "      <td>13667</td>\n",
       "    </tr>\n",
       "    <tr>\n",
       "      <th>Astrophysics and Astronomy</th>\n",
       "      <td>5233</td>\n",
       "      <td>28491</td>\n",
       "    </tr>\n",
       "    <tr>\n",
       "      <th>Statistical Physics, Soft Matter, Biological Physics, Nonlinear Dynamics</th>\n",
       "      <td>4707</td>\n",
       "      <td>18728</td>\n",
       "    </tr>\n",
       "    <tr>\n",
       "      <th>Neurosciences</th>\n",
       "      <td>3695</td>\n",
       "      <td>43599</td>\n",
       "    </tr>\n",
       "    <tr>\n",
       "      <th>Analytical Chemistry, Method Development (Chemistry)</th>\n",
       "      <td>3501</td>\n",
       "      <td>66382</td>\n",
       "    </tr>\n",
       "    <tr>\n",
       "      <th>Social and Cultural Anthropology, Non-European Cultures, Jewish Studies and Religious Studies</th>\n",
       "      <td>3376</td>\n",
       "      <td>2622</td>\n",
       "    </tr>\n",
       "    <tr>\n",
       "      <th>Fine Arts, Music, Theatre and Media Studies</th>\n",
       "      <td>3356</td>\n",
       "      <td>2725</td>\n",
       "    </tr>\n",
       "    <tr>\n",
       "      <th>Production Technology</th>\n",
       "      <td>3036</td>\n",
       "      <td>18749</td>\n",
       "    </tr>\n",
       "    <tr>\n",
       "      <th>Geophysics and Geodesy</th>\n",
       "      <td>2808</td>\n",
       "      <td>29765</td>\n",
       "    </tr>\n",
       "    <tr>\n",
       "      <th>Plant Sciences</th>\n",
       "      <td>2438</td>\n",
       "      <td>52325</td>\n",
       "    </tr>\n",
       "    <tr>\n",
       "      <th>Linguistics</th>\n",
       "      <td>2426</td>\n",
       "      <td>5288</td>\n",
       "    </tr>\n",
       "    <tr>\n",
       "      <th>History</th>\n",
       "      <td>2399</td>\n",
       "      <td>1344</td>\n",
       "    </tr>\n",
       "    <tr>\n",
       "      <th>Geochemistry, Mineralogy and Crystallography</th>\n",
       "      <td>2267</td>\n",
       "      <td>39395</td>\n",
       "    </tr>\n",
       "    <tr>\n",
       "      <th>Geography</th>\n",
       "      <td>2236</td>\n",
       "      <td>9291</td>\n",
       "    </tr>\n",
       "    <tr>\n",
       "      <th>Geology and Palaeontology</th>\n",
       "      <td>2168</td>\n",
       "      <td>29613</td>\n",
       "    </tr>\n",
       "    <tr>\n",
       "      <th>Atmospheric Science, Oceanography and Climate Research</th>\n",
       "      <td>2095</td>\n",
       "      <td>37401</td>\n",
       "    </tr>\n",
       "    <tr>\n",
       "      <th>Zoology</th>\n",
       "      <td>1548</td>\n",
       "      <td>17351</td>\n",
       "    </tr>\n",
       "    <tr>\n",
       "      <th>Ancient Cultures</th>\n",
       "      <td>1281</td>\n",
       "      <td>2757</td>\n",
       "    </tr>\n",
       "    <tr>\n",
       "      <th>Materials Engineering</th>\n",
       "      <td>1254</td>\n",
       "      <td>27298</td>\n",
       "    </tr>\n",
       "    <tr>\n",
       "      <th>Process Engineering, Technical Chemistry</th>\n",
       "      <td>1137</td>\n",
       "      <td>12120</td>\n",
       "    </tr>\n",
       "    <tr>\n",
       "      <th>Systems Engineering</th>\n",
       "      <td>1110</td>\n",
       "      <td>15689</td>\n",
       "    </tr>\n",
       "    <tr>\n",
       "      <th>Electrical Engineering and Information Technology</th>\n",
       "      <td>1046</td>\n",
       "      <td>18426</td>\n",
       "    </tr>\n",
       "    <tr>\n",
       "      <th>Water Research</th>\n",
       "      <td>993</td>\n",
       "      <td>16172</td>\n",
       "    </tr>\n",
       "    <tr>\n",
       "      <th>Physical and Theoretical Chemistry</th>\n",
       "      <td>765</td>\n",
       "      <td>7853</td>\n",
       "    </tr>\n",
       "    <tr>\n",
       "      <th>Theology</th>\n",
       "      <td>644</td>\n",
       "      <td>118</td>\n",
       "    </tr>\n",
       "    <tr>\n",
       "      <th>Biological Chemistry and Food Chemistry</th>\n",
       "      <td>577</td>\n",
       "      <td>9915</td>\n",
       "    </tr>\n",
       "    <tr>\n",
       "      <th>Polymer Research</th>\n",
       "      <td>436</td>\n",
       "      <td>4697</td>\n",
       "    </tr>\n",
       "    <tr>\n",
       "      <th>Heat Energy Technology, Thermal Machines, Fluid Mechanics</th>\n",
       "      <td>23</td>\n",
       "      <td>95</td>\n",
       "    </tr>\n",
       "    <tr>\n",
       "      <th>Optics, Quantum Optics and Physics of Atoms, Molecules and Plasmas</th>\n",
       "      <td>22</td>\n",
       "      <td>202</td>\n",
       "    </tr>\n",
       "  </tbody>\n",
       "</table>\n",
       "</div>"
      ],
      "text/plain": [
       "                                                    Monographies  \\\n",
       "field                                                              \n",
       "Mathematics                                                88603   \n",
       "Condensed Matter Physics                                   52175   \n",
       "Particles, Nuclei and Fields                               48681   \n",
       "Basic Biological and Medical Research                      35502   \n",
       "Economics                                                  32378   \n",
       "Computer Science                                           28319   \n",
       "Social Sciences                                            20195   \n",
       "Psychology                                                 17400   \n",
       "Mechanics and Constructive Mechanical Engineering          15432   \n",
       "Jurisprudence                                              12062   \n",
       "Microbiology, Virology and Immunology                      11588   \n",
       "Medicine                                                    9388   \n",
       "Molecular Chemistry                                         7451   \n",
       "Materials Science                                           6161   \n",
       "Agriculture, Forestry and Veterinary Medicine               6152   \n",
       "Philosophy                                                  5418   \n",
       "Construction Engineering and Architecture                   5242   \n",
       "Educational Research                                        5235   \n",
       "Astrophysics and Astronomy                                  5233   \n",
       "Statistical Physics, Soft Matter, Biological Ph...          4707   \n",
       "Neurosciences                                               3695   \n",
       "Analytical Chemistry, Method Development (Chemi...          3501   \n",
       "Social and Cultural Anthropology, Non-European ...          3376   \n",
       "Fine Arts, Music, Theatre and Media Studies                 3356   \n",
       "Production Technology                                       3036   \n",
       "Geophysics and Geodesy                                      2808   \n",
       "Plant Sciences                                              2438   \n",
       "Linguistics                                                 2426   \n",
       "History                                                     2399   \n",
       "Geochemistry, Mineralogy and Crystallography                2267   \n",
       "Geography                                                   2236   \n",
       "Geology and Palaeontology                                   2168   \n",
       "Atmospheric Science, Oceanography and Climate R...          2095   \n",
       "Zoology                                                     1548   \n",
       "Ancient Cultures                                            1281   \n",
       "Materials Engineering                                       1254   \n",
       "Process Engineering, Technical Chemistry                    1137   \n",
       "Systems Engineering                                         1110   \n",
       "Electrical Engineering and Information Technology           1046   \n",
       "Water Research                                               993   \n",
       "Physical and Theoretical Chemistry                           765   \n",
       "Theology                                                     644   \n",
       "Biological Chemistry and Food Chemistry                      577   \n",
       "Polymer Research                                             436   \n",
       "Heat Energy Technology, Thermal Machines, Fluid...            23   \n",
       "Optics, Quantum Optics and Physics of Atoms, Mo...            22   \n",
       "\n",
       "                                                    Multiauthor documents  \n",
       "field                                                                      \n",
       "Mathematics                                                        199988  \n",
       "Condensed Matter Physics                                           302796  \n",
       "Particles, Nuclei and Fields                                       225187  \n",
       "Basic Biological and Medical Research                              523122  \n",
       "Economics                                                           92697  \n",
       "Computer Science                                                   173533  \n",
       "Social Sciences                                                     26244  \n",
       "Psychology                                                          99575  \n",
       "Mechanics and Constructive Mechanical Engineering                   66116  \n",
       "Jurisprudence                                                       11797  \n",
       "Microbiology, Virology and Immunology                              245952  \n",
       "Medicine                                                           137529  \n",
       "Molecular Chemistry                                                132324  \n",
       "Materials Science                                                   88634  \n",
       "Agriculture, Forestry and Veterinary Medicine                       85084  \n",
       "Philosophy                                                           2521  \n",
       "Construction Engineering and Architecture                           54325  \n",
       "Educational Research                                                13667  \n",
       "Astrophysics and Astronomy                                          28491  \n",
       "Statistical Physics, Soft Matter, Biological Ph...                  18728  \n",
       "Neurosciences                                                       43599  \n",
       "Analytical Chemistry, Method Development (Chemi...                  66382  \n",
       "Social and Cultural Anthropology, Non-European ...                   2622  \n",
       "Fine Arts, Music, Theatre and Media Studies                          2725  \n",
       "Production Technology                                               18749  \n",
       "Geophysics and Geodesy                                              29765  \n",
       "Plant Sciences                                                      52325  \n",
       "Linguistics                                                          5288  \n",
       "History                                                              1344  \n",
       "Geochemistry, Mineralogy and Crystallography                        39395  \n",
       "Geography                                                            9291  \n",
       "Geology and Palaeontology                                           29613  \n",
       "Atmospheric Science, Oceanography and Climate R...                  37401  \n",
       "Zoology                                                             17351  \n",
       "Ancient Cultures                                                     2757  \n",
       "Materials Engineering                                               27298  \n",
       "Process Engineering, Technical Chemistry                            12120  \n",
       "Systems Engineering                                                 15689  \n",
       "Electrical Engineering and Information Technology                   18426  \n",
       "Water Research                                                      16172  \n",
       "Physical and Theoretical Chemistry                                   7853  \n",
       "Theology                                                              118  \n",
       "Biological Chemistry and Food Chemistry                              9915  \n",
       "Polymer Research                                                     4697  \n",
       "Heat Energy Technology, Thermal Machines, Fluid...                     95  \n",
       "Optics, Quantum Optics and Physics of Atoms, Mo...                    202  "
      ]
     },
     "execution_count": 143,
     "metadata": {},
     "output_type": "execute_result"
    }
   ],
   "source": [
    "d = pd.DataFrame(groups['num_of_authors'].apply(lambda ser: (len(ser[ser == 1]),len(ser[ser > 1]))))\n",
    "d['Monographies'] = [t[0] for t in d['num_of_authors']]\n",
    "d['Multiauthor documents'] = [t[1] for t in d['num_of_authors']]\n",
    "d.drop(columns=['num_of_authors']).sort_values(by=['Monographies'],ascending=False)"
   ]
  },
  {
   "cell_type": "markdown",
   "metadata": {},
   "source": [
    "We map all fields to their research area and calculate the same measures again"
   ]
  },
  {
   "cell_type": "code",
   "execution_count": 144,
   "metadata": {},
   "outputs": [
    {
     "data": {
      "text/html": [
       "<div>\n",
       "<style scoped>\n",
       "    .dataframe tbody tr th:only-of-type {\n",
       "        vertical-align: middle;\n",
       "    }\n",
       "\n",
       "    .dataframe tbody tr th {\n",
       "        vertical-align: top;\n",
       "    }\n",
       "\n",
       "    .dataframe thead th {\n",
       "        text-align: right;\n",
       "    }\n",
       "</style>\n",
       "<table border=\"1\" class=\"dataframe\">\n",
       "  <thead>\n",
       "    <tr style=\"text-align: right;\">\n",
       "      <th></th>\n",
       "      <th>Share of monographies</th>\n",
       "      <th>Share of multiauthor documents</th>\n",
       "    </tr>\n",
       "    <tr>\n",
       "      <th>field</th>\n",
       "      <th></th>\n",
       "      <th></th>\n",
       "    </tr>\n",
       "  </thead>\n",
       "  <tbody>\n",
       "    <tr>\n",
       "      <th>Theology</th>\n",
       "      <td>0.841</td>\n",
       "      <td>0.154</td>\n",
       "    </tr>\n",
       "    <tr>\n",
       "      <th>Philosophy</th>\n",
       "      <td>0.678</td>\n",
       "      <td>0.316</td>\n",
       "    </tr>\n",
       "    <tr>\n",
       "      <th>History</th>\n",
       "      <td>0.636</td>\n",
       "      <td>0.356</td>\n",
       "    </tr>\n",
       "    <tr>\n",
       "      <th>Social and Cultural Anthropology, Non-European Cultures, Jewish Studies and Religious Studies</th>\n",
       "      <td>0.560</td>\n",
       "      <td>0.435</td>\n",
       "    </tr>\n",
       "    <tr>\n",
       "      <th>Fine Arts, Music, Theatre and Media Studies</th>\n",
       "      <td>0.549</td>\n",
       "      <td>0.445</td>\n",
       "    </tr>\n",
       "    <tr>\n",
       "      <th>Jurisprudence</th>\n",
       "      <td>0.503</td>\n",
       "      <td>0.492</td>\n",
       "    </tr>\n",
       "    <tr>\n",
       "      <th>Social Sciences</th>\n",
       "      <td>0.433</td>\n",
       "      <td>0.562</td>\n",
       "    </tr>\n",
       "    <tr>\n",
       "      <th>Ancient Cultures</th>\n",
       "      <td>0.316</td>\n",
       "      <td>0.679</td>\n",
       "    </tr>\n",
       "    <tr>\n",
       "      <th>Linguistics</th>\n",
       "      <td>0.313</td>\n",
       "      <td>0.683</td>\n",
       "    </tr>\n",
       "    <tr>\n",
       "      <th>Mathematics</th>\n",
       "      <td>0.306</td>\n",
       "      <td>0.690</td>\n",
       "    </tr>\n",
       "    <tr>\n",
       "      <th>Educational Research</th>\n",
       "      <td>0.276</td>\n",
       "      <td>0.719</td>\n",
       "    </tr>\n",
       "    <tr>\n",
       "      <th>Economics</th>\n",
       "      <td>0.258</td>\n",
       "      <td>0.738</td>\n",
       "    </tr>\n",
       "    <tr>\n",
       "      <th>Statistical Physics, Soft Matter, Biological Physics, Nonlinear Dynamics</th>\n",
       "      <td>0.200</td>\n",
       "      <td>0.796</td>\n",
       "    </tr>\n",
       "    <tr>\n",
       "      <th>Geography</th>\n",
       "      <td>0.193</td>\n",
       "      <td>0.803</td>\n",
       "    </tr>\n",
       "    <tr>\n",
       "      <th>Heat Energy Technology, Thermal Machines, Fluid Mechanics</th>\n",
       "      <td>0.192</td>\n",
       "      <td>0.792</td>\n",
       "    </tr>\n",
       "    <tr>\n",
       "      <th>Mechanics and Constructive Mechanical Engineering</th>\n",
       "      <td>0.188</td>\n",
       "      <td>0.807</td>\n",
       "    </tr>\n",
       "    <tr>\n",
       "      <th>Particles, Nuclei and Fields</th>\n",
       "      <td>0.177</td>\n",
       "      <td>0.819</td>\n",
       "    </tr>\n",
       "    <tr>\n",
       "      <th>Astrophysics and Astronomy</th>\n",
       "      <td>0.155</td>\n",
       "      <td>0.842</td>\n",
       "    </tr>\n",
       "    <tr>\n",
       "      <th>Psychology</th>\n",
       "      <td>0.148</td>\n",
       "      <td>0.848</td>\n",
       "    </tr>\n",
       "    <tr>\n",
       "      <th>Condensed Matter Physics</th>\n",
       "      <td>0.146</td>\n",
       "      <td>0.850</td>\n",
       "    </tr>\n",
       "    <tr>\n",
       "      <th>Computer Science</th>\n",
       "      <td>0.140</td>\n",
       "      <td>0.856</td>\n",
       "    </tr>\n",
       "    <tr>\n",
       "      <th>Production Technology</th>\n",
       "      <td>0.139</td>\n",
       "      <td>0.857</td>\n",
       "    </tr>\n",
       "    <tr>\n",
       "      <th>Optics, Quantum Optics and Physics of Atoms, Molecules and Plasmas</th>\n",
       "      <td>0.098</td>\n",
       "      <td>0.902</td>\n",
       "    </tr>\n",
       "    <tr>\n",
       "      <th>Physical and Theoretical Chemistry</th>\n",
       "      <td>0.088</td>\n",
       "      <td>0.907</td>\n",
       "    </tr>\n",
       "    <tr>\n",
       "      <th>Construction Engineering and Architecture</th>\n",
       "      <td>0.088</td>\n",
       "      <td>0.909</td>\n",
       "    </tr>\n",
       "    <tr>\n",
       "      <th>Geophysics and Geodesy</th>\n",
       "      <td>0.086</td>\n",
       "      <td>0.910</td>\n",
       "    </tr>\n",
       "    <tr>\n",
       "      <th>Process Engineering, Technical Chemistry</th>\n",
       "      <td>0.085</td>\n",
       "      <td>0.911</td>\n",
       "    </tr>\n",
       "    <tr>\n",
       "      <th>Polymer Research</th>\n",
       "      <td>0.085</td>\n",
       "      <td>0.912</td>\n",
       "    </tr>\n",
       "    <tr>\n",
       "      <th>Zoology</th>\n",
       "      <td>0.082</td>\n",
       "      <td>0.914</td>\n",
       "    </tr>\n",
       "    <tr>\n",
       "      <th>Neurosciences</th>\n",
       "      <td>0.078</td>\n",
       "      <td>0.919</td>\n",
       "    </tr>\n",
       "    <tr>\n",
       "      <th>Geology and Palaeontology</th>\n",
       "      <td>0.068</td>\n",
       "      <td>0.928</td>\n",
       "    </tr>\n",
       "    <tr>\n",
       "      <th>Agriculture, Forestry and Veterinary Medicine</th>\n",
       "      <td>0.067</td>\n",
       "      <td>0.929</td>\n",
       "    </tr>\n",
       "    <tr>\n",
       "      <th>Systems Engineering</th>\n",
       "      <td>0.066</td>\n",
       "      <td>0.931</td>\n",
       "    </tr>\n",
       "    <tr>\n",
       "      <th>Materials Science</th>\n",
       "      <td>0.065</td>\n",
       "      <td>0.932</td>\n",
       "    </tr>\n",
       "    <tr>\n",
       "      <th>Medicine</th>\n",
       "      <td>0.064</td>\n",
       "      <td>0.933</td>\n",
       "    </tr>\n",
       "    <tr>\n",
       "      <th>Basic Biological and Medical Research</th>\n",
       "      <td>0.063</td>\n",
       "      <td>0.933</td>\n",
       "    </tr>\n",
       "    <tr>\n",
       "      <th>Water Research</th>\n",
       "      <td>0.058</td>\n",
       "      <td>0.939</td>\n",
       "    </tr>\n",
       "    <tr>\n",
       "      <th>Biological Chemistry and Food Chemistry</th>\n",
       "      <td>0.055</td>\n",
       "      <td>0.941</td>\n",
       "    </tr>\n",
       "    <tr>\n",
       "      <th>Geochemistry, Mineralogy and Crystallography</th>\n",
       "      <td>0.054</td>\n",
       "      <td>0.942</td>\n",
       "    </tr>\n",
       "    <tr>\n",
       "      <th>Electrical Engineering and Information Technology</th>\n",
       "      <td>0.054</td>\n",
       "      <td>0.943</td>\n",
       "    </tr>\n",
       "    <tr>\n",
       "      <th>Molecular Chemistry</th>\n",
       "      <td>0.053</td>\n",
       "      <td>0.943</td>\n",
       "    </tr>\n",
       "    <tr>\n",
       "      <th>Atmospheric Science, Oceanography and Climate Research</th>\n",
       "      <td>0.053</td>\n",
       "      <td>0.943</td>\n",
       "    </tr>\n",
       "    <tr>\n",
       "      <th>Analytical Chemistry, Method Development (Chemistry)</th>\n",
       "      <td>0.050</td>\n",
       "      <td>0.946</td>\n",
       "    </tr>\n",
       "    <tr>\n",
       "      <th>Microbiology, Virology and Immunology</th>\n",
       "      <td>0.045</td>\n",
       "      <td>0.952</td>\n",
       "    </tr>\n",
       "    <tr>\n",
       "      <th>Plant Sciences</th>\n",
       "      <td>0.044</td>\n",
       "      <td>0.952</td>\n",
       "    </tr>\n",
       "    <tr>\n",
       "      <th>Materials Engineering</th>\n",
       "      <td>0.044</td>\n",
       "      <td>0.953</td>\n",
       "    </tr>\n",
       "  </tbody>\n",
       "</table>\n",
       "</div>"
      ],
      "text/plain": [
       "                                                    Share of monographies  \\\n",
       "field                                                                       \n",
       "Theology                                                            0.841   \n",
       "Philosophy                                                          0.678   \n",
       "History                                                             0.636   \n",
       "Social and Cultural Anthropology, Non-European ...                  0.560   \n",
       "Fine Arts, Music, Theatre and Media Studies                         0.549   \n",
       "Jurisprudence                                                       0.503   \n",
       "Social Sciences                                                     0.433   \n",
       "Ancient Cultures                                                    0.316   \n",
       "Linguistics                                                         0.313   \n",
       "Mathematics                                                         0.306   \n",
       "Educational Research                                                0.276   \n",
       "Economics                                                           0.258   \n",
       "Statistical Physics, Soft Matter, Biological Ph...                  0.200   \n",
       "Geography                                                           0.193   \n",
       "Heat Energy Technology, Thermal Machines, Fluid...                  0.192   \n",
       "Mechanics and Constructive Mechanical Engineering                   0.188   \n",
       "Particles, Nuclei and Fields                                        0.177   \n",
       "Astrophysics and Astronomy                                          0.155   \n",
       "Psychology                                                          0.148   \n",
       "Condensed Matter Physics                                            0.146   \n",
       "Computer Science                                                    0.140   \n",
       "Production Technology                                               0.139   \n",
       "Optics, Quantum Optics and Physics of Atoms, Mo...                  0.098   \n",
       "Physical and Theoretical Chemistry                                  0.088   \n",
       "Construction Engineering and Architecture                           0.088   \n",
       "Geophysics and Geodesy                                              0.086   \n",
       "Process Engineering, Technical Chemistry                            0.085   \n",
       "Polymer Research                                                    0.085   \n",
       "Zoology                                                             0.082   \n",
       "Neurosciences                                                       0.078   \n",
       "Geology and Palaeontology                                           0.068   \n",
       "Agriculture, Forestry and Veterinary Medicine                       0.067   \n",
       "Systems Engineering                                                 0.066   \n",
       "Materials Science                                                   0.065   \n",
       "Medicine                                                            0.064   \n",
       "Basic Biological and Medical Research                               0.063   \n",
       "Water Research                                                      0.058   \n",
       "Biological Chemistry and Food Chemistry                             0.055   \n",
       "Geochemistry, Mineralogy and Crystallography                        0.054   \n",
       "Electrical Engineering and Information Technology                   0.054   \n",
       "Molecular Chemistry                                                 0.053   \n",
       "Atmospheric Science, Oceanography and Climate R...                  0.053   \n",
       "Analytical Chemistry, Method Development (Chemi...                  0.050   \n",
       "Microbiology, Virology and Immunology                               0.045   \n",
       "Plant Sciences                                                      0.044   \n",
       "Materials Engineering                                               0.044   \n",
       "\n",
       "                                                    Share of multiauthor documents  \n",
       "field                                                                               \n",
       "Theology                                                                     0.154  \n",
       "Philosophy                                                                   0.316  \n",
       "History                                                                      0.356  \n",
       "Social and Cultural Anthropology, Non-European ...                           0.435  \n",
       "Fine Arts, Music, Theatre and Media Studies                                  0.445  \n",
       "Jurisprudence                                                                0.492  \n",
       "Social Sciences                                                              0.562  \n",
       "Ancient Cultures                                                             0.679  \n",
       "Linguistics                                                                  0.683  \n",
       "Mathematics                                                                  0.690  \n",
       "Educational Research                                                         0.719  \n",
       "Economics                                                                    0.738  \n",
       "Statistical Physics, Soft Matter, Biological Ph...                           0.796  \n",
       "Geography                                                                    0.803  \n",
       "Heat Energy Technology, Thermal Machines, Fluid...                           0.792  \n",
       "Mechanics and Constructive Mechanical Engineering                            0.807  \n",
       "Particles, Nuclei and Fields                                                 0.819  \n",
       "Astrophysics and Astronomy                                                   0.842  \n",
       "Psychology                                                                   0.848  \n",
       "Condensed Matter Physics                                                     0.850  \n",
       "Computer Science                                                             0.856  \n",
       "Production Technology                                                        0.857  \n",
       "Optics, Quantum Optics and Physics of Atoms, Mo...                           0.902  \n",
       "Physical and Theoretical Chemistry                                           0.907  \n",
       "Construction Engineering and Architecture                                    0.909  \n",
       "Geophysics and Geodesy                                                       0.910  \n",
       "Process Engineering, Technical Chemistry                                     0.911  \n",
       "Polymer Research                                                             0.912  \n",
       "Zoology                                                                      0.914  \n",
       "Neurosciences                                                                0.919  \n",
       "Geology and Palaeontology                                                    0.928  \n",
       "Agriculture, Forestry and Veterinary Medicine                                0.929  \n",
       "Systems Engineering                                                          0.931  \n",
       "Materials Science                                                            0.932  \n",
       "Medicine                                                                     0.933  \n",
       "Basic Biological and Medical Research                                        0.933  \n",
       "Water Research                                                               0.939  \n",
       "Biological Chemistry and Food Chemistry                                      0.941  \n",
       "Geochemistry, Mineralogy and Crystallography                                 0.942  \n",
       "Electrical Engineering and Information Technology                            0.943  \n",
       "Molecular Chemistry                                                          0.943  \n",
       "Atmospheric Science, Oceanography and Climate R...                           0.943  \n",
       "Analytical Chemistry, Method Development (Chemi...                           0.946  \n",
       "Microbiology, Virology and Immunology                                        0.952  \n",
       "Plant Sciences                                                               0.952  \n",
       "Materials Engineering                                                        0.953  "
      ]
     },
     "execution_count": 144,
     "metadata": {},
     "output_type": "execute_result"
    }
   ],
   "source": [
    "d = pd.DataFrame(groups['num_of_authors'].apply(lambda ser: (round(len(ser[ser == 1])/len(ser),3),round(len(ser[ser > 1])/len(ser),3))))\n",
    "d['Share of monographies'] = [t[0] for t in d['num_of_authors']]\n",
    "d['Share of multiauthor documents'] = [t[1] for t in d['num_of_authors']]\n",
    "d.drop(columns=['num_of_authors']).sort_values(by=['Share of monographies'],ascending=False)"
   ]
  },
  {
   "cell_type": "code",
   "execution_count": 107,
   "metadata": {},
   "outputs": [],
   "source": [
    "def map_area(f):\n",
    "    areas = []\n",
    "    if any([fs in ['Ancient Cultures','Economics','Educational Research','Fine Arts, Music, Theatre and Media Studies',\n",
    "            'History','Jurisprudence','Linguistics','Philosophy','Psychology','Social Sciences',\n",
    "            'Social and Cultural Anthropology, Non-European Cultures, Jewish Studies and Religious Studies',\n",
    "            'Theology'] for fs in f]) and not 'Humanities and Social Sciences' in areas:\n",
    "        areas.append('Humanities and Social Sciences')\n",
    "    if any([fs in ['Agriculture, Forestry and Veterinary Medicine','Basic Biological and Medical Research','Medicine',\n",
    "               'Microbiology, Virology and Immunology','Neurosciences','Plant Sciences','Zoology'\n",
    "              ] for fs in f]) and not 'Life Sciences' in areas:\n",
    "        areas.append('Life Sciences')\n",
    "    if any([fs in ['Analytical Chemistry, Method Development (Chemistry)','Astrophysics and Astronomy',\n",
    "               'Atmospheric Science, Oceanography and Climate Research','Biological Chemistry and Food Chemistry',\n",
    "              'Condensed Matter Physics','Geochemistry, Mineralogy and Crystallography','Geography',\n",
    "              'Geology and Palaeontology','Geophysics and Geodesy','Mathematics','Molecular Chemistry','Optics, Quantum Optics and Physics of Atoms, Molecules and Plasmas',\n",
    "              'Particles, Nuclei and Fields','Physical and Theoretical Chemistry','Polymer Research','Statistical Physics, Soft Matter, Biological Physics, Nonlinear Dynamics',\n",
    "              'Water Research'] for fs in f]) and not 'Natural Sciences' in areas:\n",
    "        areas.append('Natural Sciences')\n",
    "    if any([fs in ['Computer Science','Construction Engineering and Architecture',\n",
    "               'Electrical Engineering and Information Technology','Heat Energy Technology, Thermal Machines, Fluid Mechanics',\n",
    "               'Materials Engineering','Materials Science','Mechanics and Constructive Mechanical Engineering',\n",
    "              'Process Engineering, Technical Chemistry','Production Technology','Systems Engineering'] for fs in f])  and not 'Engineering Sciences' in areas:\n",
    "        areas.append('Engineering Sciences')\n",
    "    return areas"
   ]
  },
  {
   "cell_type": "code",
   "execution_count": 133,
   "metadata": {},
   "outputs": [
    {
     "data": {
      "text/plain": [
       "area\n",
       "Engineering Sciences              (0.127, 0.869)\n",
       "Humanities and Social Sciences    (0.225, 0.771)\n",
       "Life Sciences                     (0.064, 0.933)\n",
       "Natural Sciences                  (0.184, 0.813)\n",
       "Name: num_of_authors, dtype: object"
      ]
     },
     "execution_count": 133,
     "metadata": {},
     "output_type": "execute_result"
    }
   ],
   "source": [
    "areas = pd.DataFrame(all_data,columns=['field','num_of_authors','textlength'])\n",
    "areas['area'] = [map_area(f) for f in areas['field']]\n",
    "areas = areas.explode('area')\n",
    "areas = areas.groupby(['area'])\n",
    "areas['num_of_authors'].apply(lambda ser: (round(len(ser[ser == 1])/len(ser),3),round(len(ser[ser > 1])/len(ser),3)))"
   ]
  },
  {
   "cell_type": "code",
   "execution_count": 111,
   "metadata": {},
   "outputs": [
    {
     "data": {
      "text/plain": [
       "area\n",
       "Engineering Sciences               (55016, 375205)\n",
       "Humanities and Social Sciences     (58318, 199926)\n",
       "Life Sciences                      (48726, 715219)\n",
       "Natural Sciences                  (147025, 651077)\n",
       "Name: num_of_authors, dtype: object"
      ]
     },
     "execution_count": 111,
     "metadata": {},
     "output_type": "execute_result"
    }
   ],
   "source": [
    "areas['num_of_authors'].apply(lambda ser: (len(ser[ser == 1]),len(ser[ser > 1])))"
   ]
  },
  {
   "cell_type": "code",
   "execution_count": 112,
   "metadata": {},
   "outputs": [
    {
     "data": {
      "text/plain": [
       "area\n",
       "Engineering Sciences              3\n",
       "Humanities and Social Sciences    3\n",
       "Life Sciences                     5\n",
       "Natural Sciences                  3\n",
       "Name: num_of_authors, dtype: int64"
      ]
     },
     "execution_count": 112,
     "metadata": {},
     "output_type": "execute_result"
    }
   ],
   "source": [
    "areas['num_of_authors'].median()"
   ]
  },
  {
   "cell_type": "code",
   "execution_count": 113,
   "metadata": {},
   "outputs": [
    {
     "data": {
      "text/plain": [
       "area\n",
       "Engineering Sciences              28467\n",
       "Humanities and Social Sciences    37224\n",
       "Life Sciences                     32616\n",
       "Natural Sciences                  26103\n",
       "Name: textlength, dtype: int64"
      ]
     },
     "execution_count": 113,
     "metadata": {},
     "output_type": "execute_result"
    }
   ],
   "source": [
    "areas['textlength'].median()"
   ]
  },
  {
   "cell_type": "code",
   "execution_count": null,
   "metadata": {},
   "outputs": [
    {
     "data": {
      "text/plain": [
       "24                  [Social Sciences, Economics, Psychology]\n",
       "37         [Materials Science, Particles, Nuclei and Fields]\n",
       "38         [Particles, Nuclei and Fields, Molecular Chemi...\n",
       "39         [Particles, Nuclei and Fields, Condensed Matte...\n",
       "40         [Condensed Matter Physics, Heat Energy Technol...\n",
       "                                 ...                        \n",
       "3356232    [Basic Biological and Medical Research, Plant ...\n",
       "3356237    [Basic Biological and Medical Research, Microb...\n",
       "3356241    [Basic Biological and Medical Research, Molecu...\n",
       "3356707          [Construction Engineering and Architecture]\n",
       "3356739                   [Educational Research, Psychology]\n",
       "Name: field, Length: 1702872, dtype: object"
      ]
     },
     "execution_count": 114,
     "metadata": {},
     "output_type": "execute_result"
    }
   ],
   "source": [
    "x = pd.DataFrame(all_data,columns=['field','num_of_authors','textlength'])['field']\n",
    "x[[len(a) != 0 for a in x]]"
   ]
  },
  {
   "cell_type": "code",
   "execution_count": null,
   "metadata": {},
   "outputs": [
    {
     "data": {
      "text/plain": [
       "46"
      ]
     },
     "execution_count": 115,
     "metadata": {},
     "output_type": "execute_result"
    }
   ],
   "source": [
    "len(groups)"
   ]
  },
  {
   "cell_type": "code",
   "execution_count": null,
   "metadata": {},
   "outputs": [],
   "source": [
    "areas = pd.DataFrame(all_data,columns=['field','num_of_authors','textlength'])\n",
    "areas['area'] = [map_area(f) for f in areas['field']]"
   ]
  },
  {
   "cell_type": "code",
   "execution_count": null,
   "metadata": {},
   "outputs": [
    {
     "data": {
      "text/html": [
       "<div>\n",
       "<style scoped>\n",
       "    .dataframe tbody tr th:only-of-type {\n",
       "        vertical-align: middle;\n",
       "    }\n",
       "\n",
       "    .dataframe tbody tr th {\n",
       "        vertical-align: top;\n",
       "    }\n",
       "\n",
       "    .dataframe thead th {\n",
       "        text-align: right;\n",
       "    }\n",
       "</style>\n",
       "<table border=\"1\" class=\"dataframe\">\n",
       "  <thead>\n",
       "    <tr style=\"text-align: right;\">\n",
       "      <th></th>\n",
       "      <th>field</th>\n",
       "      <th>num_of_authors</th>\n",
       "      <th>textlength</th>\n",
       "      <th>area</th>\n",
       "    </tr>\n",
       "  </thead>\n",
       "  <tbody>\n",
       "    <tr>\n",
       "      <th>24</th>\n",
       "      <td>[Social Sciences, Economics, Psychology]</td>\n",
       "      <td>5</td>\n",
       "      <td>35339</td>\n",
       "      <td>Humanities and Social Sciences</td>\n",
       "    </tr>\n",
       "    <tr>\n",
       "      <th>37</th>\n",
       "      <td>[Materials Science, Particles, Nuclei and Fields]</td>\n",
       "      <td>3</td>\n",
       "      <td>16240</td>\n",
       "      <td>Natural Sciences</td>\n",
       "    </tr>\n",
       "    <tr>\n",
       "      <th>37</th>\n",
       "      <td>[Materials Science, Particles, Nuclei and Fields]</td>\n",
       "      <td>3</td>\n",
       "      <td>16240</td>\n",
       "      <td>Engineering Sciences</td>\n",
       "    </tr>\n",
       "    <tr>\n",
       "      <th>38</th>\n",
       "      <td>[Particles, Nuclei and Fields, Molecular Chemi...</td>\n",
       "      <td>5</td>\n",
       "      <td>54178</td>\n",
       "      <td>Natural Sciences</td>\n",
       "    </tr>\n",
       "    <tr>\n",
       "      <th>39</th>\n",
       "      <td>[Particles, Nuclei and Fields, Condensed Matte...</td>\n",
       "      <td>15</td>\n",
       "      <td>18617</td>\n",
       "      <td>Natural Sciences</td>\n",
       "    </tr>\n",
       "    <tr>\n",
       "      <th>...</th>\n",
       "      <td>...</td>\n",
       "      <td>...</td>\n",
       "      <td>...</td>\n",
       "      <td>...</td>\n",
       "    </tr>\n",
       "    <tr>\n",
       "      <th>3356237</th>\n",
       "      <td>[Basic Biological and Medical Research, Microb...</td>\n",
       "      <td>6</td>\n",
       "      <td>48327</td>\n",
       "      <td>Life Sciences</td>\n",
       "    </tr>\n",
       "    <tr>\n",
       "      <th>3356241</th>\n",
       "      <td>[Basic Biological and Medical Research, Molecu...</td>\n",
       "      <td>9</td>\n",
       "      <td>18337</td>\n",
       "      <td>Life Sciences</td>\n",
       "    </tr>\n",
       "    <tr>\n",
       "      <th>3356241</th>\n",
       "      <td>[Basic Biological and Medical Research, Molecu...</td>\n",
       "      <td>9</td>\n",
       "      <td>18337</td>\n",
       "      <td>Natural Sciences</td>\n",
       "    </tr>\n",
       "    <tr>\n",
       "      <th>3356707</th>\n",
       "      <td>[Construction Engineering and Architecture]</td>\n",
       "      <td>6</td>\n",
       "      <td>26427</td>\n",
       "      <td>Engineering Sciences</td>\n",
       "    </tr>\n",
       "    <tr>\n",
       "      <th>3356739</th>\n",
       "      <td>[Educational Research, Psychology]</td>\n",
       "      <td>3</td>\n",
       "      <td>26082</td>\n",
       "      <td>Humanities and Social Sciences</td>\n",
       "    </tr>\n",
       "  </tbody>\n",
       "</table>\n",
       "<p>2259076 rows × 4 columns</p>\n",
       "</div>"
      ],
      "text/plain": [
       "                                                     field  num_of_authors  \\\n",
       "24                [Social Sciences, Economics, Psychology]               5   \n",
       "37       [Materials Science, Particles, Nuclei and Fields]               3   \n",
       "37       [Materials Science, Particles, Nuclei and Fields]               3   \n",
       "38       [Particles, Nuclei and Fields, Molecular Chemi...               5   \n",
       "39       [Particles, Nuclei and Fields, Condensed Matte...              15   \n",
       "...                                                    ...             ...   \n",
       "3356237  [Basic Biological and Medical Research, Microb...               6   \n",
       "3356241  [Basic Biological and Medical Research, Molecu...               9   \n",
       "3356241  [Basic Biological and Medical Research, Molecu...               9   \n",
       "3356707        [Construction Engineering and Architecture]               6   \n",
       "3356739                 [Educational Research, Psychology]               3   \n",
       "\n",
       "         textlength                            area  \n",
       "24            35339  Humanities and Social Sciences  \n",
       "37            16240                Natural Sciences  \n",
       "37            16240            Engineering Sciences  \n",
       "38            54178                Natural Sciences  \n",
       "39            18617                Natural Sciences  \n",
       "...             ...                             ...  \n",
       "3356237       48327                   Life Sciences  \n",
       "3356241       18337                   Life Sciences  \n",
       "3356241       18337                Natural Sciences  \n",
       "3356707       26427            Engineering Sciences  \n",
       "3356739       26082  Humanities and Social Sciences  \n",
       "\n",
       "[2259076 rows x 4 columns]"
      ]
     },
     "execution_count": 122,
     "metadata": {},
     "output_type": "execute_result"
    }
   ],
   "source": [
    "areas = areas.explode('area').dropna()\n",
    "areas"
   ]
  },
  {
   "cell_type": "code",
   "execution_count": null,
   "metadata": {},
   "outputs": [
    {
     "data": {
      "text/plain": [
       "<AxesSubplot:title={'center':'Number of documents by DFG research area'}, xlabel='Research area', ylabel='Number of documents'>"
      ]
     },
     "execution_count": 125,
     "metadata": {},
     "output_type": "execute_result"
    },
    {
     "data": {
      "image/png": "[encoded data removed]",
      "text/plain": [
       "<Figure size 720x432 with 1 Axes>"
      ]
     },
     "metadata": {
      "needs_background": "light"
     },
     "output_type": "display_data"
    }
   ],
   "source": [
    "plt.figure(figsize=(10, 6))\n",
    "plot = sns.countplot(data=areas,x='area')\n",
    "plot.set(ylabel='Number of documents',xlabel='Research area',title='Number of documents by DFG research area')\n",
    "plot"
   ]
  },
  {
   "cell_type": "code",
   "execution_count": null,
   "metadata": {},
   "outputs": [],
   "source": []
  },
  {
   "cell_type": "code",
   "execution_count": null,
   "metadata": {},
   "outputs": [],
   "source": []
  },
  {
   "cell_type": "code",
   "execution_count": null,
   "metadata": {},
   "outputs": [],
   "source": []
  }
 ],
 "metadata": {
  "kernelspec": {
   "display_name": "Python 3",
   "language": "python",
   "name": "python3"
  },
  "language_info": {
   "codemirror_mode": {
    "name": "ipython",
    "version": 3
   },
   "file_extension": ".py",
   "mimetype": "text/x-python",
   "name": "python",
   "nbconvert_exporter": "python",
   "pygments_lexer": "ipython3",
   "version": "3.7.10"
  }
 },
 "nbformat": 4,
 "nbformat_minor": 4
}
