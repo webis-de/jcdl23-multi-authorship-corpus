{
 "cells": [
  {
   "cell_type": "markdown",
   "metadata": {},
   "source": [
    "## MAG matching"
   ]
  },
  {
   "cell_type": "markdown",
   "metadata": {},
   "source": [
    "The following notebook is  used to find matching entries between the Microsoft Academic Graph and the CORE dataset"
   ]
  },
  {
   "cell_type": "code",
   "execution_count": null,
   "metadata": {},
   "outputs": [],
   "source": []
  },
  {
   "cell_type": "code",
   "execution_count": 9,
   "metadata": {
    "execution": {
     "iopub.execute_input": "2021-04-09T08:26:34.756406Z",
     "iopub.status.busy": "2021-04-09T08:26:34.755883Z",
     "iopub.status.idle": "2021-04-09T08:26:34.765650Z",
     "shell.execute_reply": "2021-04-09T08:26:34.764323Z",
     "shell.execute_reply.started": "2021-04-09T08:26:34.756342Z"
    }
   },
   "outputs": [],
   "source": [
    "from glob import glob\n",
    "from json import loads, dump, load\n",
    "from os.path import basename, exists, isfile, isdir, sep\n",
    "from os import makedirs, listdir, getcwd\n",
    "from datetime import datetime\n",
    "input_path = \"core_sets/english_language/2021_04_07_17_27_13/batches\""
   ]
  },
  {
   "cell_type": "code",
   "execution_count": 2,
   "metadata": {
    "execution": {
     "iopub.execute_input": "2021-04-08T19:28:16.402614Z",
     "iopub.status.busy": "2021-04-08T19:28:16.402346Z",
     "iopub.status.idle": "2021-04-08T19:28:22.394771Z",
     "shell.execute_reply": "2021-04-08T19:28:22.393260Z",
     "shell.execute_reply.started": "2021-04-08T19:28:16.402577Z"
    }
   },
   "outputs": [],
   "source": [
    "from pyspark import SparkContext\n",
    "sc = SparkContext(master = 'local[16]')"
   ]
  },
  {
   "cell_type": "code",
   "execution_count": 3,
   "metadata": {
    "execution": {
     "iopub.execute_input": "2021-04-08T19:28:22.398150Z",
     "iopub.status.busy": "2021-04-08T19:28:22.397848Z",
     "iopub.status.idle": "2021-04-08T19:28:22.423314Z",
     "shell.execute_reply": "2021-04-08T19:28:22.421647Z",
     "shell.execute_reply.started": "2021-04-08T19:28:22.398110Z"
    }
   },
   "outputs": [
    {
     "data": {
      "text/html": [
       "\n",
       "        <div>\n",
       "            <p><b>SparkContext</b></p>\n",
       "\n",
       "            <p><a href=\"http://10.23.57.208:4041\">Spark UI</a></p>\n",
       "\n",
       "            <dl>\n",
       "              <dt>Version</dt>\n",
       "                <dd><code>v2.4.5</code></dd>\n",
       "              <dt>Master</dt>\n",
       "                <dd><code>local[16]</code></dd>\n",
       "              <dt>AppName</dt>\n",
       "                <dd><code>pyspark-shell</code></dd>\n",
       "            </dl>\n",
       "        </div>\n",
       "        "
      ],
      "text/plain": [
       "<SparkContext master=local[16] appName=pyspark-shell>"
      ]
     },
     "execution_count": 3,
     "metadata": {},
     "output_type": "execute_result"
    }
   ],
   "source": [
    "sc"
   ]
  },
  {
   "cell_type": "code",
   "execution_count": 4,
   "metadata": {
    "execution": {
     "iopub.execute_input": "2021-04-08T19:28:22.426970Z",
     "iopub.status.busy": "2021-04-08T19:28:22.426480Z",
     "iopub.status.idle": "2021-04-08T19:28:22.464951Z",
     "shell.execute_reply": "2021-04-08T19:28:22.463538Z",
     "shell.execute_reply.started": "2021-04-08T19:28:22.426904Z"
    }
   },
   "outputs": [],
   "source": [
    "if isdir(input_path):\n",
    "    input_filepaths = sorted(glob(input_path + sep + \"*\"))"
   ]
  },
  {
   "cell_type": "markdown",
   "metadata": {},
   "source": [
    "Entries can either be matches by their title or their doi. Additionally, the publication year and the authorlist are loaded to compare control possible matches with those information.\n",
    "A Levenshtein compare method is established which will be used to compare titles of documents. \n",
    "Returns true if the input strings are very similar.\n",
    "A small distance is acceptable, also long substrings of another will be considered as sufficiently similar."
   ]
  },
  {
   "cell_type": "code",
   "execution_count": 5,
   "metadata": {
    "execution": {
     "iopub.execute_input": "2021-04-08T19:28:22.471884Z",
     "iopub.status.busy": "2021-04-08T19:28:22.471426Z",
     "iopub.status.idle": "2021-04-08T19:28:22.547786Z",
     "shell.execute_reply": "2021-04-08T19:28:22.546317Z",
     "shell.execute_reply.started": "2021-04-08T19:28:22.471826Z"
    }
   },
   "outputs": [],
   "source": [
    "def id_to_auth_doi(line):\n",
    "    return (line['coreId'], line['title'], line['authors'], line['doi'], line['year'])"
   ]
  },
  {
   "cell_type": "code",
   "execution_count": 1,
   "metadata": {
    "execution": {
     "iopub.execute_input": "2021-04-09T08:24:13.001903Z",
     "iopub.status.busy": "2021-04-09T08:24:13.001528Z",
     "iopub.status.idle": "2021-04-09T08:24:13.010730Z",
     "shell.execute_reply": "2021-04-09T08:24:13.009927Z",
     "shell.execute_reply.started": "2021-04-09T08:24:13.001843Z"
    }
   },
   "outputs": [],
   "source": [
    "from Levenshtein import distance as levenshtein_distance\n",
    "def levenshtein_compare(t1, t2):\n",
    "    if not t1 or not t2:\n",
    "        return False\n",
    "    return (levenshtein_distance(t1.lower(), t2.lower()) < abs(len(t1)-len(t2)) + 0.1*min(len(t1),len(t2)) and not ((len(t1) < 20 or len(t2) < 20) and abs(len(t1)-len(t2)) > 30))"
   ]
  },
  {
   "cell_type": "markdown",
   "metadata": {},
   "source": [
    "data is loaded from the CORE directory"
   ]
  },
  {
   "cell_type": "code",
   "execution_count": 7,
   "metadata": {
    "collapsed": true,
    "execution": {
     "iopub.execute_input": "2021-04-08T19:28:22.604619Z",
     "iopub.status.busy": "2021-04-08T19:28:22.604366Z",
     "iopub.status.idle": "2021-04-08T20:52:26.077345Z",
     "shell.execute_reply": "2021-04-08T20:52:26.075866Z",
     "shell.execute_reply.started": "2021-04-08T19:28:22.604583Z"
    },
    "jupyter": {
     "outputs_hidden": true
    },
    "tags": []
   },
   "outputs": [
    {
     "name": "stdout",
     "output_type": "stream",
     "text": [
      "2021-04-08 19:28:22.625175\n",
      "001\n",
      "2021-04-08 19:28:56.241732\n",
      "002\n",
      "2021-04-08 19:29:10.501211\n",
      "003\n",
      "2021-04-08 19:29:32.244258\n",
      "004\n",
      "2021-04-08 19:30:10.262153\n",
      "005\n",
      "2021-04-08 19:30:34.274285\n",
      "006\n",
      "2021-04-08 19:31:10.066201\n",
      "007\n",
      "2021-04-08 19:31:40.087070\n",
      "008\n",
      "2021-04-08 19:31:41.621784\n",
      "009\n",
      "2021-04-08 19:31:43.162061\n",
      "010\n",
      "2021-04-08 19:32:02.766443\n",
      "011\n",
      "2021-04-08 19:32:34.910860\n",
      "012\n",
      "2021-04-08 19:33:05.096864\n",
      "013\n",
      "2021-04-08 19:33:34.013624\n",
      "014\n",
      "2021-04-08 19:34:15.324806\n",
      "015\n",
      "2021-04-08 19:34:30.124443\n",
      "016\n",
      "2021-04-08 19:34:41.912931\n",
      "017\n",
      "2021-04-08 19:35:21.373632\n",
      "018\n",
      "2021-04-08 19:35:38.001168\n",
      "019\n",
      "2021-04-08 19:36:06.515262\n",
      "020\n",
      "2021-04-08 19:36:08.370141\n",
      "021\n",
      "2021-04-08 19:36:32.407680\n",
      "022\n",
      "2021-04-08 19:36:55.727786\n",
      "023\n",
      "2021-04-08 19:37:50.434034\n",
      "024\n",
      "2021-04-08 19:37:58.307383\n",
      "025\n",
      "2021-04-08 19:38:30.837643\n",
      "026\n",
      "2021-04-08 19:38:33.640238\n",
      "027\n",
      "2021-04-08 19:39:07.170664\n",
      "028\n",
      "2021-04-08 19:39:19.527213\n",
      "029\n",
      "2021-04-08 19:40:30.075409\n",
      "030\n",
      "2021-04-08 19:41:08.535386\n",
      "031\n",
      "2021-04-08 19:41:23.441667\n",
      "032\n",
      "2021-04-08 19:41:39.880119\n",
      "033\n",
      "2021-04-08 19:42:17.573509\n",
      "034\n",
      "2021-04-08 19:43:12.987716\n",
      "035\n",
      "2021-04-08 19:43:43.956589\n",
      "036\n",
      "2021-04-08 19:44:15.359951\n",
      "037\n",
      "2021-04-08 19:44:29.380686\n",
      "038\n",
      "2021-04-08 19:44:43.595274\n",
      "039\n",
      "2021-04-08 19:44:57.732541\n",
      "040\n",
      "2021-04-08 19:45:13.301809\n",
      "041\n",
      "2021-04-08 19:45:27.490922\n",
      "042\n",
      "2021-04-08 19:45:41.383048\n",
      "043\n",
      "2021-04-08 19:45:55.459548\n",
      "044\n",
      "2021-04-08 19:46:09.651262\n",
      "045\n",
      "2021-04-08 19:48:19.208078\n",
      "054\n",
      "2021-04-08 19:48:35.993550\n",
      "055\n",
      "2021-04-08 19:48:50.408707\n",
      "056\n",
      "2021-04-08 19:49:00.552522\n",
      "057\n",
      "2021-04-08 19:49:23.241003\n",
      "058\n",
      "2021-04-08 19:49:46.949503\n",
      "059\n",
      "2021-04-08 19:50:12.219083\n",
      "060\n",
      "2021-04-08 19:50:36.263039\n",
      "061\n",
      "2021-04-08 19:51:01.293860\n",
      "062\n",
      "2021-04-08 19:51:26.911337\n",
      "063\n",
      "2021-04-08 19:51:54.209972\n",
      "064\n",
      "2021-04-08 19:52:27.105435\n",
      "065\n",
      "2021-04-08 19:53:02.891961\n",
      "066\n",
      "2021-04-08 19:53:35.021359\n",
      "067\n",
      "2021-04-08 19:54:03.706828\n",
      "068\n",
      "2021-04-08 19:54:25.818503\n",
      "069\n",
      "2021-04-08 19:54:57.539282\n",
      "070\n",
      "2021-04-08 19:55:30.691089\n",
      "071\n",
      "2021-04-08 19:55:36.649068\n",
      "072\n",
      "2021-04-08 19:55:51.747918\n",
      "073\n",
      "2021-04-08 19:56:06.001525\n",
      "074\n",
      "2021-04-08 19:56:14.550951\n",
      "075\n",
      "2021-04-08 19:56:27.434186\n",
      "076\n",
      "2021-04-08 19:56:50.468788\n",
      "077\n",
      "2021-04-08 19:57:30.573028\n",
      "078\n",
      "2021-04-08 19:57:55.951344\n",
      "079\n",
      "2021-04-08 19:58:03.678906\n",
      "080\n",
      "2021-04-08 19:58:10.401015\n",
      "081\n",
      "2021-04-08 19:58:17.794313\n",
      "082\n",
      "2021-04-08 19:58:40.788202\n",
      "083\n",
      "2021-04-08 19:59:04.933117\n",
      "084\n",
      "2021-04-08 19:59:12.814421\n",
      "085\n",
      "2021-04-08 19:59:40.602685\n",
      "086\n",
      "2021-04-08 20:00:10.273779\n",
      "087\n",
      "2021-04-08 20:00:40.817500\n",
      "088\n",
      "2021-04-08 20:00:48.697684\n",
      "089\n",
      "2021-04-08 20:01:01.658427\n",
      "090\n",
      "2021-04-08 20:01:13.131023\n",
      "091\n",
      "2021-04-08 20:01:57.634699\n",
      "092\n",
      "2021-04-08 20:02:57.757081\n",
      "093\n",
      "2021-04-08 20:03:23.219717\n",
      "094\n",
      "2021-04-08 20:03:58.776314\n",
      "095\n",
      "2021-04-08 20:04:23.069026\n",
      "096\n",
      "2021-04-08 20:04:49.069993\n",
      "097\n",
      "2021-04-08 20:05:49.997737\n",
      "098\n",
      "2021-04-08 20:05:56.057935\n",
      "099\n",
      "2021-04-08 20:06:16.432136\n",
      "100\n",
      "2021-04-08 20:06:46.492698\n",
      "101\n",
      "2021-04-08 20:07:06.534530\n",
      "102\n",
      "2021-04-08 20:07:20.613231\n",
      "103\n",
      "2021-04-08 20:07:38.952370\n",
      "104\n",
      "2021-04-08 20:07:58.612365\n",
      "105\n",
      "2021-04-08 20:09:14.066428\n",
      "106\n",
      "2021-04-08 20:09:39.758285\n",
      "107\n",
      "2021-04-08 20:10:01.607838\n",
      "108\n",
      "2021-04-08 20:10:17.082549\n",
      "109\n",
      "2021-04-08 20:10:32.641145\n",
      "110\n",
      "2021-04-08 20:10:57.917979\n",
      "111\n",
      "2021-04-08 20:11:40.993321\n",
      "112\n",
      "2021-04-08 20:12:30.758872\n",
      "113\n",
      "2021-04-08 20:12:57.299388\n",
      "114\n",
      "2021-04-08 20:13:04.937252\n",
      "115\n",
      "2021-04-08 20:13:33.700245\n",
      "116\n",
      "2021-04-08 20:13:39.663070\n",
      "117\n",
      "2021-04-08 20:14:09.079523\n",
      "118\n",
      "2021-04-08 20:14:35.024149\n",
      "119\n",
      "2021-04-08 20:15:03.031992\n",
      "120\n",
      "2021-04-08 20:15:19.847759\n",
      "121\n",
      "2021-04-08 20:16:02.378240\n",
      "122\n",
      "2021-04-08 20:16:41.507989\n",
      "123\n",
      "2021-04-08 20:17:06.729853\n",
      "124\n",
      "2021-04-08 20:17:52.994476\n",
      "125\n",
      "2021-04-08 20:18:37.003475\n",
      "126\n",
      "2021-04-08 20:19:04.976167\n",
      "127\n",
      "2021-04-08 20:19:31.977020\n",
      "128\n",
      "2021-04-08 20:19:58.847726\n",
      "129\n",
      "2021-04-08 20:20:26.350313\n",
      "130\n",
      "2021-04-08 20:20:52.610162\n",
      "131\n",
      "2021-04-08 20:21:20.781940\n",
      "132\n",
      "2021-04-08 20:21:50.384453\n",
      "133\n",
      "2021-04-08 20:22:18.455601\n",
      "134\n",
      "2021-04-08 20:22:49.274403\n",
      "135\n",
      "2021-04-08 20:23:26.876744\n",
      "136\n",
      "2021-04-08 20:23:54.582657\n",
      "137\n",
      "2021-04-08 20:24:14.575818\n",
      "138\n",
      "2021-04-08 20:24:36.678863\n",
      "139\n",
      "2021-04-08 20:24:58.888694\n",
      "140\n",
      "2021-04-08 20:25:21.075692\n",
      "141\n",
      "2021-04-08 20:25:43.320821\n",
      "142\n",
      "2021-04-08 20:26:05.131774\n",
      "143\n",
      "2021-04-08 20:26:27.215532\n",
      "144\n",
      "2021-04-08 20:26:49.190390\n",
      "145\n",
      "2021-04-08 20:27:11.302619\n",
      "146\n",
      "2021-04-08 20:27:35.538503\n",
      "147\n",
      "2021-04-08 20:28:00.576812\n",
      "148\n",
      "2021-04-08 20:28:48.347369\n",
      "149\n",
      "2021-04-08 20:29:14.339516\n",
      "150\n",
      "2021-04-08 20:29:20.963149\n",
      "151\n",
      "2021-04-08 20:30:06.013235\n",
      "152\n",
      "2021-04-08 20:30:33.576231\n",
      "153\n",
      "2021-04-08 20:30:46.648724\n",
      "154\n",
      "2021-04-08 20:31:46.127181\n",
      "155\n",
      "2021-04-08 20:31:59.188374\n",
      "156\n",
      "2021-04-08 20:32:28.192620\n",
      "157\n",
      "2021-04-08 20:32:58.322707\n",
      "158\n",
      "2021-04-08 20:33:08.456063\n",
      "159\n",
      "2021-04-08 20:33:11.086041\n",
      "160\n",
      "2021-04-08 20:33:21.778480\n",
      "161\n",
      "2021-04-08 20:33:39.307451\n",
      "162\n",
      "2021-04-08 20:34:11.430360\n",
      "163\n",
      "2021-04-08 20:34:25.959836\n",
      "164\n",
      "2021-04-08 20:35:22.102262\n",
      "165\n",
      "2021-04-08 20:35:50.978680\n",
      "166\n",
      "2021-04-08 20:36:18.198336\n",
      "167\n",
      "2021-04-08 20:37:17.347494\n",
      "168\n",
      "2021-04-08 20:37:43.871089\n",
      "169\n",
      "2021-04-08 20:38:10.703558\n",
      "170\n",
      "2021-04-08 20:38:31.161194\n",
      "171\n",
      "2021-04-08 20:38:47.728532\n",
      "172\n",
      "2021-04-08 20:38:49.105735\n",
      "173\n",
      "2021-04-08 20:38:53.371345\n",
      "174\n",
      "2021-04-08 20:39:00.202485\n",
      "175\n",
      "2021-04-08 20:39:20.582543\n",
      "176\n",
      "2021-04-08 20:39:43.739181\n",
      "177\n",
      "2021-04-08 20:40:05.087212\n",
      "178\n",
      "2021-04-08 20:40:27.592615\n",
      "179\n",
      "2021-04-08 20:41:10.524163\n",
      "180\n",
      "2021-04-08 20:41:47.006837\n",
      "181\n",
      "2021-04-08 20:42:09.647826\n",
      "182\n",
      "2021-04-08 20:42:49.789110\n",
      "183\n",
      "2021-04-08 20:43:19.900084\n",
      "184\n",
      "2021-04-08 20:43:53.372815\n",
      "185\n",
      "2021-04-08 20:44:26.948155\n",
      "186\n",
      "2021-04-08 20:44:59.912084\n",
      "187\n",
      "2021-04-08 20:45:33.099999\n",
      "188\n",
      "2021-04-08 20:46:06.304626\n",
      "189\n",
      "2021-04-08 20:46:43.350927\n",
      "190\n",
      "2021-04-08 20:47:17.190632\n",
      "191\n",
      "2021-04-08 20:47:36.652317\n",
      "192\n",
      "2021-04-08 20:47:52.044660\n",
      "193\n",
      "2021-04-08 20:48:06.396458\n",
      "194\n",
      "2021-04-08 20:48:25.746071\n",
      "195\n",
      "2021-04-08 20:48:47.444564\n",
      "196\n",
      "2021-04-08 20:49:01.530724\n",
      "197\n",
      "2021-04-08 20:49:04.664649\n"
     ]
    }
   ],
   "source": [
    "print(datetime.now())\n",
    "all_data = []\n",
    "for path in input_filepaths:\n",
    "    print(basename(path))\n",
    "    rdd = sc.textFile(f\"file://{getcwd()}/{path}\")\n",
    "    data = rdd.map(lambda line: id_to_auth_doi(loads(line)))\n",
    "    all_data = all_data + data.collect()\n",
    "    print(datetime.now())\n",
    "dump({\"all_data\":all_data},open(\"results/mag_match/matching_data_complete.json\",\"w+\"))"
   ]
  },
  {
   "cell_type": "code",
   "execution_count": 2,
   "metadata": {
    "execution": {
     "iopub.execute_input": "2021-04-09T08:24:23.647929Z",
     "iopub.status.busy": "2021-04-09T08:24:23.647151Z",
     "iopub.status.idle": "2021-04-09T08:25:12.703279Z",
     "shell.execute_reply": "2021-04-09T08:25:12.701963Z",
     "shell.execute_reply.started": "2021-04-09T08:24:23.647863Z"
    }
   },
   "outputs": [],
   "source": [
    "from json import load\n",
    "all_data = load(open(\"results/mag_match/matching_data_complete.json\",\"r\"))['all_data']"
   ]
  },
  {
   "cell_type": "markdown",
   "metadata": {},
   "source": [
    "A dictionary with all dois in the CORE set is created, so all data linked with this doi can be accessed via the dictionary. The same thing as with dois is done with titles. All entries with a certain title are stored in a dictionary with the title as key.\n",
    "\n",
    "For even faster access, a set of all the dois and all titles is created."
   ]
  },
  {
   "cell_type": "code",
   "execution_count": 3,
   "metadata": {
    "execution": {
     "iopub.execute_input": "2021-04-09T08:25:12.705572Z",
     "iopub.status.busy": "2021-04-09T08:25:12.705283Z",
     "iopub.status.idle": "2021-04-09T08:25:21.707294Z",
     "shell.execute_reply": "2021-04-09T08:25:21.706327Z",
     "shell.execute_reply.started": "2021-04-09T08:25:12.705520Z"
    }
   },
   "outputs": [],
   "source": [
    "doi_dict = {}\n",
    "no_doi = 0\n",
    "invalid_doi = 0\n",
    "doi_set = set([entry[3].replace(' ','') if entry[3] else None for entry in all_data])\n",
    "\n",
    "title_set = set([entry[1] for entry in all_data])\n",
    "title_set.remove(None)\n",
    "doi_set.remove(None)\n",
    "auth_dict = {}"
   ]
  },
  {
   "cell_type": "code",
   "execution_count": 4,
   "metadata": {
    "execution": {
     "iopub.execute_input": "2021-04-09T08:25:21.709407Z",
     "iopub.status.busy": "2021-04-09T08:25:21.709145Z",
     "iopub.status.idle": "2021-04-09T08:25:21.729285Z",
     "shell.execute_reply": "2021-04-09T08:25:21.728083Z",
     "shell.execute_reply.started": "2021-04-09T08:25:21.709367Z"
    }
   },
   "outputs": [
    {
     "data": {
      "text/plain": [
       "True"
      ]
     },
     "execution_count": 4,
     "metadata": {},
     "output_type": "execute_result"
    }
   ],
   "source": [
    "\"10.1016/j.jcmg.2011.07.003\" in doi_set"
   ]
  },
  {
   "cell_type": "code",
   "execution_count": 5,
   "metadata": {
    "execution": {
     "iopub.execute_input": "2021-04-09T08:25:21.731651Z",
     "iopub.status.busy": "2021-04-09T08:25:21.731268Z",
     "iopub.status.idle": "2021-04-09T08:25:24.868790Z",
     "shell.execute_reply": "2021-04-09T08:25:24.867366Z",
     "shell.execute_reply.started": "2021-04-09T08:25:21.731597Z"
    }
   },
   "outputs": [
    {
     "name": "stdout",
     "output_type": "stream",
     "text": [
      "['82716629', 'Surgery, angioplasty, or medical therapy for symptomatic multivessel coronary artery disease Is there an indisputable “winning strategy” from evidence-based clinical trials?**Editorials published in the Journal of the American College of Cardiologyreflect the views of the authors and do not necessarily represent the views of JACCor the American College of Cardiology.', ['Boden, William E'], '10.1016/j.jacc.2004.02.025', 2004]\n",
      "['82328339', 'Ranolazine and Its Anti-Ischemic Effects Revisiting an Old Mechanistic Paradigm Anew?⁎⁎Editorials published in the Journal of the American College of Cardiologyreflect the views of the authors and do not necessarily represent the views of JACCor the American College of Cardiology.', ['Boden, William E.'], '10.1016/j.jacc.2010.07.010', 2010]\n",
      "['82348440', 'Is Myocardial Perfusion Imaging an Important Predictor of Mortality in Women And if So, Is This Likely Cost Effective?⁎⁎Editorials published in JACC: Cardiovascular Imaging reflect the views of the authors and do not necessarily represent the views of JACC: Cardiovascular Imaging or the American College of Cardiology.', ['Boden, William E.'], '10.1016/j.jcmg.2011.07.003', 2011]\n"
     ]
    }
   ],
   "source": [
    "query = (\"10.1016/j.jcmg.2011.07.003\",\"10.1016/j.jacc.2010.07.010\",\"10.1016/j.jacc.2004.02.025\")\n",
    "for entry in all_data:\n",
    "    if entry[3] in query:\n",
    "        print(entry)"
   ]
  },
  {
   "cell_type": "markdown",
   "metadata": {},
   "source": []
  },
  {
   "cell_type": "code",
   "execution_count": 6,
   "metadata": {
    "execution": {
     "iopub.execute_input": "2021-04-09T08:25:24.871356Z",
     "iopub.status.busy": "2021-04-09T08:25:24.870917Z",
     "iopub.status.idle": "2021-04-09T08:26:21.073639Z",
     "shell.execute_reply": "2021-04-09T08:26:21.072499Z",
     "shell.execute_reply.started": "2021-04-09T08:25:24.871296Z"
    }
   },
   "outputs": [
    {
     "name": "stdout",
     "output_type": "stream",
     "text": [
      "Len all:  6531442\n",
      "Len title_set:  5746594\n",
      "Len doi_set:  2282164\n",
      "No title: 7518\n",
      "no DOI: 3902844\n",
      "invalid DOI: 37\n"
     ]
    }
   ],
   "source": [
    "from re import match\n",
    "\n",
    "\n",
    "no_title = 0\n",
    "for entry in all_data:\n",
    "    if not entry[1]:\n",
    "        no_title += 1\n",
    "    elif not entry[1] in auth_dict:\n",
    "        auth_dict[entry[1]] = [entry]\n",
    "    else:\n",
    "        auth_dict[entry[1]] = auth_dict[entry[1]] + [entry]\n",
    "        \n",
    "    if not entry[3]:\n",
    "        no_doi += 1\n",
    "        continue\n",
    "    else:\n",
    "        if match(r\"10.\\d{4,9}/[-\\._;\\(\\)/:a-zA-Z0-9]+ *\",entry[3]).group() != entry[3]:\n",
    "            invalid_doi += 1        \n",
    "        if not entry[3] in doi_dict:\n",
    "            doi_dict[entry[3]] = [entry]\n",
    "        else:\n",
    "            doi_dict[entry[3]] = doi_dict[entry[3]] + [entry]\n",
    "\n",
    "print(\"Len all: \",len(all_data))\n",
    "print(\"Len title_set: \",len(title_set))\n",
    "print(\"Len doi_set: \",len(doi_set))\n",
    "print(f\"No title: {no_title}\")\n",
    "print(f\"no DOI: {no_doi}\")\n",
    "print(f\"invalid DOI: {invalid_doi}\")"
   ]
  },
  {
   "cell_type": "markdown",
   "metadata": {},
   "source": [
    "Now we go through all 208,915,369 entries of the Microsoft Academic Graph.\n",
    "If title or doi of the entry are present in the respective sets created above, the MAG entry might be a match for one of our CORE entries. Only entries with **exactly** the same title or doi are matched.\n",
    "\n",
    "If a potential match is found, all the CORe entries with the matching title or doi are accessed via the dictionary created before.\n",
    "For matches via a doi, the match is confirmed if also the titles of the two entries are consiered similar by the levenshtein-compare method defined above.\n",
    "\n",
    "For matches via the title, the match is confirmed if both entries were published in the same year and at least one author can be found in both entries.\n",
    "\n",
    "\n",
    "If a match is confirmed, the ids of both entries are added to a list of matches and the MAG entry is written to an output file."
   ]
  },
  {
   "cell_type": "code",
   "execution_count": 3,
   "metadata": {
    "execution": {
     "iopub.execute_input": "2021-05-19T08:16:18.852696Z",
     "iopub.status.busy": "2021-05-19T08:16:18.851953Z",
     "iopub.status.idle": "2021-05-19T08:16:18.859707Z",
     "shell.execute_reply": "2021-05-19T08:16:18.858015Z",
     "shell.execute_reply.started": "2021-05-19T08:16:18.852623Z"
    }
   },
   "outputs": [],
   "source": [
    "oag_path = \"/home/jovyan/mnt/ceph/storage/corpora/corpora-thirdparty/corpus-microsoft-open-academic-graph/\""
   ]
  },
  {
   "cell_type": "code",
   "execution_count": 10,
   "metadata": {
    "execution": {
     "iopub.execute_input": "2021-04-09T08:27:01.130961Z",
     "iopub.status.busy": "2021-04-09T08:27:01.130429Z",
     "iopub.status.idle": "2021-04-09T10:00:34.215615Z",
     "shell.execute_reply": "2021-04-09T10:00:34.191577Z",
     "shell.execute_reply.started": "2021-04-09T08:27:01.130898Z"
    }
   },
   "outputs": [
    {
     "name": "stdout",
     "output_type": "stream",
     "text": [
      "2021-04-09 08:27:01.168971\n",
      "0\n",
      "0\n",
      "10000000\n",
      "20000000\n",
      "1\n",
      "0\n",
      "10000000\n",
      "2\n",
      "0\n",
      "10000000\n",
      "3\n",
      "0\n",
      "10000000\n",
      "4\n",
      "0\n",
      "10000000\n",
      "20000000\n",
      "5\n",
      "0\n",
      "10000000\n",
      "20000000\n",
      "6\n",
      "0\n",
      "10000000\n",
      "7\n",
      "0\n",
      "10000000\n",
      "20000000\n",
      "8\n",
      "0\n",
      "10000000\n",
      "20000000\n",
      "9\n",
      "0\n",
      "10000000\n",
      "20000000\n",
      "10\n",
      "0\n"
     ]
    },
    {
     "ename": "FileNotFoundError",
     "evalue": "[Errno 2] No such file or directory: 'results/mag_match/matches.json'",
     "output_type": "error",
     "traceback": [
      "\u001b[0;31m---------------------------------------------------------------------------\u001b[0m",
      "\u001b[0;31mFileNotFoundError\u001b[0m                         Traceback (most recent call last)",
      "\u001b[0;32m<ipython-input-10-971f5340d4a5>\u001b[0m in \u001b[0;36m<module>\u001b[0;34m\u001b[0m\n\u001b[1;32m     40\u001b[0m                                 \u001b[0;32mbreak\u001b[0m\u001b[0;34m\u001b[0m\u001b[0;34m\u001b[0m\u001b[0m\n\u001b[1;32m     41\u001b[0m \u001b[0;34m\u001b[0m\u001b[0m\n\u001b[0;32m---> 42\u001b[0;31m \u001b[0mdump\u001b[0m\u001b[0;34m(\u001b[0m\u001b[0;34m{\u001b[0m\u001b[0;34m\"matches\"\u001b[0m\u001b[0;34m:\u001b[0m\u001b[0mmatches\u001b[0m\u001b[0;34m}\u001b[0m\u001b[0;34m,\u001b[0m\u001b[0mopen\u001b[0m\u001b[0;34m(\u001b[0m\u001b[0;34m\"results/mag_match/matches.json\"\u001b[0m\u001b[0;34m,\u001b[0m\u001b[0;34m\"w+\"\u001b[0m\u001b[0;34m)\u001b[0m\u001b[0;34m)\u001b[0m\u001b[0;34m\u001b[0m\u001b[0;34m\u001b[0m\u001b[0m\n\u001b[0m\u001b[1;32m     43\u001b[0m \u001b[0mprint\u001b[0m\u001b[0;34m(\u001b[0m\u001b[0mdatetime\u001b[0m\u001b[0;34m.\u001b[0m\u001b[0mnow\u001b[0m\u001b[0;34m(\u001b[0m\u001b[0;34m)\u001b[0m\u001b[0;34m)\u001b[0m\u001b[0;34m\u001b[0m\u001b[0;34m\u001b[0m\u001b[0m\n\u001b[1;32m     44\u001b[0m \u001b[0mprint\u001b[0m\u001b[0;34m(\u001b[0m\u001b[0;34mf\"Matched by title, year and at least one author: {titlematch}\"\u001b[0m\u001b[0;34m)\u001b[0m\u001b[0;34m\u001b[0m\u001b[0;34m\u001b[0m\u001b[0m\n",
      "\u001b[0;31mFileNotFoundError\u001b[0m: [Errno 2] No such file or directory: 'results/mag_match/matches.json'"
     ]
    }
   ],
   "source": [
    "from os.path import join\n",
    "output_path = \"mag_sets/mag_in_core2\"\n",
    "matches = []\n",
    "\n",
    "with open(output_path, \"w+\") as output_file:\n",
    "    doimatch = 0\n",
    "    titlematch = 0\n",
    "    titlematch_no_auth = 0\n",
    "    print(datetime.now())\n",
    "    for j in range(11):\n",
    "        print(j)\n",
    "        with open(join(oag_path, \"mag_papers_\" + str(j) +  \".txt\"), \"r\") as f:\n",
    "            for i, line in enumerate(f):\n",
    "                if i%10000000 == 0: print(i)\n",
    "                myjson = loads(line)\n",
    "                if 'doi' in myjson and myjson['doi'] in doi_set:\n",
    "                    for entry in doi_dict[myjson['doi']]:\n",
    "                        if myjson['title'] == entry[1] or levenshtein_compare(myjson['title'], entry[1]):\n",
    "                            dump(myjson, output_file)\n",
    "                            output_file.write(\"\\n\")\n",
    "                            doimatch += 1\n",
    "                            matches.append((myjson['id'],entry[0]))\n",
    "                            break         \n",
    "                elif 'title' in myjson and myjson['title'] in title_set:\n",
    "                    if 'year' in myjson:\n",
    "                        for entry in auth_dict[myjson['title']]:\n",
    "                            if myjson['year'] == entry[4] and 'authors' in myjson and len(myjson['authors']) > 0:\n",
    "                                for authn in myjson['authors']:\n",
    "                                    auth = authn['name'].lower().split()\n",
    "                                    lname = auth[-1]\n",
    "                                    fname = auth[0]\n",
    "                                    if any([True if isinstance(n,str) and (n.lower().find(lname)>-1 or n.lower().find(fname)>-1) else False for n in entry[2]]):\n",
    "                                        dump(myjson, output_file)\n",
    "                                        output_file.write(\"\\n\")\n",
    "                                        titlematch += 1\n",
    "                                        matches.append((myjson['id'],entry[0]))\n",
    "                                        break\n",
    "                                else:\n",
    "                                    continue\n",
    "                                break\n",
    "                                          \n",
    "dump({\"matches\":matches},open(\"results/mag_match/matches.json\",\"w+\"))\n",
    "print(datetime.now())                           \n",
    "print(f\"Matched by title, year and at least one author: {titlematch}\")\n",
    "print(f\"Matched by DOI and title: {doimatch}\")"
   ]
  },
  {
   "cell_type": "code",
   "execution_count": 4,
   "metadata": {
    "execution": {
     "iopub.execute_input": "2021-05-19T08:16:25.619500Z",
     "iopub.status.busy": "2021-05-19T08:16:25.619064Z",
     "iopub.status.idle": "2021-05-19T08:25:15.125935Z",
     "shell.execute_reply": "2021-05-19T08:25:15.124555Z",
     "shell.execute_reply.started": "2021-05-19T08:16:25.619456Z"
    }
   },
   "outputs": [
    {
     "name": "stdout",
     "output_type": "stream",
     "text": [
      "0\n",
      "1\n",
      "2\n",
      "3\n",
      "4\n",
      "5\n",
      "6\n",
      "7\n",
      "8\n",
      "9\n",
      "10\n",
      "Total of entries in OAG: 208915369\n"
     ]
    }
   ],
   "source": [
    "from os.path import join\n",
    "\n",
    "i = 0\n",
    "for j in range(11):\n",
    "    print(j)\n",
    "    with open(join(oag_path, \"mag_papers_\" + str(j) +  \".txt\"), \"r\") as f:\n",
    "        for line in f:\n",
    "            i+=1\n",
    "print(f'Total of entries in OAG: {i}')"
   ]
  },
  {
   "cell_type": "markdown",
   "metadata": {},
   "source": [
    "The matches found are written to a file for processing later in the merging process"
   ]
  },
  {
   "cell_type": "code",
   "execution_count": 11,
   "metadata": {
    "execution": {
     "iopub.execute_input": "2021-04-09T10:15:23.426251Z",
     "iopub.status.busy": "2021-04-09T10:15:23.425720Z",
     "iopub.status.idle": "2021-04-09T10:16:13.424531Z",
     "shell.execute_reply": "2021-04-09T10:16:13.422954Z",
     "shell.execute_reply.started": "2021-04-09T10:15:23.426194Z"
    }
   },
   "outputs": [
    {
     "name": "stdout",
     "output_type": "stream",
     "text": [
      "2021-04-09 10:16:13.416659\n",
      "Matched by title, year and at least one author: 1486254\n",
      "Matched by DOI and title: 2080977\n"
     ]
    }
   ],
   "source": [
    "dump({\"matches\":matches},open(\"results/mag_match/matches.json\",\"w+\"))\n",
    "print(datetime.now())                           \n",
    "print(f\"Matched by title, year and at least one author: {titlematch}\")\n",
    "print(f\"Matched by DOI and title: {doimatch}\")"
   ]
  },
  {
   "cell_type": "markdown",
   "metadata": {},
   "source": [
    "## Results check\n",
    "We make some analyses on the matches created and check for potential problems.\n",
    "We especially look at how many entries have more than one match and check specific entries that caused problem in earlier runs of the matching."
   ]
  },
  {
   "cell_type": "code",
   "execution_count": 12,
   "metadata": {
    "execution": {
     "iopub.execute_input": "2021-04-09T10:16:13.428046Z",
     "iopub.status.busy": "2021-04-09T10:16:13.427566Z",
     "iopub.status.idle": "2021-04-09T10:16:13.434461Z",
     "shell.execute_reply": "2021-04-09T10:16:13.433067Z",
     "shell.execute_reply.started": "2021-04-09T10:16:13.427974Z"
    }
   },
   "outputs": [],
   "source": [
    "from json import load\n",
    "matches = load(open(\"results/mag_match/matches.json\",\"r\"))['matches']"
   ]
  },
  {
   "cell_type": "code",
   "execution_count": 13,
   "metadata": {
    "execution": {
     "iopub.execute_input": "2021-04-09T10:16:13.438022Z",
     "iopub.status.busy": "2021-04-09T10:16:13.437554Z",
     "iopub.status.idle": "2021-04-09T10:16:13.549262Z",
     "shell.execute_reply": "2021-04-09T10:16:13.547972Z",
     "shell.execute_reply.started": "2021-04-09T10:16:13.437961Z"
    }
   },
   "outputs": [
    {
     "data": {
      "text/plain": [
       "('1000000185', '42023535')"
      ]
     },
     "execution_count": 13,
     "metadata": {},
     "output_type": "execute_result"
    }
   ],
   "source": [
    "matches[0]"
   ]
  },
  {
   "cell_type": "code",
   "execution_count": 14,
   "metadata": {
    "execution": {
     "iopub.execute_input": "2021-04-09T10:16:13.552780Z",
     "iopub.status.busy": "2021-04-09T10:16:13.552263Z",
     "iopub.status.idle": "2021-04-09T10:16:16.319247Z",
     "shell.execute_reply": "2021-04-09T10:16:16.317975Z",
     "shell.execute_reply.started": "2021-04-09T10:16:13.552718Z"
    }
   },
   "outputs": [
    {
     "name": "stdout",
     "output_type": "stream",
     "text": [
      "3567231   3567231\n"
     ]
    }
   ],
   "source": [
    "mag_ids = [x[0] for x in matches]\n",
    "core_ids = [x[1] for x in matches]\n",
    "print(len(mag_ids),\" \",len(core_ids))"
   ]
  },
  {
   "cell_type": "code",
   "execution_count": 15,
   "metadata": {
    "execution": {
     "iopub.execute_input": "2021-04-09T10:16:16.321989Z",
     "iopub.status.busy": "2021-04-09T10:16:16.321414Z",
     "iopub.status.idle": "2021-04-09T10:16:19.519414Z",
     "shell.execute_reply": "2021-04-09T10:16:19.518076Z",
     "shell.execute_reply.started": "2021-04-09T10:16:16.321926Z"
    }
   },
   "outputs": [
    {
     "name": "stdout",
     "output_type": "stream",
     "text": [
      "3567231   3508509\n"
     ]
    }
   ],
   "source": [
    "print(len(set(mag_ids)),\" \",len(set(core_ids)))"
   ]
  },
  {
   "cell_type": "code",
   "execution_count": 16,
   "metadata": {
    "execution": {
     "iopub.execute_input": "2021-04-09T10:16:19.521914Z",
     "iopub.status.busy": "2021-04-09T10:16:19.521456Z",
     "iopub.status.idle": "2021-04-09T10:16:25.165557Z",
     "shell.execute_reply": "2021-04-09T10:16:25.163630Z",
     "shell.execute_reply.started": "2021-04-09T10:16:19.521855Z"
    }
   },
   "outputs": [],
   "source": [
    "import pandas as pd\n",
    "\n",
    "match_frame = pd.DataFrame({\"mag\":mag_ids,\"core\":core_ids})"
   ]
  },
  {
   "cell_type": "code",
   "execution_count": 17,
   "metadata": {
    "execution": {
     "iopub.execute_input": "2021-04-09T10:16:25.168414Z",
     "iopub.status.busy": "2021-04-09T10:16:25.167885Z",
     "iopub.status.idle": "2021-04-09T10:16:38.712801Z",
     "shell.execute_reply": "2021-04-09T10:16:38.711937Z",
     "shell.execute_reply.started": "2021-04-09T10:16:25.168350Z"
    }
   },
   "outputs": [
    {
     "data": {
      "text/plain": [
       "81276629    14\n",
       "81073403    12\n",
       "82262567    12\n",
       "81789836    11\n",
       "81778558    11\n",
       "            ..\n",
       "38931941     2\n",
       "78103392     2\n",
       "12025884     2\n",
       "2094021      2\n",
       "11470177     2\n",
       "Name: core, Length: 50343, dtype: int64"
      ]
     },
     "execution_count": 17,
     "metadata": {},
     "output_type": "execute_result"
    }
   ],
   "source": [
    "y = match_frame['core'].value_counts()\n",
    "y[y > 1]"
   ]
  },
  {
   "cell_type": "code",
   "execution_count": 18,
   "metadata": {
    "execution": {
     "iopub.execute_input": "2021-04-09T10:16:38.715647Z",
     "iopub.status.busy": "2021-04-09T10:16:38.715202Z",
     "iopub.status.idle": "2021-04-09T10:16:48.636197Z",
     "shell.execute_reply": "2021-04-09T10:16:48.634675Z",
     "shell.execute_reply.started": "2021-04-09T10:16:38.715583Z"
    }
   },
   "outputs": [
    {
     "data": {
      "text/plain": [
       "Series([], Name: mag, dtype: int64)"
      ]
     },
     "execution_count": 18,
     "metadata": {},
     "output_type": "execute_result"
    }
   ],
   "source": [
    "x = match_frame['mag'].value_counts()\n",
    "x[x > 1]"
   ]
  },
  {
   "cell_type": "code",
   "execution_count": 19,
   "metadata": {
    "execution": {
     "iopub.execute_input": "2021-04-09T10:16:48.639365Z",
     "iopub.status.busy": "2021-04-09T10:16:48.638840Z",
     "iopub.status.idle": "2021-04-09T10:16:49.307781Z",
     "shell.execute_reply": "2021-04-09T10:16:49.306743Z",
     "shell.execute_reply.started": "2021-04-09T10:16:48.639296Z"
    }
   },
   "outputs": [
    {
     "name": "stdout",
     "output_type": "stream",
     "text": [
      "False\n",
      "False\n",
      "False\n"
     ]
    }
   ],
   "source": [
    "for x in query:\n",
    "    print(x in mag_ids)"
   ]
  },
  {
   "cell_type": "code",
   "execution_count": 20,
   "metadata": {
    "execution": {
     "iopub.execute_input": "2021-04-09T10:16:49.310081Z",
     "iopub.status.busy": "2021-04-09T10:16:49.309686Z",
     "iopub.status.idle": "2021-04-09T10:16:50.204649Z",
     "shell.execute_reply": "2021-04-09T10:16:50.203809Z",
     "shell.execute_reply.started": "2021-04-09T10:16:49.310031Z"
    }
   },
   "outputs": [
    {
     "name": "stdout",
     "output_type": "stream",
     "text": [
      "True\n",
      "True\n",
      "True\n",
      "True\n"
     ]
    }
   ],
   "source": [
    "for x in ['939130355','2198205421','2207969244','2208114951']:\n",
    "    print(x in mag_ids)"
   ]
  },
  {
   "cell_type": "code",
   "execution_count": 24,
   "metadata": {
    "execution": {
     "iopub.execute_input": "2021-04-09T10:39:58.910825Z",
     "iopub.status.busy": "2021-04-09T10:39:58.910493Z",
     "iopub.status.idle": "2021-04-09T10:41:06.690787Z",
     "shell.execute_reply": "2021-04-09T10:41:06.689708Z",
     "shell.execute_reply.started": "2021-04-09T10:39:58.910787Z"
    }
   },
   "outputs": [
    {
     "name": "stdout",
     "output_type": "stream",
     "text": [
      "2021-04-09 10:41:06.685782\n"
     ]
    }
   ],
   "source": [
    "with open(output_path) as f:\n",
    "    for i,line in enumerate(f):\n",
    "        j = loads(line)\n",
    "        if j['id'] == '939130355':\n",
    "            result = j\n",
    "            break\n",
    "print(datetime.now())"
   ]
  },
  {
   "cell_type": "code",
   "execution_count": 26,
   "metadata": {
    "execution": {
     "iopub.execute_input": "2021-04-09T10:45:09.551735Z",
     "iopub.status.busy": "2021-04-09T10:45:09.551074Z",
     "iopub.status.idle": "2021-04-09T10:45:09.565845Z",
     "shell.execute_reply": "2021-04-09T10:45:09.565051Z",
     "shell.execute_reply.started": "2021-04-09T10:45:09.551696Z"
    }
   },
   "outputs": [
    {
     "name": "stdout",
     "output_type": "stream",
     "text": [
      "Matched by title:  More Words on Words More words on words\n"
     ]
    }
   ],
   "source": [
    "our_doi = '10.5235/20504721.1.1.15'\n",
    "if 'doi' in result and result['doi'] == our_doi:\n",
    "    for entry in doi_dict[result['doi']]:\n",
    "        if result['title'] == entry[1] or levenshtein_compare(result['title'], entry[1]):\n",
    "            print(\"Matched by title: \",result['title'], entry[1])\n",
    "            break         \n",
    "elif 'title' in result and result['title'] in title_set:\n",
    "    if 'year' in result:\n",
    "        for entry in auth_dict[result['title']]:\n",
    "            if result['year'] == entry[4] and 'authors' in entry and len(entry['authors']) > 0:\n",
    "                for authn in entry['authors']:\n",
    "                    auth = authn['name'].lower().split()\n",
    "                    lname = auth[-1]\n",
    "                    fname = auth[0]\n",
    "                    if any([True if isinstance(n,str) and (n.lower().find(lname)>-1 or n.lower().find(fname)>-1) else False for n in entry[2]]):\n",
    "                        print(\"Titlematch\")\n",
    "                        break\n",
    "                    else:\n",
    "                        continue\n",
    "                    break"
   ]
  },
  {
   "cell_type": "code",
   "execution_count": null,
   "metadata": {},
   "outputs": [],
   "source": []
  }
 ],
 "metadata": {
  "kernelspec": {
   "display_name": "Python 3",
   "language": "python",
   "name": "python3"
  },
  "language_info": {
   "codemirror_mode": {
    "name": "ipython",
    "version": 3
   },
   "file_extension": ".py",
   "mimetype": "text/x-python",
   "name": "python",
   "nbconvert_exporter": "python",
   "pygments_lexer": "ipython3",
   "version": "3.7.10"
  }
 },
 "nbformat": 4,
 "nbformat_minor": 4
}
